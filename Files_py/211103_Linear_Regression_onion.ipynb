{
  "nbformat": 4,
  "nbformat_minor": 5,
  "metadata": {
    "kernelspec": {
      "display_name": "Python 3",
      "language": "python",
      "name": "python3"
    },
    "language_info": {
      "codemirror_mode": {
        "name": "ipython",
        "version": 3
      },
      "file_extension": ".py",
      "mimetype": "text/x-python",
      "name": "python",
      "nbconvert_exporter": "python",
      "pygments_lexer": "ipython3",
      "version": "3.8.8"
    },
    "colab": {
      "name": "211103_Linear_Regression_onion.ipynb",
      "provenance": [],
      "collapsed_sections": [
        "9aa4336f-45c4-45ec-9589-8e3b96dab683",
        "4152c6fc-83c6-4415-93d2-7dc857ffbbfa",
        "4a55c236-c477-4ae2-96cc-4a3a3ace272f",
        "59bcbb1d-8e14-4bae-83e4-de63bf809bdb"
      ]
    }
  },
  "cells": [
    {
      "cell_type": "markdown",
      "metadata": {
        "id": "d7b55a4b-09e0-4c6d-b3d1-4ba8916506f9"
      },
      "source": [
        "##### - 빅데이터 분석과 활용 - \n",
        "- Regression 실습\n",
        "- 화 1~2\n",
        "- 부동산 예측하기 with Regression : 미국 매사추세츠주의 주택 가격 데이터(Boston Housing 1970)를 활용해 지역의 평균 주택 가격을 예측하는 선형 회귀 모델을 만들었고, 이를 기초하여 주택 가격의 영향 요소 파악 및 주택 가격 예측을 진행하였습니다."
      ],
      "id": "d7b55a4b-09e0-4c6d-b3d1-4ba8916506f9"
    },
    {
      "cell_type": "markdown",
      "metadata": {
        "id": "b47d5bb0-3eb1-4d5b-a510-1f5522ca11ca"
      },
      "source": [
        "    0. 개요\n",
        "    1. Library & Data Import\n",
        "    2. 데이터 파악 (EDA: 탐색적 데이터 분석)\n",
        "        2-1. 데이터셋 기본 정보 파악\n",
        "        2-2. 종속 변수(목표 변수) 탐색\n",
        "        2-3. 설명 변수 탐색\n",
        "        2-4. 설명변수와 종속변수 간의 관계 탐색\n",
        "    3. 주택 가격 예측 모델링: 회귀 분석\n",
        "        3-1. 데이터 전처리\n",
        "        3-2. 회귀 모델링\n",
        "        3-3. 모델 해석\n",
        "        3-4. 모델 예측 결과 및 성능 평가"
      ],
      "id": "b47d5bb0-3eb1-4d5b-a510-1f5522ca11ca"
    },
    {
      "cell_type": "code",
      "metadata": {
        "id": "35014ccd-c303-4be8-a823-536841a42f26"
      },
      "source": [
        "### 사용할 라이브러리\n",
        "import pandas as pd ### 데이터 분석을 하기 위한 파이썬 라이브러리\n",
        "import numpy as np\n",
        "import matplotlib.pyplot as plt\n",
        "import seaborn as sns\n",
        "%matplotlib inline\n",
        "\n",
        "#import warnings\n",
        "#warnings.filterwarnings(\"ignore\", category=FutureWarning)\n",
        "#warnings.filterwarnings(\"ignore\", category=DeprecationWarning)"
      ],
      "id": "35014ccd-c303-4be8-a823-536841a42f26",
      "execution_count": 437,
      "outputs": []
    },
    {
      "cell_type": "markdown",
      "metadata": {
        "id": "5ae88915-6ae9-4f83-8a7c-2381d4e18444"
      },
      "source": [
        "### 1.  사용할 데이터 셋 가져오기 : Boston Housing Dataset\n",
        "\n",
        "- 분석에 사용될 데이터셋은 Boston Housing 1970데이터의 일부 변수를 추출한 데이터입니다.\n",
        "- 미국 매사추세츠주 92개 도시(TOWN)의 506개 지역의 주택 가격 및 기타 지역 특성 데이터가 포함되어 있습니다. (Dataset Introduction)"
      ],
      "id": "5ae88915-6ae9-4f83-8a7c-2381d4e18444"
    },
    {
      "cell_type": "code",
      "metadata": {
        "id": "5e1bdc00-119a-4919-b57f-fbbb7bf6600b"
      },
      "source": [
        "df=pd.read_csv(\"/content/onion.CSV\", encoding = 'cp949')"
      ],
      "id": "5e1bdc00-119a-4919-b57f-fbbb7bf6600b",
      "execution_count": 438,
      "outputs": []
    },
    {
      "cell_type": "code",
      "metadata": {
        "colab": {
          "base_uri": "https://localhost:8080/",
          "height": 244
        },
        "id": "0a542fae-b01d-4cd8-aa97-23b2e765c90d",
        "outputId": "51c6f333-d8d2-45f3-9177-12ffca6501a2"
      },
      "source": [
        "#데이터셋을 불러와서 첫 세 줄을 출력하여 데이터의 구성을 한 번 살펴볼게요.\n",
        "df.head(3)"
      ],
      "id": "0a542fae-b01d-4cd8-aa97-23b2e765c90d",
      "execution_count": 439,
      "outputs": [
        {
          "output_type": "execute_result",
          "data": {
            "text/html": [
              "<div>\n",
              "<style scoped>\n",
              "    .dataframe tbody tr th:only-of-type {\n",
              "        vertical-align: middle;\n",
              "    }\n",
              "\n",
              "    .dataframe tbody tr th {\n",
              "        vertical-align: top;\n",
              "    }\n",
              "\n",
              "    .dataframe thead th {\n",
              "        text-align: right;\n",
              "    }\n",
              "</style>\n",
              "<table border=\"1\" class=\"dataframe\">\n",
              "  <thead>\n",
              "    <tr style=\"text-align: right;\">\n",
              "      <th></th>\n",
              "      <th>거래일자</th>\n",
              "      <th>양파(일반) 1.0 kg 그물망 /특</th>\n",
              "      <th>양파(일반) 1.0 kg 그물망 /상</th>\n",
              "      <th>양파(일반) 1.0 kg 그물망 /중</th>\n",
              "      <th>양파(일반) 1.0 kg 그물망 /하</th>\n",
              "      <th>양파(전체) 반입량</th>\n",
              "      <th>만생양파 1.0 kg 그물망 /특</th>\n",
              "      <th>만생양파 1.0 kg 그물망 /상</th>\n",
              "      <th>만생양파 1.0 kg 그물망 /중</th>\n",
              "      <th>만생양파 반입량</th>\n",
              "      <th>저장양파 1.0 kg 그물망 /특</th>\n",
              "      <th>저장양파 1.0 kg 그물망 /중</th>\n",
              "      <th>저장양파 반입량</th>\n",
              "      <th>조생양파 1.0 kg 그물망 /특</th>\n",
              "      <th>조생양파 1.0 kg 그물망 /상</th>\n",
              "      <th>조생양파 1.0 kg 그물망 /중</th>\n",
              "      <th>조생양파 1.0 kg 그물망 /하</th>\n",
              "      <th>조생양파 반입량</th>\n",
              "      <th>기타 1.0 kg 그물망 /특</th>\n",
              "      <th>기타 1.0 kg 그물망 /상</th>\n",
              "      <th>기타 1.0 kg 그물망 /중</th>\n",
              "      <th>기타 1.0 kg 그물망 /하</th>\n",
              "      <th>기타 반입량</th>\n",
              "    </tr>\n",
              "  </thead>\n",
              "  <tbody>\n",
              "    <tr>\n",
              "      <th>0</th>\n",
              "      <td>2015-01-01</td>\n",
              "      <td>NaN</td>\n",
              "      <td>NaN</td>\n",
              "      <td>NaN</td>\n",
              "      <td>NaN</td>\n",
              "      <td>13916582.0</td>\n",
              "      <td>619.0</td>\n",
              "      <td>NaN</td>\n",
              "      <td>NaN</td>\n",
              "      <td>3786154.0</td>\n",
              "      <td>NaN</td>\n",
              "      <td>NaN</td>\n",
              "      <td>4935804.0</td>\n",
              "      <td>NaN</td>\n",
              "      <td>NaN</td>\n",
              "      <td>NaN</td>\n",
              "      <td>NaN</td>\n",
              "      <td>401340.0</td>\n",
              "      <td>600.0</td>\n",
              "      <td>NaN</td>\n",
              "      <td>NaN</td>\n",
              "      <td>NaN</td>\n",
              "      <td>10696722.0</td>\n",
              "    </tr>\n",
              "    <tr>\n",
              "      <th>1</th>\n",
              "      <td>2015-02-01</td>\n",
              "      <td>900.0</td>\n",
              "      <td>NaN</td>\n",
              "      <td>NaN</td>\n",
              "      <td>NaN</td>\n",
              "      <td>11005449.0</td>\n",
              "      <td>746.0</td>\n",
              "      <td>NaN</td>\n",
              "      <td>NaN</td>\n",
              "      <td>3175228.0</td>\n",
              "      <td>646.0</td>\n",
              "      <td>NaN</td>\n",
              "      <td>5064789.0</td>\n",
              "      <td>NaN</td>\n",
              "      <td>NaN</td>\n",
              "      <td>NaN</td>\n",
              "      <td>NaN</td>\n",
              "      <td>NaN</td>\n",
              "      <td>660.0</td>\n",
              "      <td>NaN</td>\n",
              "      <td>NaN</td>\n",
              "      <td>NaN</td>\n",
              "      <td>9499536.0</td>\n",
              "    </tr>\n",
              "    <tr>\n",
              "      <th>2</th>\n",
              "      <td>2015-03-01</td>\n",
              "      <td>1031.0</td>\n",
              "      <td>NaN</td>\n",
              "      <td>NaN</td>\n",
              "      <td>NaN</td>\n",
              "      <td>13611617.0</td>\n",
              "      <td>NaN</td>\n",
              "      <td>NaN</td>\n",
              "      <td>NaN</td>\n",
              "      <td>3660763.0</td>\n",
              "      <td>2042.0</td>\n",
              "      <td>NaN</td>\n",
              "      <td>5389042.0</td>\n",
              "      <td>NaN</td>\n",
              "      <td>NaN</td>\n",
              "      <td>NaN</td>\n",
              "      <td>NaN</td>\n",
              "      <td>2324.0</td>\n",
              "      <td>842.0</td>\n",
              "      <td>NaN</td>\n",
              "      <td>NaN</td>\n",
              "      <td>NaN</td>\n",
              "      <td>12055334.0</td>\n",
              "    </tr>\n",
              "  </tbody>\n",
              "</table>\n",
              "</div>"
            ],
            "text/plain": [
              "         거래일자  양파(일반) 1.0 kg 그물망 /특  ...  기타 1.0 kg 그물망 /하      기타 반입량\n",
              "0  2015-01-01                   NaN  ...               NaN  10696722.0\n",
              "1  2015-02-01                 900.0  ...               NaN   9499536.0\n",
              "2  2015-03-01                1031.0  ...               NaN  12055334.0\n",
              "\n",
              "[3 rows x 23 columns]"
            ]
          },
          "metadata": {},
          "execution_count": 439
        }
      ]
    },
    {
      "cell_type": "markdown",
      "metadata": {
        "id": "8c1766af-7c63-4811-b7e9-1dae44a1d357"
      },
      "source": [
        "### 데이터 살펴보기 :Features Descriptions\n",
        "\n",
        "각 변수 설명 :\n",
        "\n",
        "    p = price\n",
        "    s = supply\n",
        "    d = demand\n",
        "\n",
        "    1. date : 거래일자\n",
        "    2. p_onion1 : 양파(일반) 1.0kg 그물망 / 특 등급 <가격>\n",
        "    3. 양파(일반) 1.0kg 그물망 / 상 등급 <가격>\n",
        "    4. 양파(일반) 1.0kg 그물망 / 중 등급 <가격>\n",
        "    5. 양파(일반) 1.0kg 그물망 / 하 등급 <가격>\n",
        "    6. s_onion1 : 양파(전체) 반입량 - 일반 <종류1>\n",
        "    7. 만생양파 1.0kg 그물망 / 특 등급 <가격>\n",
        "    8. 만생양파 1.0kg 그물망 / 상 등급 <가격>\n",
        "    9. 만생양파 1.0kg 그물망 / 중 등급 <가격>\n",
        "    10. 만생양파 반입량 <종류2>\n",
        "    11. 저장양파 1.0 kg 그물망 /특 등급 <가격>\n",
        "    12. 저장양파 1.0 kg 그물망 /중 등급 <가격>\n",
        "    13. 저장양파 반입량 <종류3>\n",
        "    14. 조생양파 1.0kg 그물망 / 특 등급 <가격>\n",
        "    15. 조생양파 1.0kg 그물망 / 상 등급 <가격>\n",
        "    16. 조생양파 1.0kg 그물망 / 중 등급 <가격>\n",
        "    17. 조생양파 1.0kg 그물망 / 하 등급 <가격>\n",
        "    18. 조생양파 반입량 <종류4>\n",
        "    19. p_onion2 : 기타 1.0kg 그물망 / 특 등급 <가격>\n",
        "    20. 기타 1.0kg 그물망 / 상 등급 <가격>\n",
        "    21. 기타 1.0kg 그물망 / 중 등급 <가격>\n",
        "    22. 기타 1.0kg 그물망 / 하 등급 <가격>\n",
        "    23. s_onion2 : 기타 반입량 <종류5>\n",
        "\n"
      ],
      "id": "8c1766af-7c63-4811-b7e9-1dae44a1d357"
    },
    {
      "cell_type": "markdown",
      "metadata": {
        "id": "1f02abcb-93e3-4ab3-9f92-c066b1337a3d"
      },
      "source": [
        "### 2. 데이터 탐색하기 (EDA: Exploratory Data Analysis)\n",
        "데이터의 각 변수(features, attributes, columns, x들)의 기본 정보 및 각 변수의 특성을 살펴보겠습니다.\n"
      ],
      "id": "1f02abcb-93e3-4ab3-9f92-c066b1337a3d"
    },
    {
      "cell_type": "code",
      "metadata": {
        "id": "37bf46f3-2609-4dc4-a612-f25b90085e58"
      },
      "source": [
        "### 그래프의 배경 설정 : sns --> seaborn 라이브러리 이용\n",
        "sns.set_style('darkgrid')"
      ],
      "id": "37bf46f3-2609-4dc4-a612-f25b90085e58",
      "execution_count": 440,
      "outputs": []
    },
    {
      "cell_type": "markdown",
      "metadata": {
        "id": "da499d31-7d35-4e42-a7f5-f1a49584ddf9"
      },
      "source": [
        "#### 2-1. 데이터 셋의 기본 정보 파악하기"
      ],
      "id": "da499d31-7d35-4e42-a7f5-f1a49584ddf9"
    },
    {
      "cell_type": "code",
      "metadata": {
        "colab": {
          "base_uri": "https://localhost:8080/"
        },
        "id": "a2f5b805-41b8-4bb0-98f9-2661bba907bd",
        "outputId": "b74a9a56-f07d-45a1-fe14-3fd2c2a3916c"
      },
      "source": [
        "### 데이터 셋 구조 보기\n",
        "df.shape \n",
        "### 해석: 행이 506, 집이 506개, 열이 17, 집값을 예측하는데 사용한 변수가 17개라고 생각하시면 됩니다. "
      ],
      "id": "a2f5b805-41b8-4bb0-98f9-2661bba907bd",
      "execution_count": 441,
      "outputs": [
        {
          "output_type": "execute_result",
          "data": {
            "text/plain": [
              "(73, 23)"
            ]
          },
          "metadata": {},
          "execution_count": 441
        }
      ]
    },
    {
      "cell_type": "code",
      "metadata": {
        "colab": {
          "base_uri": "https://localhost:8080/"
        },
        "id": "663b250b-a8fe-4dc5-bb02-c58d3d6ec5bc",
        "outputId": "022ecea1-f9b5-4068-acdc-2775bd300e0d"
      },
      "source": [
        "### 결측치 : 비어있는 데이터를 찾습니다. \n",
        "### 여기서는 어떤 컬럼(변수, 특성, x)에 결측치가 많은지 봅니다.\n",
        "df.isnull().sum()"
      ],
      "id": "663b250b-a8fe-4dc5-bb02-c58d3d6ec5bc",
      "execution_count": 442,
      "outputs": [
        {
          "output_type": "execute_result",
          "data": {
            "text/plain": [
              "거래일자                     0\n",
              "양파(일반) 1.0 kg 그물망 /특     3\n",
              "양파(일반) 1.0 kg 그물망 /상    33\n",
              "양파(일반) 1.0 kg 그물망 /중    50\n",
              "양파(일반) 1.0 kg 그물망 /하    72\n",
              "양파(전체) 반입량               1\n",
              "만생양파 1.0 kg 그물망 /특      65\n",
              "만생양파 1.0 kg 그물망 /상      72\n",
              "만생양파 1.0 kg 그물망 /중      73\n",
              "만생양파 반입량                 1\n",
              "저장양파 1.0 kg 그물망 /특      57\n",
              "저장양파 1.0 kg 그물망 /중      72\n",
              "저장양파 반입량                 1\n",
              "조생양파 1.0 kg 그물망 /특      67\n",
              "조생양파 1.0 kg 그물망 /상      71\n",
              "조생양파 1.0 kg 그물망 /중      72\n",
              "조생양파 1.0 kg 그물망 /하      72\n",
              "조생양파 반입량                 8\n",
              "기타 1.0 kg 그물망 /특         3\n",
              "기타 1.0 kg 그물망 /상        59\n",
              "기타 1.0 kg 그물망 /중        62\n",
              "기타 1.0 kg 그물망 /하        72\n",
              "기타 반입량                   1\n",
              "dtype: int64"
            ]
          },
          "metadata": {},
          "execution_count": 442
        }
      ]
    },
    {
      "cell_type": "code",
      "metadata": {
        "id": "a4b60566-9991-4561-89fc-5275aab33bc0"
      },
      "source": [
        "### 만약 결측치가 있다면, 결측치를 처리해야 됩니다. 이것을 전처리라고 합니다.\n",
        "df = df.dropna(axis=1, thresh=30)\n"
      ],
      "id": "a4b60566-9991-4561-89fc-5275aab33bc0",
      "execution_count": 443,
      "outputs": []
    },
    {
      "cell_type": "code",
      "metadata": {
        "colab": {
          "base_uri": "https://localhost:8080/"
        },
        "id": "143096b2-499f-4270-95a7-bb4fadf26602",
        "outputId": "73586b44-f3e8-47a6-f506-72b6b6630d58"
      },
      "source": [
        "### data type을 확인합니다.\n",
        "df.info()"
      ],
      "id": "143096b2-499f-4270-95a7-bb4fadf26602",
      "execution_count": 444,
      "outputs": [
        {
          "output_type": "stream",
          "name": "stdout",
          "text": [
            "<class 'pandas.core.frame.DataFrame'>\n",
            "RangeIndex: 73 entries, 0 to 72\n",
            "Data columns (total 9 columns):\n",
            " #   Column                Non-Null Count  Dtype  \n",
            "---  ------                --------------  -----  \n",
            " 0   거래일자                  73 non-null     object \n",
            " 1   양파(일반) 1.0 kg 그물망 /특  70 non-null     float64\n",
            " 2   양파(일반) 1.0 kg 그물망 /상  40 non-null     float64\n",
            " 3   양파(전체) 반입량            72 non-null     float64\n",
            " 4   만생양파 반입량              72 non-null     float64\n",
            " 5   저장양파 반입량              72 non-null     float64\n",
            " 6   조생양파 반입량              65 non-null     float64\n",
            " 7   기타 1.0 kg 그물망 /특      70 non-null     float64\n",
            " 8   기타 반입량                72 non-null     float64\n",
            "dtypes: float64(8), object(1)\n",
            "memory usage: 5.3+ KB\n"
          ]
        }
      ]
    },
    {
      "cell_type": "code",
      "metadata": {
        "id": "800f8a5a-979d-4c6e-9803-10c7c6336cd9"
      },
      "source": [
        "### 해석)거래일자만 object 변수(범주형 변수)이고, 이를 제외한 모든 변수는 숫자형입니다."
      ],
      "id": "800f8a5a-979d-4c6e-9803-10c7c6336cd9",
      "execution_count": 445,
      "outputs": []
    },
    {
      "cell_type": "code",
      "metadata": {
        "colab": {
          "base_uri": "https://localhost:8080/",
          "height": 297
        },
        "id": "6d58f8e9-9866-494f-bb36-766559c29e3c",
        "outputId": "7bb76061-147a-4001-e8af-c855c2d90f4d"
      },
      "source": [
        "### 숫자형 변수만 뽑아서 기본 통계를 해 봅니다.\n",
        "\n",
        "df.describe()"
      ],
      "id": "6d58f8e9-9866-494f-bb36-766559c29e3c",
      "execution_count": 446,
      "outputs": [
        {
          "output_type": "execute_result",
          "data": {
            "text/html": [
              "<div>\n",
              "<style scoped>\n",
              "    .dataframe tbody tr th:only-of-type {\n",
              "        vertical-align: middle;\n",
              "    }\n",
              "\n",
              "    .dataframe tbody tr th {\n",
              "        vertical-align: top;\n",
              "    }\n",
              "\n",
              "    .dataframe thead th {\n",
              "        text-align: right;\n",
              "    }\n",
              "</style>\n",
              "<table border=\"1\" class=\"dataframe\">\n",
              "  <thead>\n",
              "    <tr style=\"text-align: right;\">\n",
              "      <th></th>\n",
              "      <th>양파(일반) 1.0 kg 그물망 /특</th>\n",
              "      <th>양파(일반) 1.0 kg 그물망 /상</th>\n",
              "      <th>양파(전체) 반입량</th>\n",
              "      <th>만생양파 반입량</th>\n",
              "      <th>저장양파 반입량</th>\n",
              "      <th>조생양파 반입량</th>\n",
              "      <th>기타 1.0 kg 그물망 /특</th>\n",
              "      <th>기타 반입량</th>\n",
              "    </tr>\n",
              "  </thead>\n",
              "  <tbody>\n",
              "    <tr>\n",
              "      <th>count</th>\n",
              "      <td>70.000000</td>\n",
              "      <td>40.00000</td>\n",
              "      <td>7.200000e+01</td>\n",
              "      <td>7.200000e+01</td>\n",
              "      <td>7.200000e+01</td>\n",
              "      <td>6.500000e+01</td>\n",
              "      <td>70.000000</td>\n",
              "      <td>7.200000e+01</td>\n",
              "    </tr>\n",
              "    <tr>\n",
              "      <th>mean</th>\n",
              "      <td>1505.157143</td>\n",
              "      <td>1183.67500</td>\n",
              "      <td>1.209377e+07</td>\n",
              "      <td>3.843536e+06</td>\n",
              "      <td>4.681340e+06</td>\n",
              "      <td>5.775279e+06</td>\n",
              "      <td>1451.814286</td>\n",
              "      <td>1.762640e+07</td>\n",
              "    </tr>\n",
              "    <tr>\n",
              "      <th>std</th>\n",
              "      <td>518.762313</td>\n",
              "      <td>335.27963</td>\n",
              "      <td>4.838260e+06</td>\n",
              "      <td>2.426620e+06</td>\n",
              "      <td>2.313869e+06</td>\n",
              "      <td>1.093436e+07</td>\n",
              "      <td>652.640485</td>\n",
              "      <td>1.008827e+07</td>\n",
              "    </tr>\n",
              "    <tr>\n",
              "      <th>min</th>\n",
              "      <td>778.000000</td>\n",
              "      <td>700.00000</td>\n",
              "      <td>5.140211e+06</td>\n",
              "      <td>4.502600e+05</td>\n",
              "      <td>5.934180e+05</td>\n",
              "      <td>4.500000e+01</td>\n",
              "      <td>600.000000</td>\n",
              "      <td>6.130467e+06</td>\n",
              "    </tr>\n",
              "    <tr>\n",
              "      <th>25%</th>\n",
              "      <td>1131.750000</td>\n",
              "      <td>949.25000</td>\n",
              "      <td>8.033826e+06</td>\n",
              "      <td>2.137680e+06</td>\n",
              "      <td>3.115378e+06</td>\n",
              "      <td>1.369500e+05</td>\n",
              "      <td>1100.500000</td>\n",
              "      <td>1.141225e+07</td>\n",
              "    </tr>\n",
              "    <tr>\n",
              "      <th>50%</th>\n",
              "      <td>1400.000000</td>\n",
              "      <td>1129.50000</td>\n",
              "      <td>1.145211e+07</td>\n",
              "      <td>3.323170e+06</td>\n",
              "      <td>4.889256e+06</td>\n",
              "      <td>4.391470e+05</td>\n",
              "      <td>1317.500000</td>\n",
              "      <td>1.432342e+07</td>\n",
              "    </tr>\n",
              "    <tr>\n",
              "      <th>75%</th>\n",
              "      <td>1897.000000</td>\n",
              "      <td>1300.00000</td>\n",
              "      <td>1.438750e+07</td>\n",
              "      <td>4.932612e+06</td>\n",
              "      <td>6.234615e+06</td>\n",
              "      <td>3.104688e+06</td>\n",
              "      <td>1615.500000</td>\n",
              "      <td>2.104795e+07</td>\n",
              "    </tr>\n",
              "    <tr>\n",
              "      <th>max</th>\n",
              "      <td>3064.000000</td>\n",
              "      <td>2100.00000</td>\n",
              "      <td>2.635884e+07</td>\n",
              "      <td>1.099699e+07</td>\n",
              "      <td>1.058668e+07</td>\n",
              "      <td>4.295624e+07</td>\n",
              "      <td>4506.000000</td>\n",
              "      <td>6.081307e+07</td>\n",
              "    </tr>\n",
              "  </tbody>\n",
              "</table>\n",
              "</div>"
            ],
            "text/plain": [
              "       양파(일반) 1.0 kg 그물망 /특  ...        기타 반입량\n",
              "count             70.000000  ...  7.200000e+01\n",
              "mean            1505.157143  ...  1.762640e+07\n",
              "std              518.762313  ...  1.008827e+07\n",
              "min              778.000000  ...  6.130467e+06\n",
              "25%             1131.750000  ...  1.141225e+07\n",
              "50%             1400.000000  ...  1.432342e+07\n",
              "75%             1897.000000  ...  2.104795e+07\n",
              "max             3064.000000  ...  6.081307e+07\n",
              "\n",
              "[8 rows x 8 columns]"
            ]
          },
          "metadata": {},
          "execution_count": 446
        }
      ]
    },
    {
      "cell_type": "code",
      "metadata": {
        "colab": {
          "base_uri": "https://localhost:8080/"
        },
        "id": "47ccbbf2-3f90-4922-b748-37d54b1f3bb0",
        "outputId": "453520be-bc63-455c-a02c-0bb8bf1833b3"
      },
      "source": [
        "### 범주형 변수(Categorical Variables): 문자열 변수\n",
        "### 타운의 수, 소속도시의 수를 구합니다. \n",
        "### .unique()는 중복을 제거 하는 것입니다. \n",
        "### 2명이 노원구에 산다고, 노원구가 2개 되면 안되겠죠?:-) 노원구는 1개니까요. :-)\n",
        "\n",
        "#num_town=df['TOWN'].unique()\n",
        "#print(len(num_town))\n",
        "#num_town\n",
        "\n",
        "#거래일자 데이터 현재 형식 : 0000-00-00 => 숫자형 변수로 바꾸기 위해 우선 \"-\" 제거\n",
        "df['거래일자'] = df['거래일자'].str.replace(\"-\", \"\").head()"
      ],
      "id": "47ccbbf2-3f90-4922-b748-37d54b1f3bb0",
      "execution_count": 447,
      "outputs": [
        {
          "output_type": "stream",
          "name": "stderr",
          "text": [
            "/usr/local/lib/python3.7/dist-packages/ipykernel_launcher.py:11: SettingWithCopyWarning: \n",
            "A value is trying to be set on a copy of a slice from a DataFrame.\n",
            "Try using .loc[row_indexer,col_indexer] = value instead\n",
            "\n",
            "See the caveats in the documentation: https://pandas.pydata.org/pandas-docs/stable/user_guide/indexing.html#returning-a-view-versus-a-copy\n",
            "  # This is added back by InteractiveShellApp.init_path()\n"
          ]
        }
      ]
    },
    {
      "cell_type": "code",
      "metadata": {
        "colab": {
          "base_uri": "https://localhost:8080/"
        },
        "id": "hDQ_DaswY6Ph",
        "outputId": "0c62f7d5-df71-4047-8293-6d7c3a8751c1"
      },
      "source": [
        "#거래일자 데이터 현재 형식 : 00000000 => dtype : float32로 변환\n",
        "df['거래일자'] = df['거래일자'].astype(float)"
      ],
      "id": "hDQ_DaswY6Ph",
      "execution_count": 448,
      "outputs": [
        {
          "output_type": "stream",
          "name": "stderr",
          "text": [
            "/usr/local/lib/python3.7/dist-packages/ipykernel_launcher.py:2: SettingWithCopyWarning: \n",
            "A value is trying to be set on a copy of a slice from a DataFrame.\n",
            "Try using .loc[row_indexer,col_indexer] = value instead\n",
            "\n",
            "See the caveats in the documentation: https://pandas.pydata.org/pandas-docs/stable/user_guide/indexing.html#returning-a-view-versus-a-copy\n",
            "  \n"
          ]
        }
      ]
    },
    {
      "cell_type": "code",
      "metadata": {
        "colab": {
          "base_uri": "https://localhost:8080/"
        },
        "id": "2x0WphkaeiFU",
        "outputId": "685ceeee-df72-46aa-dc48-cf986cdca3bc"
      },
      "source": [
        "#거래일자 데이터 타입 바뀌었는지 확인\n",
        "df.info()"
      ],
      "id": "2x0WphkaeiFU",
      "execution_count": 449,
      "outputs": [
        {
          "output_type": "stream",
          "name": "stdout",
          "text": [
            "<class 'pandas.core.frame.DataFrame'>\n",
            "RangeIndex: 73 entries, 0 to 72\n",
            "Data columns (total 9 columns):\n",
            " #   Column                Non-Null Count  Dtype  \n",
            "---  ------                --------------  -----  \n",
            " 0   거래일자                  5 non-null      float64\n",
            " 1   양파(일반) 1.0 kg 그물망 /특  70 non-null     float64\n",
            " 2   양파(일반) 1.0 kg 그물망 /상  40 non-null     float64\n",
            " 3   양파(전체) 반입량            72 non-null     float64\n",
            " 4   만생양파 반입량              72 non-null     float64\n",
            " 5   저장양파 반입량              72 non-null     float64\n",
            " 6   조생양파 반입량              65 non-null     float64\n",
            " 7   기타 1.0 kg 그물망 /특      70 non-null     float64\n",
            " 8   기타 반입량                72 non-null     float64\n",
            "dtypes: float64(9)\n",
            "memory usage: 5.3 KB\n"
          ]
        }
      ]
    },
    {
      "cell_type": "code",
      "metadata": {
        "id": "SSaSy4ORfts0"
      },
      "source": [
        "df = df[['거래일자', '양파(일반) 1.0 kg 그물망 /특', '양파(전체) 반입량', '기타 1.0 kg 그물망 /특', '기타 반입량']]"
      ],
      "id": "SSaSy4ORfts0",
      "execution_count": 450,
      "outputs": []
    },
    {
      "cell_type": "code",
      "metadata": {
        "colab": {
          "base_uri": "https://localhost:8080/",
          "height": 232
        },
        "id": "zsUBcnTQ4f2q",
        "outputId": "ba008780-887e-421f-e2a3-4b064f16860f"
      },
      "source": [
        "#column 이름 바꾸기 => 깔끔한 데이터 시각화를 위해\n",
        "df.rename(columns = {'거래일자': 'date', '양파(일반) 1.0 kg 그물망 /특': 'p_onion1', '양파(전체) 반입량': 's_onion1', '기타 1.0 kg 그물망 /특': 'p_onion2', '기타 반입량': 's_onion2'}, inplace = True)\n",
        "df.head(3)"
      ],
      "id": "zsUBcnTQ4f2q",
      "execution_count": 451,
      "outputs": [
        {
          "output_type": "stream",
          "name": "stderr",
          "text": [
            "/usr/local/lib/python3.7/dist-packages/pandas/core/frame.py:4308: SettingWithCopyWarning: \n",
            "A value is trying to be set on a copy of a slice from a DataFrame\n",
            "\n",
            "See the caveats in the documentation: https://pandas.pydata.org/pandas-docs/stable/user_guide/indexing.html#returning-a-view-versus-a-copy\n",
            "  errors=errors,\n"
          ]
        },
        {
          "output_type": "execute_result",
          "data": {
            "text/html": [
              "<div>\n",
              "<style scoped>\n",
              "    .dataframe tbody tr th:only-of-type {\n",
              "        vertical-align: middle;\n",
              "    }\n",
              "\n",
              "    .dataframe tbody tr th {\n",
              "        vertical-align: top;\n",
              "    }\n",
              "\n",
              "    .dataframe thead th {\n",
              "        text-align: right;\n",
              "    }\n",
              "</style>\n",
              "<table border=\"1\" class=\"dataframe\">\n",
              "  <thead>\n",
              "    <tr style=\"text-align: right;\">\n",
              "      <th></th>\n",
              "      <th>date</th>\n",
              "      <th>p_onion1</th>\n",
              "      <th>s_onion1</th>\n",
              "      <th>p_onion2</th>\n",
              "      <th>s_onion2</th>\n",
              "    </tr>\n",
              "  </thead>\n",
              "  <tbody>\n",
              "    <tr>\n",
              "      <th>0</th>\n",
              "      <td>20150101.0</td>\n",
              "      <td>NaN</td>\n",
              "      <td>13916582.0</td>\n",
              "      <td>600.0</td>\n",
              "      <td>10696722.0</td>\n",
              "    </tr>\n",
              "    <tr>\n",
              "      <th>1</th>\n",
              "      <td>20150201.0</td>\n",
              "      <td>900.0</td>\n",
              "      <td>11005449.0</td>\n",
              "      <td>660.0</td>\n",
              "      <td>9499536.0</td>\n",
              "    </tr>\n",
              "    <tr>\n",
              "      <th>2</th>\n",
              "      <td>20150301.0</td>\n",
              "      <td>1031.0</td>\n",
              "      <td>13611617.0</td>\n",
              "      <td>842.0</td>\n",
              "      <td>12055334.0</td>\n",
              "    </tr>\n",
              "  </tbody>\n",
              "</table>\n",
              "</div>"
            ],
            "text/plain": [
              "         date  p_onion1    s_onion1  p_onion2    s_onion2\n",
              "0  20150101.0       NaN  13916582.0     600.0  10696722.0\n",
              "1  20150201.0     900.0  11005449.0     660.0   9499536.0\n",
              "2  20150301.0    1031.0  13611617.0     842.0  12055334.0"
            ]
          },
          "metadata": {},
          "execution_count": 451
        }
      ]
    },
    {
      "cell_type": "code",
      "metadata": {
        "id": "r2ot6mrfe28E"
      },
      "source": [
        "#남은 null값들 평균으로 채워두기\n",
        "df = df.fillna(df.mean())"
      ],
      "id": "r2ot6mrfe28E",
      "execution_count": 452,
      "outputs": []
    },
    {
      "cell_type": "markdown",
      "metadata": {
        "id": "xWIJVsyaAFrO"
      },
      "source": [
        ""
      ],
      "id": "xWIJVsyaAFrO"
    },
    {
      "cell_type": "markdown",
      "metadata": {
        "id": "9aa4336f-45c4-45ec-9589-8e3b96dab683"
      },
      "source": [
        "#### 2-2 종속변수(타겟변수, y)의 탐색\n",
        "\n",
        "    - CMEDV : 양파 거래 가격이 타겟변수가 됩니다. 왜냐면, 저희는 양파의 가격을 맞추기 위함이기 때문입니다. \n",
        "    - matplot 참고 사이트:\n",
        "        - https://codetorial.net/matplotlib/basic_plot.html\n",
        "        - https://matplotlib.org/stable/gallery/index.html"
      ],
      "id": "9aa4336f-45c4-45ec-9589-8e3b96dab683"
    },
    {
      "cell_type": "code",
      "metadata": {
        "colab": {
          "base_uri": "https://localhost:8080/"
        },
        "id": "46461834-bb74-4af0-8c38-f543a61f0595",
        "outputId": "f6339f93-1aef-4528-b7a1-cd3a84f75047"
      },
      "source": [
        "### 기초 통계량을 다시 살펴봅니다.\n",
        "\n",
        "df['p_onion1'].describe()"
      ],
      "id": "46461834-bb74-4af0-8c38-f543a61f0595",
      "execution_count": 453,
      "outputs": [
        {
          "output_type": "execute_result",
          "data": {
            "text/plain": [
              "count      73.000000\n",
              "mean     1505.157143\n",
              "std       507.839778\n",
              "min       778.000000\n",
              "25%      1200.000000\n",
              "50%      1478.000000\n",
              "75%      1888.000000\n",
              "max      3064.000000\n",
              "Name: p_onion1, dtype: float64"
            ]
          },
          "metadata": {},
          "execution_count": 453
        }
      ]
    },
    {
      "cell_type": "code",
      "metadata": {
        "colab": {
          "base_uri": "https://localhost:8080/",
          "height": 294
        },
        "id": "b0e3bca3-2da4-4b06-853f-670ecd183ced",
        "outputId": "77ff09b9-689a-4e1c-fc83-065a5a2fba5a"
      },
      "source": [
        "### 시각화를 해서 살펴봅니다. 데이터의 분포를 파악할때, 시각화가 가장 좋은 방법 중 한개 입니다.!! \n",
        "### .hist(): 히스토그램을 의미합니다. bins=50:주머니가 50개 이다. x가 50개로 나누어 진다라고 이해하셔도 좋습니다. \n",
        "### y축은 frequency 빈도수입니다. x 축은 실제 갑습니다. \n",
        "\n",
        "df['p_onion1'].hist(bins=7)"
      ],
      "id": "b0e3bca3-2da4-4b06-853f-670ecd183ced",
      "execution_count": 454,
      "outputs": [
        {
          "output_type": "execute_result",
          "data": {
            "text/plain": [
              "<matplotlib.axes._subplots.AxesSubplot at 0x7ff3af335450>"
            ]
          },
          "metadata": {},
          "execution_count": 454
        },
        {
          "output_type": "display_data",
          "data": {
            "image/png": "[encoded data removed]",
            "text/plain": [
              "<Figure size 432x288 with 1 Axes>"
            ]
          },
          "metadata": {}
        }
      ]
    },
    {
      "cell_type": "code",
      "metadata": {
        "colab": {
          "base_uri": "https://localhost:8080/",
          "height": 276
        },
        "id": "37edeef7-e312-43d0-8f35-cd62d40f570e",
        "outputId": "fc55e6f6-a6a6-43d4-acbc-e12c97f6bc16"
      },
      "source": [
        "### 분포를 보는 또 다른 시각화 방법이 있습니다. 여러가지로 찍어 보겠습니다.\n",
        "### 첫번째 :boxplot 입니다.\n",
        "\n",
        "plt.boxplot(df['p_onion1'])\n",
        "plt.show()"
      ],
      "id": "37edeef7-e312-43d0-8f35-cd62d40f570e",
      "execution_count": 455,
      "outputs": [
        {
          "output_type": "display_data",
          "data": {
            "image/png": "[encoded data removed]",
            "text/plain": [
              "<Figure size 432x288 with 1 Axes>"
            ]
          },
          "metadata": {}
        }
      ]
    },
    {
      "cell_type": "code",
      "metadata": {
        "id": "95b1784e-dbaf-44f8-980c-a6dbe3d5c1cb"
      },
      "source": [
        "### 해석) 양파(일반)의 경우, 1,200원에서 1,900원 사이의 가격이 대부분이며 가장 비싼 3,000원의 가격도 존재"
      ],
      "id": "95b1784e-dbaf-44f8-980c-a6dbe3d5c1cb",
      "execution_count": 456,
      "outputs": []
    },
    {
      "cell_type": "code",
      "metadata": {
        "colab": {
          "base_uri": "https://localhost:8080/",
          "height": 294
        },
        "id": "W6kqBMYhxa6L",
        "outputId": "68674855-7ce7-481d-d2e6-115f53aea8aa"
      },
      "source": [
        "df['p_onion2'].hist(bins=7)"
      ],
      "id": "W6kqBMYhxa6L",
      "execution_count": 457,
      "outputs": [
        {
          "output_type": "execute_result",
          "data": {
            "text/plain": [
              "<matplotlib.axes._subplots.AxesSubplot at 0x7ff390145090>"
            ]
          },
          "metadata": {},
          "execution_count": 457
        },
        {
          "output_type": "display_data",
          "data": {
            "image/png": "[encoded data removed]",
            "text/plain": [
              "<Figure size 432x288 with 1 Axes>"
            ]
          },
          "metadata": {}
        }
      ]
    },
    {
      "cell_type": "code",
      "metadata": {
        "colab": {
          "base_uri": "https://localhost:8080/",
          "height": 276
        },
        "id": "2vafv_bs2VyN",
        "outputId": "b4e383b0-de0a-4663-eb5e-cf3027b690fe"
      },
      "source": [
        "plt.boxplot(df['p_onion2'])\n",
        "plt.show()"
      ],
      "id": "2vafv_bs2VyN",
      "execution_count": 458,
      "outputs": [
        {
          "output_type": "display_data",
          "data": {
            "image/png": "[encoded data removed]",
            "text/plain": [
              "<Figure size 432x288 with 1 Axes>"
            ]
          },
          "metadata": {}
        }
      ]
    },
    {
      "cell_type": "code",
      "metadata": {
        "id": "FBvcg5kM5j1q"
      },
      "source": [
        "##기타 양파의 경우, 1,000원에서 1,500원 정도의 가격이 일반적이며 가장 비싼 가격은 4,000원이 넘기도 한다."
      ],
      "id": "FBvcg5kM5j1q",
      "execution_count": 459,
      "outputs": []
    },
    {
      "cell_type": "markdown",
      "metadata": {
        "id": "4152c6fc-83c6-4415-93d2-7dc857ffbbfa"
      },
      "source": [
        "#### 2-3 설명변수(독립변수, features, attributes, x) 살펴보기\n",
        "    "
      ],
      "id": "4152c6fc-83c6-4415-93d2-7dc857ffbbfa"
    },
    {
      "cell_type": "code",
      "metadata": {
        "colab": {
          "base_uri": "https://localhost:8080/",
          "height": 679
        },
        "id": "4ea5a929-bc9c-42c3-97ec-97af2d923e72",
        "outputId": "71d37a74-839a-452d-dd47-07cafbda3135"
      },
      "source": [
        "### numerical features(except \"LON\" & \"LAT\") :  LON, LAT: 해당 지역의 경도(Longitudes) 위도(Latitudes) 정보\n",
        "numerical_columns=['s_onion1', 's_onion2']\n",
        "\n",
        "### figsize()는 plot()의 기본 크기를 지정합니다. \n",
        "fig = plt.figure(figsize = (8, 10))\n",
        "ax = fig.gca()  # Axes 생성\n",
        "\n",
        "### gca(), gcf(), axis()\n",
        "### gca()로 현재의 Axes를, gcf()로 현재의 Figure 객체를 구할 수 있다.\n",
        "### ax=plt.gica(): 축의 위치를 호출하여 ax로 설정(축 위치 변경을 위해 필요한 과정)\n",
        "\n",
        "df[numerical_columns].hist(ax=ax)\n",
        "plt.show()"
      ],
      "id": "4ea5a929-bc9c-42c3-97ec-97af2d923e72",
      "execution_count": 460,
      "outputs": [
        {
          "output_type": "stream",
          "name": "stderr",
          "text": [
            "/usr/local/lib/python3.7/dist-packages/ipykernel_launcher.py:12: UserWarning: To output multiple subplots, the figure containing the passed axes is being cleared\n",
            "  if sys.path[0] == '':\n"
          ]
        },
        {
          "output_type": "display_data",
          "data": {
            "image/png": "[encoded data removed]",
            "text/plain": [
              "<Figure size 576x720 with 2 Axes>"
            ]
          },
          "metadata": {}
        }
      ]
    },
    {
      "cell_type": "markdown",
      "metadata": {
        "id": "4a55c236-c477-4ae2-96cc-4a3a3ace272f"
      },
      "source": [
        "#### 2-4. 설명변수(x) 와 종속변수(y) 간의 관계 탐색\n",
        "- 변수간의 상관관계 파악해 봅니다. "
      ],
      "id": "4a55c236-c477-4ae2-96cc-4a3a3ace272f"
    },
    {
      "cell_type": "code",
      "metadata": {
        "colab": {
          "base_uri": "https://localhost:8080/",
          "height": 173
        },
        "id": "f756a8f7-0e42-4d8f-b480-3fad966d4707",
        "outputId": "9c9e686e-76c9-44af-a1b2-351a93535f07"
      },
      "source": [
        "### Person 상관계수 : 대표적으로 상관관계 분석시 사용하는 지표입니다.\n",
        "### -1 에서 1 사이의 값을 가진다는 특징이 있습니다.\n",
        "### 1일 때는 완전 양의 상관(perfect positive correlation), -1일 때는 완전 음의 상관관계(perfect negative correlation)관계를 보입니다.\n",
        "### https://m.blog.naver.com/istech7/50153047118\n",
        "#변수간의 상관관계 보기 .corr()함수\n",
        "\n",
        "cols = ['p_onion1', 's_onion1', 'p_onion2', 's_onion2']\n",
        "\n",
        "corr = df[cols].corr(method = 'pearson')\n",
        "corr"
      ],
      "id": "f756a8f7-0e42-4d8f-b480-3fad966d4707",
      "execution_count": 461,
      "outputs": [
        {
          "output_type": "execute_result",
          "data": {
            "text/html": [
              "<div>\n",
              "<style scoped>\n",
              "    .dataframe tbody tr th:only-of-type {\n",
              "        vertical-align: middle;\n",
              "    }\n",
              "\n",
              "    .dataframe tbody tr th {\n",
              "        vertical-align: top;\n",
              "    }\n",
              "\n",
              "    .dataframe thead th {\n",
              "        text-align: right;\n",
              "    }\n",
              "</style>\n",
              "<table border=\"1\" class=\"dataframe\">\n",
              "  <thead>\n",
              "    <tr style=\"text-align: right;\">\n",
              "      <th></th>\n",
              "      <th>p_onion1</th>\n",
              "      <th>s_onion1</th>\n",
              "      <th>p_onion2</th>\n",
              "      <th>s_onion2</th>\n",
              "    </tr>\n",
              "  </thead>\n",
              "  <tbody>\n",
              "    <tr>\n",
              "      <th>p_onion1</th>\n",
              "      <td>1.000000</td>\n",
              "      <td>-0.133314</td>\n",
              "      <td>0.318576</td>\n",
              "      <td>-0.303791</td>\n",
              "    </tr>\n",
              "    <tr>\n",
              "      <th>s_onion1</th>\n",
              "      <td>-0.133314</td>\n",
              "      <td>1.000000</td>\n",
              "      <td>-0.080204</td>\n",
              "      <td>0.551605</td>\n",
              "    </tr>\n",
              "    <tr>\n",
              "      <th>p_onion2</th>\n",
              "      <td>0.318576</td>\n",
              "      <td>-0.080204</td>\n",
              "      <td>1.000000</td>\n",
              "      <td>0.282286</td>\n",
              "    </tr>\n",
              "    <tr>\n",
              "      <th>s_onion2</th>\n",
              "      <td>-0.303791</td>\n",
              "      <td>0.551605</td>\n",
              "      <td>0.282286</td>\n",
              "      <td>1.000000</td>\n",
              "    </tr>\n",
              "  </tbody>\n",
              "</table>\n",
              "</div>"
            ],
            "text/plain": [
              "          p_onion1  s_onion1  p_onion2  s_onion2\n",
              "p_onion1  1.000000 -0.133314  0.318576 -0.303791\n",
              "s_onion1 -0.133314  1.000000 -0.080204  0.551605\n",
              "p_onion2  0.318576 -0.080204  1.000000  0.282286\n",
              "s_onion2 -0.303791  0.551605  0.282286  1.000000"
            ]
          },
          "metadata": {},
          "execution_count": 461
        }
      ]
    },
    {
      "cell_type": "code",
      "metadata": {
        "colab": {
          "base_uri": "https://localhost:8080/",
          "height": 856
        },
        "id": "fff7ce02-2345-4c4c-b2b7-9ce94d30823c",
        "outputId": "3eef166a-4f97-4b3d-fe0b-ad31f58dbaf2"
      },
      "source": [
        "### 상관관계를 직관적으로 살펴보기 위해 Heatmap 으로 돌려봅니다.\n",
        "### heatmap (seaborn): 여기서는 seaborn 시각화 라이브러리를 사용해서 표현합니다. \n",
        "### 시각화의 대표적인 라이브러리가 matplot(https://matplotlib.org/)과 seaborn(https://seaborn.pydata.org/)이 있습니다.\n",
        "\n",
        "fig = plt.figure(figsize = (16, 12))\n",
        "ax = fig.gca()\n",
        "\n",
        "# https://seaborn.pydata.org/generated/seaborn.heatmap.html\n",
        "sns.set(font_scale = 1.5)  # heatmap 안의 font-size 설정 \n",
        "heatmap = sns.heatmap(corr.values, annot = True, fmt='.5f', annot_kws={'size':15},\n",
        "                      yticklabels = cols, xticklabels = cols, ax=ax, cmap = \"RdYlBu\")\n",
        "plt.tight_layout()\n",
        "plt.show()"
      ],
      "id": "fff7ce02-2345-4c4c-b2b7-9ce94d30823c",
      "execution_count": 462,
      "outputs": [
        {
          "output_type": "display_data",
          "data": {
            "image/png": "[encoded data removed]",
            "text/plain": [
              "<Figure size 1152x864 with 2 Axes>"
            ]
          },
          "metadata": {}
        }
      ]
    },
    {
      "cell_type": "code",
      "metadata": {
        "id": "53125090-4b59-43df-9979-d306f48eb5b4"
      },
      "source": [
        "### 해설) \n",
        "### 우리의 관심사인 target variable **“CMEDV - 주택 가격”**과 다른 변수간의 상관관계를 살펴보면,\n",
        "### “CMEDV - 주택 가격”\n",
        "### “RM - 자택당 평균 방 갯수”(0.7) (양의 상관관계)\n",
        "### “LSTAT - 빈곤층의 비율”(-0.74) (음의 상관관게)\n",
        "## 과 강한 상관관계를 보이고 있다는 것을 알 수 있습니다."
      ],
      "id": "53125090-4b59-43df-9979-d306f48eb5b4",
      "execution_count": 463,
      "outputs": []
    },
    {
      "cell_type": "markdown",
      "metadata": {
        "id": "6ceacd3a-d348-4a7c-a230-af0add8d19f3"
      },
      "source": [
        "##### 2.4.1 CMEDV - 주택 가격~ 방 갯수(\"RM\")의 관계"
      ],
      "id": "6ceacd3a-d348-4a7c-a230-af0add8d19f3"
    },
    {
      "cell_type": "code",
      "metadata": {
        "colab": {
          "base_uri": "https://localhost:8080/",
          "height": 318
        },
        "id": "ba6ab4af-0e49-4848-b044-ed19c574d6c5",
        "outputId": "f3cb7185-0859-4900-ca05-c08288402519"
      },
      "source": [
        "### scatter plot 산점도, https://seaborn.pydata.org/generated/seaborn.scatterplot.html\n",
        "sns.scatterplot(data=df, x='s_onion1', y='p_onion1', markers='o', color='blue', alpha=0.6)\n",
        "plt.title('Scatter Plot')\n",
        "plt.show()"
      ],
      "id": "ba6ab4af-0e49-4848-b044-ed19c574d6c5",
      "execution_count": 464,
      "outputs": [
        {
          "output_type": "display_data",
          "data": {
            "image/png": "[encoded data removed]",
            "text/plain": [
              "<Figure size 432x288 with 1 Axes>"
            ]
          },
          "metadata": {}
        }
      ]
    },
    {
      "cell_type": "code",
      "metadata": {
        "id": "4695bbb7-836e-405b-b398-ba50e4fc367d"
      },
      "source": [
        "### 해설) \n",
        "### 주택 가격이 방 갯수와 양의 상관관계(positive correlation)를 갖고 있습니다. \n",
        "### 즉, 방 갯수가 많은 주택들이 상대적으로 더 높은 가격을 갖고 있습니다."
      ],
      "id": "4695bbb7-836e-405b-b398-ba50e4fc367d",
      "execution_count": 465,
      "outputs": []
    },
    {
      "cell_type": "markdown",
      "metadata": {
        "id": "245e71c2-f7d8-4aee-9973-a782d135c12d"
      },
      "source": [
        "##### 2.4.2 CMEDV - 빈곤층의 비율(“LSTAT”)의 관계"
      ],
      "id": "245e71c2-f7d8-4aee-9973-a782d135c12d"
    },
    {
      "cell_type": "code",
      "metadata": {
        "colab": {
          "base_uri": "https://localhost:8080/",
          "height": 318
        },
        "id": "dee39e14-6ec6-4d0e-b075-a88259479c36",
        "outputId": "df040f33-e091-436e-ec6a-92433350302b"
      },
      "source": [
        "# scatter plot\n",
        "sns.scatterplot(data=df, x='s_onion2', y='p_onion2', markers='o', color='blue', alpha=0.6)\n",
        "plt.title('Scatter Plot')\n",
        "plt.show()"
      ],
      "id": "dee39e14-6ec6-4d0e-b075-a88259479c36",
      "execution_count": 466,
      "outputs": [
        {
          "output_type": "display_data",
          "data": {
            "image/png": "[encoded data removed]",
            "text/plain": [
              "<Figure size 432x288 with 1 Axes>"
            ]
          },
          "metadata": {}
        }
      ]
    },
    {
      "cell_type": "code",
      "metadata": {
        "id": "0ce0655a-7d42-4b1c-8d35-c74f61976c9d"
      },
      "source": [
        "### 해설)\n",
        "### 주택 가격이 빈곤층의 비율과 음의 상관관계(negative correlation)를 갖고 있습니다. \n",
        "### 즉, 빈곤층의 비율이 높은 지역의 주택 가격이 상대적으로 낮은 경향이 있습니다."
      ],
      "id": "0ce0655a-7d42-4b1c-8d35-c74f61976c9d",
      "execution_count": 467,
      "outputs": []
    },
    {
      "cell_type": "markdown",
      "metadata": {
        "id": "47c64046-a01f-43e6-9453-b2394dcda704"
      },
      "source": [
        "##### 2.4.3 도시별 차이 탐색 \n",
        "- 데이터를 살펴보면 여러 지역이 같은 도시에 속한 경우가 있습니다.\n",
        "- 변수 중에서도 도시 단위로 측정되는 변수가 많고요. 따라서 우리는 자연스럽게 도시 간의 차이를 궁금하게 됩니다.\n",
        "- 다시한번 변수의 설명을 열거해 봅니다. \n",
        "\n",
        "1. TOWN: 소속 도시 이름\n",
        "2. LON, LAT: 해당 지역의 경도(Longitudes) 위도(Latitudes) 정보\n",
        "3. CMEDV: 해당 지역의 주택 가격 (중앙값) (corrected median values of housing)(단위: USD 1000)\n",
        "4. CRIM: 지역 범죄율 (per capita crime)\n",
        "5. ZN: 소속 도시에 25,000 제곱 피트(sq.ft) 이상의 주택지 비율\n",
        "6. INDUS: 소속 도시에 상업적 비즈니스에 활용되지 않는 농지 면적\n",
        "7. CHAS: 해당 지역이 Charles 강과 접하고 있는지 여부 (dummy variable)\n",
        "8. NOX: 소속 도시의 산화질소 농도\n",
        "9. RM: 해당 지역의 자택당 평균 방 갯수\n",
        "10 .AGE: 해당 지역에 1940년 이전에 건설된 주택의 비율\n",
        "11. DIS: 5개의 보스턴 고용 센터와의 거리에 따른 가중치 부여\n",
        "12. RAD: 소속 도시가 Radial 고속도로와의 접근성 지수\n",
        "13. TAX: 소속 도시의 10000달러당 재산세\n",
        "14. PTRATIO: 소속 도시의 학생-교사 비율\n",
        "15. B: 해당 지역의 흑인 지수 (1000(Bk - 0.63)^2), Bk는 흑인의 비\n",
        "16. LSTAT: 해당 지역의 빈곤층 비율"
      ],
      "id": "47c64046-a01f-43e6-9453-b2394dcda704"
    },
    {
      "cell_type": "code",
      "metadata": {
        "id": "24555751-ee44-4870-96c4-3584b838cc61"
      },
      "source": [
        "### 각 도시 데이터 갯수 살펴보기 \n",
        "#df['TOWN'].value_counts()"
      ],
      "id": "24555751-ee44-4870-96c4-3584b838cc61",
      "execution_count": 468,
      "outputs": []
    },
    {
      "cell_type": "code",
      "metadata": {
        "id": "f374e8e8-6bf7-47ec-85d1-c40ce3527701"
      },
      "source": [
        "### 해설)92개의 도시가 있습니다."
      ],
      "id": "f374e8e8-6bf7-47ec-85d1-c40ce3527701",
      "execution_count": 469,
      "outputs": []
    },
    {
      "cell_type": "code",
      "metadata": {
        "id": "86cb94be-7dfb-4043-9540-a41346d86cd5"
      },
      "source": [
        "### 각 도시 데이터 갯수 살펴보기 (bar plot)을 활용해서 시각화를 합니다.\n",
        "### 위의 각 도시 데이터 갯수를 x 축으로, 합니다. 즉, 데이터 갯수가 30개인 도시는 1개 입니다. x축은 30이고, y축은 1입니다.\n",
        "#df['TOWN'].value_counts().hist(bins=50)"
      ],
      "id": "86cb94be-7dfb-4043-9540-a41346d86cd5",
      "execution_count": 470,
      "outputs": []
    },
    {
      "cell_type": "code",
      "metadata": {
        "id": "3c7271f2-79a8-4850-94f6-4e30c82fd969"
      },
      "source": [
        "### 도시별 주택 가격 특징 (boxplot 이용)\n",
        "#fig = plt.figure(figsize = (12, 20))\n",
        "#sns.boxplot(x='CMEDV', y='TOWN', data=df)"
      ],
      "id": "3c7271f2-79a8-4850-94f6-4e30c82fd969",
      "execution_count": 471,
      "outputs": []
    },
    {
      "cell_type": "code",
      "metadata": {
        "id": "c2ab59ef-487e-4dcc-b2e3-5729c77dc5d3"
      },
      "source": [
        "### 해설) Boston 지역(Boston으로 시작하는 도시)의 주택 가격이 전반적으로 다른 지역보다 낮다는 것을 알 수 있습니다."
      ],
      "id": "c2ab59ef-487e-4dcc-b2e3-5729c77dc5d3",
      "execution_count": 472,
      "outputs": []
    },
    {
      "cell_type": "code",
      "metadata": {
        "id": "98aa3b46-6cb7-4c73-9dd1-967df5b8ae1c"
      },
      "source": [
        "### 도시별 범죄율을 확인해 보겠습니다.\n",
        "### 도시별 범죄율 특징\n",
        "#fig = plt.figure(figsize = (12, 20))\n",
        "#sns.boxplot(x='CRIM', y='TOWN', data=df)"
      ],
      "id": "98aa3b46-6cb7-4c73-9dd1-967df5b8ae1c",
      "execution_count": 473,
      "outputs": []
    },
    {
      "cell_type": "code",
      "metadata": {
        "id": "f012ac16-9214-48c1-a056-11473a40b9f8"
      },
      "source": [
        "### 해설) Boston 지역의 범죄율이 유독 높다는 것을 확인할 수 있고, 따라서 범죄율이 높은 지역의 주택 가격이 상대적으로 낮다는 것을 추측해볼 수 있겠습니다."
      ],
      "id": "f012ac16-9214-48c1-a056-11473a40b9f8",
      "execution_count": 474,
      "outputs": []
    },
    {
      "cell_type": "markdown",
      "metadata": {
        "id": "0083b776-fb51-4b1e-b347-f3d052dd0492"
      },
      "source": [
        "### 3. 주택가격 예측 모델링: 회귀분석\n",
        "- 이제 변수들을 활용하여 매사추세츠주 각 지역의 주택 가격을 예측하는 회귀 모델을 만들어 보겠습니다."
      ],
      "id": "0083b776-fb51-4b1e-b347-f3d052dd0492"
    },
    {
      "cell_type": "markdown",
      "metadata": {
        "id": "59bcbb1d-8e14-4bae-83e4-de63bf809bdb"
      },
      "source": [
        "#### 3-1 데이터 전처리\n",
        "- 먼저 Feature 들의 scale 차이를 없애기 위해 수치형 Feature에 대해서 표준화를 진행해야 합니다."
      ],
      "id": "59bcbb1d-8e14-4bae-83e4-de63bf809bdb"
    },
    {
      "cell_type": "code",
      "metadata": {
        "colab": {
          "base_uri": "https://localhost:8080/",
          "height": 204
        },
        "id": "30592ec0-cb0a-4df0-9314-4506fcee16f7",
        "outputId": "3d4ff6bd-7a77-4fbb-9621-9fc8c2cf1cf6"
      },
      "source": [
        "df.head()"
      ],
      "id": "30592ec0-cb0a-4df0-9314-4506fcee16f7",
      "execution_count": 475,
      "outputs": [
        {
          "output_type": "execute_result",
          "data": {
            "text/html": [
              "<div>\n",
              "<style scoped>\n",
              "    .dataframe tbody tr th:only-of-type {\n",
              "        vertical-align: middle;\n",
              "    }\n",
              "\n",
              "    .dataframe tbody tr th {\n",
              "        vertical-align: top;\n",
              "    }\n",
              "\n",
              "    .dataframe thead th {\n",
              "        text-align: right;\n",
              "    }\n",
              "</style>\n",
              "<table border=\"1\" class=\"dataframe\">\n",
              "  <thead>\n",
              "    <tr style=\"text-align: right;\">\n",
              "      <th></th>\n",
              "      <th>date</th>\n",
              "      <th>p_onion1</th>\n",
              "      <th>s_onion1</th>\n",
              "      <th>p_onion2</th>\n",
              "      <th>s_onion2</th>\n",
              "    </tr>\n",
              "  </thead>\n",
              "  <tbody>\n",
              "    <tr>\n",
              "      <th>0</th>\n",
              "      <td>20150101.0</td>\n",
              "      <td>1505.157143</td>\n",
              "      <td>13916582.0</td>\n",
              "      <td>600.0</td>\n",
              "      <td>10696722.0</td>\n",
              "    </tr>\n",
              "    <tr>\n",
              "      <th>1</th>\n",
              "      <td>20150201.0</td>\n",
              "      <td>900.000000</td>\n",
              "      <td>11005449.0</td>\n",
              "      <td>660.0</td>\n",
              "      <td>9499536.0</td>\n",
              "    </tr>\n",
              "    <tr>\n",
              "      <th>2</th>\n",
              "      <td>20150301.0</td>\n",
              "      <td>1031.000000</td>\n",
              "      <td>13611617.0</td>\n",
              "      <td>842.0</td>\n",
              "      <td>12055334.0</td>\n",
              "    </tr>\n",
              "    <tr>\n",
              "      <th>3</th>\n",
              "      <td>20150401.0</td>\n",
              "      <td>1109.000000</td>\n",
              "      <td>22077825.0</td>\n",
              "      <td>855.0</td>\n",
              "      <td>14524703.0</td>\n",
              "    </tr>\n",
              "    <tr>\n",
              "      <th>4</th>\n",
              "      <td>20150501.0</td>\n",
              "      <td>1200.000000</td>\n",
              "      <td>26358838.0</td>\n",
              "      <td>1221.0</td>\n",
              "      <td>14394715.0</td>\n",
              "    </tr>\n",
              "  </tbody>\n",
              "</table>\n",
              "</div>"
            ],
            "text/plain": [
              "         date     p_onion1    s_onion1  p_onion2    s_onion2\n",
              "0  20150101.0  1505.157143  13916582.0     600.0  10696722.0\n",
              "1  20150201.0   900.000000  11005449.0     660.0   9499536.0\n",
              "2  20150301.0  1031.000000  13611617.0     842.0  12055334.0\n",
              "3  20150401.0  1109.000000  22077825.0     855.0  14524703.0\n",
              "4  20150501.0  1200.000000  26358838.0    1221.0  14394715.0"
            ]
          },
          "metadata": {},
          "execution_count": 475
        }
      ]
    },
    {
      "cell_type": "code",
      "metadata": {
        "colab": {
          "base_uri": "https://localhost:8080/"
        },
        "id": "e335f931-0abb-43f9-a1e7-030a7dd898aa",
        "outputId": "c951fa99-aa20-4470-dab5-f1c468818e64"
      },
      "source": [
        "df.info()"
      ],
      "id": "e335f931-0abb-43f9-a1e7-030a7dd898aa",
      "execution_count": 476,
      "outputs": [
        {
          "output_type": "stream",
          "name": "stdout",
          "text": [
            "<class 'pandas.core.frame.DataFrame'>\n",
            "RangeIndex: 73 entries, 0 to 72\n",
            "Data columns (total 5 columns):\n",
            " #   Column    Non-Null Count  Dtype  \n",
            "---  ------    --------------  -----  \n",
            " 0   date      73 non-null     float64\n",
            " 1   p_onion1  73 non-null     float64\n",
            " 2   s_onion1  73 non-null     float64\n",
            " 3   p_onion2  73 non-null     float64\n",
            " 4   s_onion2  73 non-null     float64\n",
            "dtypes: float64(5)\n",
            "memory usage: 3.0 KB\n"
          ]
        }
      ]
    },
    {
      "cell_type": "code",
      "metadata": {
        "id": "186e8736-92ee-402b-b16d-c52bcf6a623c"
      },
      "source": [
        "### 문자형 변수인 \"TOWN\"와 범주형 변수인 “CHAS” (Dummy variable)를 제외하고 모든 수치형 변수에 대해서 표준화를 진행합니다.\n",
        "### ### 참고) CHAS: 해당 지역이 Charles 강과 접하고 있는지 여부 (dummy variable)\n",
        "### 사이킷런은 파이썬에서 머신러닝 분석을 할 때 유용하게 사용할 수 있는 라이브러리 입니다. 여러가지 머신러닝 모듈로 구성되어있습니다.\n",
        "\n",
        "from sklearn.preprocessing import StandardScaler\n",
        "\n",
        "scaler = StandardScaler()  # 평균 0, 표준편차 1\n",
        "scale_columns = ['p_onion1', 's_onion1', 'p_onion2', 's_onion2']\n",
        "df[scale_columns] = scaler.fit_transform(df[scale_columns])"
      ],
      "id": "186e8736-92ee-402b-b16d-c52bcf6a623c",
      "execution_count": 477,
      "outputs": []
    },
    {
      "cell_type": "code",
      "metadata": {
        "id": "b630ed71-90e1-4121-a9f3-e0f13eeb7cc4"
      },
      "source": [
        "df.head()"
      ],
      "id": "b630ed71-90e1-4121-a9f3-e0f13eeb7cc4",
      "execution_count": null,
      "outputs": []
    },
    {
      "cell_type": "code",
      "metadata": {
        "colab": {
          "base_uri": "https://localhost:8080/",
          "height": 204
        },
        "id": "5e7e322b-ec04-491a-b768-4f213fd96ad6",
        "outputId": "264fd090-3f57-44b2-8dcf-91cda3189a47"
      },
      "source": [
        "df[scale_columns].head()"
      ],
      "id": "5e7e322b-ec04-491a-b768-4f213fd96ad6",
      "execution_count": 479,
      "outputs": [
        {
          "output_type": "execute_result",
          "data": {
            "text/html": [
              "<div>\n",
              "<style scoped>\n",
              "    .dataframe tbody tr th:only-of-type {\n",
              "        vertical-align: middle;\n",
              "    }\n",
              "\n",
              "    .dataframe tbody tr th {\n",
              "        vertical-align: top;\n",
              "    }\n",
              "\n",
              "    .dataframe thead th {\n",
              "        text-align: right;\n",
              "    }\n",
              "</style>\n",
              "<table border=\"1\" class=\"dataframe\">\n",
              "  <thead>\n",
              "    <tr style=\"text-align: right;\">\n",
              "      <th></th>\n",
              "      <th>p_onion1</th>\n",
              "      <th>s_onion1</th>\n",
              "      <th>p_onion2</th>\n",
              "      <th>s_onion2</th>\n",
              "    </tr>\n",
              "  </thead>\n",
              "  <tbody>\n",
              "    <tr>\n",
              "      <th>0</th>\n",
              "      <td>0.000000</td>\n",
              "      <td>0.382018</td>\n",
              "      <td>-1.342480</td>\n",
              "      <td>-0.696513</td>\n",
              "    </tr>\n",
              "    <tr>\n",
              "      <th>1</th>\n",
              "      <td>-1.199877</td>\n",
              "      <td>-0.228088</td>\n",
              "      <td>-1.247918</td>\n",
              "      <td>-0.816844</td>\n",
              "    </tr>\n",
              "    <tr>\n",
              "      <th>2</th>\n",
              "      <td>-0.940136</td>\n",
              "      <td>0.318104</td>\n",
              "      <td>-0.961082</td>\n",
              "      <td>-0.559957</td>\n",
              "    </tr>\n",
              "    <tr>\n",
              "      <th>3</th>\n",
              "      <td>-0.785481</td>\n",
              "      <td>2.092425</td>\n",
              "      <td>-0.940594</td>\n",
              "      <td>-0.311757</td>\n",
              "    </tr>\n",
              "    <tr>\n",
              "      <th>4</th>\n",
              "      <td>-0.605051</td>\n",
              "      <td>2.989625</td>\n",
              "      <td>-0.363769</td>\n",
              "      <td>-0.324822</td>\n",
              "    </tr>\n",
              "  </tbody>\n",
              "</table>\n",
              "</div>"
            ],
            "text/plain": [
              "   p_onion1  s_onion1  p_onion2  s_onion2\n",
              "0  0.000000  0.382018 -1.342480 -0.696513\n",
              "1 -1.199877 -0.228088 -1.247918 -0.816844\n",
              "2 -0.940136  0.318104 -0.961082 -0.559957\n",
              "3 -0.785481  2.092425 -0.940594 -0.311757\n",
              "4 -0.605051  2.989625 -0.363769 -0.324822"
            ]
          },
          "metadata": {},
          "execution_count": 479
        }
      ]
    },
    {
      "cell_type": "markdown",
      "metadata": {
        "id": "03163b12-d331-4e48-b278-f641320fa022"
      },
      "source": [
        "- training/test set 나누기\n",
        "    - 나중에 도출될 예측 모델의 예측 성능을 평가하기 위해, 먼저 전체 데이터셋을 \"Training set\"과 \"Test set\"으로 나누겠습니다. \n",
        "    - Training set에서 모델을 학습하고 Test set에서 모델의 예측 성능을 검증할 겁니다."
      ],
      "id": "03163b12-d331-4e48-b278-f641320fa022"
    },
    {
      "cell_type": "code",
      "metadata": {
        "colab": {
          "base_uri": "https://localhost:8080/",
          "height": 204
        },
        "id": "69d2e59d-f17f-4593-b154-b83577d0396e",
        "outputId": "2e7f50a9-d944-4a02-96d5-42904b770992"
      },
      "source": [
        "### features for linear regression model\n",
        "\n",
        "df[numerical_columns].head()"
      ],
      "id": "69d2e59d-f17f-4593-b154-b83577d0396e",
      "execution_count": 480,
      "outputs": [
        {
          "output_type": "execute_result",
          "data": {
            "text/html": [
              "<div>\n",
              "<style scoped>\n",
              "    .dataframe tbody tr th:only-of-type {\n",
              "        vertical-align: middle;\n",
              "    }\n",
              "\n",
              "    .dataframe tbody tr th {\n",
              "        vertical-align: top;\n",
              "    }\n",
              "\n",
              "    .dataframe thead th {\n",
              "        text-align: right;\n",
              "    }\n",
              "</style>\n",
              "<table border=\"1\" class=\"dataframe\">\n",
              "  <thead>\n",
              "    <tr style=\"text-align: right;\">\n",
              "      <th></th>\n",
              "      <th>s_onion1</th>\n",
              "      <th>s_onion2</th>\n",
              "    </tr>\n",
              "  </thead>\n",
              "  <tbody>\n",
              "    <tr>\n",
              "      <th>0</th>\n",
              "      <td>0.382018</td>\n",
              "      <td>-0.696513</td>\n",
              "    </tr>\n",
              "    <tr>\n",
              "      <th>1</th>\n",
              "      <td>-0.228088</td>\n",
              "      <td>-0.816844</td>\n",
              "    </tr>\n",
              "    <tr>\n",
              "      <th>2</th>\n",
              "      <td>0.318104</td>\n",
              "      <td>-0.559957</td>\n",
              "    </tr>\n",
              "    <tr>\n",
              "      <th>3</th>\n",
              "      <td>2.092425</td>\n",
              "      <td>-0.311757</td>\n",
              "    </tr>\n",
              "    <tr>\n",
              "      <th>4</th>\n",
              "      <td>2.989625</td>\n",
              "      <td>-0.324822</td>\n",
              "    </tr>\n",
              "  </tbody>\n",
              "</table>\n",
              "</div>"
            ],
            "text/plain": [
              "   s_onion1  s_onion2\n",
              "0  0.382018 -0.696513\n",
              "1 -0.228088 -0.816844\n",
              "2  0.318104 -0.559957\n",
              "3  2.092425 -0.311757\n",
              "4  2.989625 -0.324822"
            ]
          },
          "metadata": {},
          "execution_count": 480
        }
      ]
    },
    {
      "cell_type": "code",
      "metadata": {
        "id": "2b91c63c-f53e-4605-90c0-3a380da7efda"
      },
      "source": [
        "from sklearn.model_selection import train_test_split\n",
        "\n",
        "# split dataset into training & test\n",
        "X = df[numerical_columns]\n",
        "y = df['p_onion1']\n",
        "X_train, X_test, y_train, y_test = train_test_split(X, y, test_size=0.2, random_state=1)"
      ],
      "id": "2b91c63c-f53e-4605-90c0-3a380da7efda",
      "execution_count": 481,
      "outputs": []
    },
    {
      "cell_type": "code",
      "metadata": {
        "colab": {
          "base_uri": "https://localhost:8080/"
        },
        "id": "d60e8457-ab5e-4410-9e83-110bb8f2e23d",
        "outputId": "92fb0881-7b11-4931-adde-35f438ebf9a1"
      },
      "source": [
        "X_train.shape, y_train.shape"
      ],
      "id": "d60e8457-ab5e-4410-9e83-110bb8f2e23d",
      "execution_count": 482,
      "outputs": [
        {
          "output_type": "execute_result",
          "data": {
            "text/plain": [
              "((58, 2), (58,))"
            ]
          },
          "metadata": {},
          "execution_count": 482
        }
      ]
    },
    {
      "cell_type": "code",
      "metadata": {
        "colab": {
          "base_uri": "https://localhost:8080/"
        },
        "id": "a132f587-3687-442d-9975-ff0ac0e9a46d",
        "outputId": "4a55df06-15c1-4449-9954-6ce03e2e49da"
      },
      "source": [
        "X_test.shape, y_test.shape"
      ],
      "id": "a132f587-3687-442d-9975-ff0ac0e9a46d",
      "execution_count": 483,
      "outputs": [
        {
          "output_type": "execute_result",
          "data": {
            "text/plain": [
              "((15, 2), (15,))"
            ]
          },
          "metadata": {},
          "execution_count": 483
        }
      ]
    },
    {
      "cell_type": "code",
      "metadata": {
        "colab": {
          "base_uri": "https://localhost:8080/"
        },
        "id": "40d812f3-4721-402e-8466-029b356fbbf4",
        "outputId": "96fbef83-a7a8-40a2-8834-6513b471aa8a"
      },
      "source": [
        "y_train\n",
        "### CMEDV 값을 의미합니다."
      ],
      "id": "40d812f3-4721-402e-8466-029b356fbbf4",
      "execution_count": 484,
      "outputs": [
        {
          "output_type": "execute_result",
          "data": {
            "text/plain": [
              "39   -0.327466\n",
              "15    1.121926\n",
              "43   -1.398152\n",
              "35    0.188050\n",
              "67    3.090799\n",
              "59   -0.587206\n",
              "71    1.688993\n",
              "58   -1.100739\n",
              "56   -1.199877\n",
              "36    0.144429\n",
              "52   -0.307638\n",
              "31   -0.353241\n",
              "68    1.236926\n",
              "38    0.523135\n",
              "21   -0.307638\n",
              "65    0.215808\n",
              "3    -0.785481\n",
              "57   -1.199877\n",
              "48   -1.001601\n",
              "61    0.659945\n",
              "45   -1.441773\n",
              "24    0.782876\n",
              "8     0.659945\n",
              "17   -0.605051\n",
              "0     0.000000\n",
              "66    0.017533\n",
              "46   -1.398152\n",
              "7    -0.053846\n",
              "70    1.377701\n",
              "49   -1.398152\n",
              "13    1.377701\n",
              "22   -0.208501\n",
              "32    0.061154\n",
              "30   -0.446431\n",
              "41   -0.793413\n",
              "51   -0.406776\n",
              "23    1.641407\n",
              "4    -0.605051\n",
              "63    0.850289\n",
              "14    1.377701\n",
              "29   -0.605051\n",
              "28   -0.357207\n",
              "42   -1.366428\n",
              "11    1.427270\n",
              "62    1.338046\n",
              "18   -0.605051\n",
              "72    0.000000\n",
              "20   -0.208501\n",
              "50   -1.233584\n",
              "25    0.000000\n",
              "6     0.130550\n",
              "1    -1.199877\n",
              "16   -0.605051\n",
              "64    0.915720\n",
              "5    -0.317552\n",
              "9     0.759083\n",
              "12    1.377701\n",
              "37    0.188050\n",
              "Name: p_onion1, dtype: float64"
            ]
          },
          "metadata": {},
          "execution_count": 484
        }
      ]
    },
    {
      "cell_type": "code",
      "metadata": {
        "colab": {
          "base_uri": "https://localhost:8080/",
          "height": 1000
        },
        "id": "33b066ec-ec65-4eeb-b7df-c5b8808c519c",
        "outputId": "21d27793-659e-4b0e-9c15-4545207eed3b"
      },
      "source": [
        "X_train"
      ],
      "id": "33b066ec-ec65-4eeb-b7df-c5b8808c519c",
      "execution_count": 485,
      "outputs": [
        {
          "output_type": "execute_result",
          "data": {
            "text/html": [
              "<div>\n",
              "<style scoped>\n",
              "    .dataframe tbody tr th:only-of-type {\n",
              "        vertical-align: middle;\n",
              "    }\n",
              "\n",
              "    .dataframe tbody tr th {\n",
              "        vertical-align: top;\n",
              "    }\n",
              "\n",
              "    .dataframe thead th {\n",
              "        text-align: right;\n",
              "    }\n",
              "</style>\n",
              "<table border=\"1\" class=\"dataframe\">\n",
              "  <thead>\n",
              "    <tr style=\"text-align: right;\">\n",
              "      <th></th>\n",
              "      <th>s_onion1</th>\n",
              "      <th>s_onion2</th>\n",
              "    </tr>\n",
              "  </thead>\n",
              "  <tbody>\n",
              "    <tr>\n",
              "      <th>39</th>\n",
              "      <td>-0.157557</td>\n",
              "      <td>1.734824</td>\n",
              "    </tr>\n",
              "    <tr>\n",
              "      <th>15</th>\n",
              "      <td>1.086397</td>\n",
              "      <td>-0.340228</td>\n",
              "    </tr>\n",
              "    <tr>\n",
              "      <th>43</th>\n",
              "      <td>-0.435294</td>\n",
              "      <td>0.538255</td>\n",
              "    </tr>\n",
              "    <tr>\n",
              "      <th>35</th>\n",
              "      <td>-1.081581</td>\n",
              "      <td>-0.713450</td>\n",
              "    </tr>\n",
              "    <tr>\n",
              "      <th>67</th>\n",
              "      <td>0.191245</td>\n",
              "      <td>-0.645386</td>\n",
              "    </tr>\n",
              "    <tr>\n",
              "      <th>59</th>\n",
              "      <td>0.310159</td>\n",
              "      <td>-0.113040</td>\n",
              "    </tr>\n",
              "    <tr>\n",
              "      <th>71</th>\n",
              "      <td>0.129945</td>\n",
              "      <td>-0.624796</td>\n",
              "    </tr>\n",
              "    <tr>\n",
              "      <th>58</th>\n",
              "      <td>0.242398</td>\n",
              "      <td>-0.285624</td>\n",
              "    </tr>\n",
              "    <tr>\n",
              "      <th>56</th>\n",
              "      <td>0.049431</td>\n",
              "      <td>-0.080561</td>\n",
              "    </tr>\n",
              "    <tr>\n",
              "      <th>36</th>\n",
              "      <td>-0.962867</td>\n",
              "      <td>-0.766544</td>\n",
              "    </tr>\n",
              "    <tr>\n",
              "      <th>52</th>\n",
              "      <td>1.816885</td>\n",
              "      <td>1.890075</td>\n",
              "    </tr>\n",
              "    <tr>\n",
              "      <th>31</th>\n",
              "      <td>-1.049606</td>\n",
              "      <td>-0.554702</td>\n",
              "    </tr>\n",
              "    <tr>\n",
              "      <th>68</th>\n",
              "      <td>0.542657</td>\n",
              "      <td>-0.594459</td>\n",
              "    </tr>\n",
              "    <tr>\n",
              "      <th>38</th>\n",
              "      <td>-0.574802</td>\n",
              "      <td>0.301414</td>\n",
              "    </tr>\n",
              "    <tr>\n",
              "      <th>21</th>\n",
              "      <td>-0.901084</td>\n",
              "      <td>-0.532377</td>\n",
              "    </tr>\n",
              "    <tr>\n",
              "      <th>65</th>\n",
              "      <td>2.813854</td>\n",
              "      <td>1.807669</td>\n",
              "    </tr>\n",
              "    <tr>\n",
              "      <th>3</th>\n",
              "      <td>2.092425</td>\n",
              "      <td>-0.311757</td>\n",
              "    </tr>\n",
              "    <tr>\n",
              "      <th>57</th>\n",
              "      <td>0.434946</td>\n",
              "      <td>-0.381397</td>\n",
              "    </tr>\n",
              "    <tr>\n",
              "      <th>48</th>\n",
              "      <td>-0.148324</td>\n",
              "      <td>0.166046</td>\n",
              "    </tr>\n",
              "    <tr>\n",
              "      <th>61</th>\n",
              "      <td>0.059634</td>\n",
              "      <td>-0.070013</td>\n",
              "    </tr>\n",
              "    <tr>\n",
              "      <th>45</th>\n",
              "      <td>-0.059239</td>\n",
              "      <td>1.074381</td>\n",
              "    </tr>\n",
              "    <tr>\n",
              "      <th>24</th>\n",
              "      <td>-0.850568</td>\n",
              "      <td>-0.624527</td>\n",
              "    </tr>\n",
              "    <tr>\n",
              "      <th>8</th>\n",
              "      <td>-0.755169</td>\n",
              "      <td>-1.009284</td>\n",
              "    </tr>\n",
              "    <tr>\n",
              "      <th>17</th>\n",
              "      <td>0.954583</td>\n",
              "      <td>1.196204</td>\n",
              "    </tr>\n",
              "    <tr>\n",
              "      <th>0</th>\n",
              "      <td>0.382018</td>\n",
              "      <td>-0.696513</td>\n",
              "    </tr>\n",
              "    <tr>\n",
              "      <th>66</th>\n",
              "      <td>0.613710</td>\n",
              "      <td>-0.665359</td>\n",
              "    </tr>\n",
              "    <tr>\n",
              "      <th>46</th>\n",
              "      <td>-0.120632</td>\n",
              "      <td>0.471377</td>\n",
              "    </tr>\n",
              "    <tr>\n",
              "      <th>7</th>\n",
              "      <td>-0.600215</td>\n",
              "      <td>-0.900190</td>\n",
              "    </tr>\n",
              "    <tr>\n",
              "      <th>70</th>\n",
              "      <td>0.421431</td>\n",
              "      <td>-0.452253</td>\n",
              "    </tr>\n",
              "    <tr>\n",
              "      <th>49</th>\n",
              "      <td>-0.756906</td>\n",
              "      <td>-0.066717</td>\n",
              "    </tr>\n",
              "    <tr>\n",
              "      <th>13</th>\n",
              "      <td>-1.180799</td>\n",
              "      <td>-0.918565</td>\n",
              "    </tr>\n",
              "    <tr>\n",
              "      <th>22</th>\n",
              "      <td>-0.482904</td>\n",
              "      <td>-0.247755</td>\n",
              "    </tr>\n",
              "    <tr>\n",
              "      <th>32</th>\n",
              "      <td>-0.889875</td>\n",
              "      <td>-0.472503</td>\n",
              "    </tr>\n",
              "    <tr>\n",
              "      <th>30</th>\n",
              "      <td>-1.103150</td>\n",
              "      <td>-0.529345</td>\n",
              "    </tr>\n",
              "    <tr>\n",
              "      <th>41</th>\n",
              "      <td>1.404240</td>\n",
              "      <td>4.340757</td>\n",
              "    </tr>\n",
              "    <tr>\n",
              "      <th>51</th>\n",
              "      <td>0.891993</td>\n",
              "      <td>1.484858</td>\n",
              "    </tr>\n",
              "    <tr>\n",
              "      <th>23</th>\n",
              "      <td>-0.633086</td>\n",
              "      <td>-0.339153</td>\n",
              "    </tr>\n",
              "    <tr>\n",
              "      <th>4</th>\n",
              "      <td>2.989625</td>\n",
              "      <td>-0.324822</td>\n",
              "    </tr>\n",
              "    <tr>\n",
              "      <th>63</th>\n",
              "      <td>0.809961</td>\n",
              "      <td>1.019126</td>\n",
              "    </tr>\n",
              "    <tr>\n",
              "      <th>14</th>\n",
              "      <td>-0.950029</td>\n",
              "      <td>-0.309819</td>\n",
              "    </tr>\n",
              "    <tr>\n",
              "      <th>29</th>\n",
              "      <td>0.558466</td>\n",
              "      <td>0.565278</td>\n",
              "    </tr>\n",
              "    <tr>\n",
              "      <th>28</th>\n",
              "      <td>0.674476</td>\n",
              "      <td>-0.006089</td>\n",
              "    </tr>\n",
              "    <tr>\n",
              "      <th>42</th>\n",
              "      <td>-0.598312</td>\n",
              "      <td>0.872748</td>\n",
              "    </tr>\n",
              "    <tr>\n",
              "      <th>11</th>\n",
              "      <td>-1.443570</td>\n",
              "      <td>-1.122106</td>\n",
              "    </tr>\n",
              "    <tr>\n",
              "      <th>62</th>\n",
              "      <td>0.349371</td>\n",
              "      <td>0.272785</td>\n",
              "    </tr>\n",
              "    <tr>\n",
              "      <th>18</th>\n",
              "      <td>-0.851779</td>\n",
              "      <td>-0.346331</td>\n",
              "    </tr>\n",
              "    <tr>\n",
              "      <th>72</th>\n",
              "      <td>0.000000</td>\n",
              "      <td>0.000000</td>\n",
              "    </tr>\n",
              "    <tr>\n",
              "      <th>20</th>\n",
              "      <td>-0.595041</td>\n",
              "      <td>-0.183625</td>\n",
              "    </tr>\n",
              "    <tr>\n",
              "      <th>50</th>\n",
              "      <td>0.184188</td>\n",
              "      <td>0.734923</td>\n",
              "    </tr>\n",
              "    <tr>\n",
              "      <th>25</th>\n",
              "      <td>-1.199079</td>\n",
              "      <td>-0.776098</td>\n",
              "    </tr>\n",
              "    <tr>\n",
              "      <th>6</th>\n",
              "      <td>-0.209621</td>\n",
              "      <td>-0.783978</td>\n",
              "    </tr>\n",
              "    <tr>\n",
              "      <th>1</th>\n",
              "      <td>-0.228088</td>\n",
              "      <td>-0.816844</td>\n",
              "    </tr>\n",
              "    <tr>\n",
              "      <th>16</th>\n",
              "      <td>1.001723</td>\n",
              "      <td>0.509953</td>\n",
              "    </tr>\n",
              "    <tr>\n",
              "      <th>64</th>\n",
              "      <td>1.329297</td>\n",
              "      <td>1.613256</td>\n",
              "    </tr>\n",
              "    <tr>\n",
              "      <th>5</th>\n",
              "      <td>1.875636</td>\n",
              "      <td>-0.061060</td>\n",
              "    </tr>\n",
              "    <tr>\n",
              "      <th>9</th>\n",
              "      <td>-0.673421</td>\n",
              "      <td>-1.048818</td>\n",
              "    </tr>\n",
              "    <tr>\n",
              "      <th>12</th>\n",
              "      <td>-1.326376</td>\n",
              "      <td>-1.084759</td>\n",
              "    </tr>\n",
              "    <tr>\n",
              "      <th>37</th>\n",
              "      <td>-1.180206</td>\n",
              "      <td>-0.820444</td>\n",
              "    </tr>\n",
              "  </tbody>\n",
              "</table>\n",
              "</div>"
            ],
            "text/plain": [
              "    s_onion1  s_onion2\n",
              "39 -0.157557  1.734824\n",
              "15  1.086397 -0.340228\n",
              "43 -0.435294  0.538255\n",
              "35 -1.081581 -0.713450\n",
              "67  0.191245 -0.645386\n",
              "59  0.310159 -0.113040\n",
              "71  0.129945 -0.624796\n",
              "58  0.242398 -0.285624\n",
              "56  0.049431 -0.080561\n",
              "36 -0.962867 -0.766544\n",
              "52  1.816885  1.890075\n",
              "31 -1.049606 -0.554702\n",
              "68  0.542657 -0.594459\n",
              "38 -0.574802  0.301414\n",
              "21 -0.901084 -0.532377\n",
              "65  2.813854  1.807669\n",
              "3   2.092425 -0.311757\n",
              "57  0.434946 -0.381397\n",
              "48 -0.148324  0.166046\n",
              "61  0.059634 -0.070013\n",
              "45 -0.059239  1.074381\n",
              "24 -0.850568 -0.624527\n",
              "8  -0.755169 -1.009284\n",
              "17  0.954583  1.196204\n",
              "0   0.382018 -0.696513\n",
              "66  0.613710 -0.665359\n",
              "46 -0.120632  0.471377\n",
              "7  -0.600215 -0.900190\n",
              "70  0.421431 -0.452253\n",
              "49 -0.756906 -0.066717\n",
              "13 -1.180799 -0.918565\n",
              "22 -0.482904 -0.247755\n",
              "32 -0.889875 -0.472503\n",
              "30 -1.103150 -0.529345\n",
              "41  1.404240  4.340757\n",
              "51  0.891993  1.484858\n",
              "23 -0.633086 -0.339153\n",
              "4   2.989625 -0.324822\n",
              "63  0.809961  1.019126\n",
              "14 -0.950029 -0.309819\n",
              "29  0.558466  0.565278\n",
              "28  0.674476 -0.006089\n",
              "42 -0.598312  0.872748\n",
              "11 -1.443570 -1.122106\n",
              "62  0.349371  0.272785\n",
              "18 -0.851779 -0.346331\n",
              "72  0.000000  0.000000\n",
              "20 -0.595041 -0.183625\n",
              "50  0.184188  0.734923\n",
              "25 -1.199079 -0.776098\n",
              "6  -0.209621 -0.783978\n",
              "1  -0.228088 -0.816844\n",
              "16  1.001723  0.509953\n",
              "64  1.329297  1.613256\n",
              "5   1.875636 -0.061060\n",
              "9  -0.673421 -1.048818\n",
              "12 -1.326376 -1.084759\n",
              "37 -1.180206 -0.820444"
            ]
          },
          "metadata": {},
          "execution_count": 485
        }
      ]
    },
    {
      "cell_type": "markdown",
      "metadata": {
        "id": "076f74f8-4c76-46be-aaff-2e5b73049a61"
      },
      "source": [
        "- 다중공산성\n",
        "\n",
        "    - 회귀 분석에서 하나의 feature(예측 변수)가 다른 feature와의 상관 관계가 높으면 (즉, 다중공선성이 존재하면), 회귀 분석 시 부정적인 영향을 미칠 수 있기 때문에, 모델링 하기 전에 먼저 다중공선성의 존재 여부를 확인해야합니다.\n",
        "    - 보통 다중공선성을 판단할 때 VIF값을 확인합니다. 일반적으로, VIF > 10인 feature들은 다른 변수와의 상관관계가 높아, 다중공선성이 존재하는 것으로 판단합니다. 즉, VIF > 10인 feature들은 설명변수에서 제거하는 것이 좋을 수도 있습니다."
      ],
      "id": "076f74f8-4c76-46be-aaff-2e5b73049a61"
    },
    {
      "cell_type": "code",
      "metadata": {
        "colab": {
          "base_uri": "https://localhost:8080/",
          "height": 111
        },
        "id": "63286a9f-673c-4ad4-93a2-e09ca3a3d0ab",
        "outputId": "a9a4056b-93f3-4c62-f600-29d138aff6d9"
      },
      "source": [
        "from statsmodels.stats.outliers_influence import variance_inflation_factor\n",
        "\n",
        "vif = pd.DataFrame()\n",
        "vif['features'] = X_train.columns\n",
        "vif[\"VIF Factor\"] = [variance_inflation_factor(X_train.values, i) for i in range(X_train.shape[1])]\n",
        "vif.round(1) \n",
        "### 소수점 첫째자리까지 표시합니다. 즉, 소수점 둘째짜리에서 반올림 합니다."
      ],
      "id": "63286a9f-673c-4ad4-93a2-e09ca3a3d0ab",
      "execution_count": 486,
      "outputs": [
        {
          "output_type": "execute_result",
          "data": {
            "text/html": [
              "<div>\n",
              "<style scoped>\n",
              "    .dataframe tbody tr th:only-of-type {\n",
              "        vertical-align: middle;\n",
              "    }\n",
              "\n",
              "    .dataframe tbody tr th {\n",
              "        vertical-align: top;\n",
              "    }\n",
              "\n",
              "    .dataframe thead th {\n",
              "        text-align: right;\n",
              "    }\n",
              "</style>\n",
              "<table border=\"1\" class=\"dataframe\">\n",
              "  <thead>\n",
              "    <tr style=\"text-align: right;\">\n",
              "      <th></th>\n",
              "      <th>features</th>\n",
              "      <th>VIF Factor</th>\n",
              "    </tr>\n",
              "  </thead>\n",
              "  <tbody>\n",
              "    <tr>\n",
              "      <th>0</th>\n",
              "      <td>s_onion1</td>\n",
              "      <td>1.4</td>\n",
              "    </tr>\n",
              "    <tr>\n",
              "      <th>1</th>\n",
              "      <td>s_onion2</td>\n",
              "      <td>1.4</td>\n",
              "    </tr>\n",
              "  </tbody>\n",
              "</table>\n",
              "</div>"
            ],
            "text/plain": [
              "   features  VIF Factor\n",
              "0  s_onion1         1.4\n",
              "1  s_onion2         1.4"
            ]
          },
          "metadata": {},
          "execution_count": 486
        }
      ]
    },
    {
      "cell_type": "code",
      "metadata": {
        "id": "a4afc358-8834-42d6-83c6-970f22287d99"
      },
      "source": [
        "### 해설) VIF값을 확인해보면, 모든 변수의 VIF값이 다 10 이하입니다. 따라서 다중공선성 문제가 존재하지 않아 모든 feature을 활용하여 회귀 모델링을 진행하면 됩니다."
      ],
      "id": "a4afc358-8834-42d6-83c6-970f22287d99",
      "execution_count": 487,
      "outputs": []
    },
    {
      "cell_type": "markdown",
      "metadata": {
        "id": "3ca9e0d8-3ede-4d15-b4b8-4c826685f823"
      },
      "source": [
        "### 3-2 회귀모델링\n",
        "- 먼저 Training set에서 선형 회귀 예측 모델을 학습합니다.\n",
        "- 그 다음 도출된 모델을 Test set에 적용해 주택 가격(“CMEDV”)을 예측합니다. \n",
        "- 이 결과는 실제 “CMEDV” 값과 비교하여 모델의 예측 성능을 평가하는 데 활용하게 됩니다.\n"
      ],
      "id": "3ca9e0d8-3ede-4d15-b4b8-4c826685f823"
    },
    {
      "cell_type": "code",
      "metadata": {
        "id": "339089c5-6f44-4c05-8e00-193a69a42304"
      },
      "source": [
        "from sklearn import linear_model\n",
        "\n",
        "# fit regression model in training set\n",
        "lr = linear_model.LinearRegression()\n",
        "model = lr.fit(X_train, y_train)\n",
        "\n",
        "# predict in test set\n",
        "pred_test = lr.predict(X_test)"
      ],
      "id": "339089c5-6f44-4c05-8e00-193a69a42304",
      "execution_count": 488,
      "outputs": []
    },
    {
      "cell_type": "markdown",
      "metadata": {
        "id": "f4b60cd3-6849-4176-9e0b-0a29b8e52678"
      },
      "source": [
        "### 3-3 모델해석하기\n",
        "- 각 feature, 설명변수, x, 컬럼에 대한 회귀계수를 확인해 보겠습니다. "
      ],
      "id": "f4b60cd3-6849-4176-9e0b-0a29b8e52678"
    },
    {
      "cell_type": "code",
      "metadata": {
        "colab": {
          "base_uri": "https://localhost:8080/"
        },
        "id": "cc105a0a-7372-4be8-b2fa-3f01c01fe912",
        "outputId": "3c9217dd-8200-44ee-d9ff-6ef82db2ee0c"
      },
      "source": [
        "### print coef \n",
        "### 계수를 출력합니다.\n",
        "print(lr.coef_)"
      ],
      "id": "cc105a0a-7372-4be8-b2fa-3f01c01fe912",
      "execution_count": 489,
      "outputs": [
        {
          "output_type": "stream",
          "name": "stdout",
          "text": [
            "[ 0.03508983 -0.34658407]\n"
          ]
        }
      ]
    },
    {
      "cell_type": "code",
      "metadata": {
        "colab": {
          "base_uri": "https://localhost:8080/",
          "height": 111
        },
        "id": "18312aff-fe75-488f-9d1f-3afb60f69c0c",
        "outputId": "1d706e33-96a5-4025-e627-ab7c96a30910"
      },
      "source": [
        "### \"feature - coefficients\" DataFrame 만들기\n",
        "### zip 키워드는 리스트 2개를 하나로 묶습니다.(결과는 튜플로 됩니다.)\n",
        "\n",
        "coefs = pd.DataFrame(zip(df[numerical_columns].columns, lr.coef_), columns = ['feature', 'coefficients'])\n",
        "coefs\n",
        "\n",
        "### from sklearn.model_selection import train_test_split\n",
        "\n",
        "### split dataset into training & test\n",
        "# X = df[numerical_columns]\n",
        "# y = df['CMEDV']\n",
        "# X_train, X_test, y_train, y_test = train_test_split(X, y, test_size=0.2, random_state=1)"
      ],
      "id": "18312aff-fe75-488f-9d1f-3afb60f69c0c",
      "execution_count": 490,
      "outputs": [
        {
          "output_type": "execute_result",
          "data": {
            "text/html": [
              "<div>\n",
              "<style scoped>\n",
              "    .dataframe tbody tr th:only-of-type {\n",
              "        vertical-align: middle;\n",
              "    }\n",
              "\n",
              "    .dataframe tbody tr th {\n",
              "        vertical-align: top;\n",
              "    }\n",
              "\n",
              "    .dataframe thead th {\n",
              "        text-align: right;\n",
              "    }\n",
              "</style>\n",
              "<table border=\"1\" class=\"dataframe\">\n",
              "  <thead>\n",
              "    <tr style=\"text-align: right;\">\n",
              "      <th></th>\n",
              "      <th>feature</th>\n",
              "      <th>coefficients</th>\n",
              "    </tr>\n",
              "  </thead>\n",
              "  <tbody>\n",
              "    <tr>\n",
              "      <th>0</th>\n",
              "      <td>s_onion1</td>\n",
              "      <td>0.035090</td>\n",
              "    </tr>\n",
              "    <tr>\n",
              "      <th>1</th>\n",
              "      <td>s_onion2</td>\n",
              "      <td>-0.346584</td>\n",
              "    </tr>\n",
              "  </tbody>\n",
              "</table>\n",
              "</div>"
            ],
            "text/plain": [
              "    feature  coefficients\n",
              "0  s_onion1      0.035090\n",
              "1  s_onion2     -0.346584"
            ]
          },
          "metadata": {},
          "execution_count": 490
        }
      ]
    },
    {
      "cell_type": "code",
      "metadata": {
        "colab": {
          "base_uri": "https://localhost:8080/",
          "height": 111
        },
        "id": "765d54fa-fd10-4e63-9770-05436f304cbf",
        "outputId": "5c196764-506a-41cf-956c-265fa389ff67"
      },
      "source": [
        "### 크기 순서대로 나열합니다. \n",
        "### 크기 순서로 나열 : 내림차순으로 합니다. 다만 양, 음을 가리지 않습니다. 절대값을 기준으로 합니다. \n",
        "### 절대값 기준 함수: coefficients.abs().sort_values \n",
        "\n",
        "coefs_new = coefs.reindex(coefs.coefficients.abs().sort_values(ascending=False).index)\n",
        "coefs_new"
      ],
      "id": "765d54fa-fd10-4e63-9770-05436f304cbf",
      "execution_count": 491,
      "outputs": [
        {
          "output_type": "execute_result",
          "data": {
            "text/html": [
              "<div>\n",
              "<style scoped>\n",
              "    .dataframe tbody tr th:only-of-type {\n",
              "        vertical-align: middle;\n",
              "    }\n",
              "\n",
              "    .dataframe tbody tr th {\n",
              "        vertical-align: top;\n",
              "    }\n",
              "\n",
              "    .dataframe thead th {\n",
              "        text-align: right;\n",
              "    }\n",
              "</style>\n",
              "<table border=\"1\" class=\"dataframe\">\n",
              "  <thead>\n",
              "    <tr style=\"text-align: right;\">\n",
              "      <th></th>\n",
              "      <th>feature</th>\n",
              "      <th>coefficients</th>\n",
              "    </tr>\n",
              "  </thead>\n",
              "  <tbody>\n",
              "    <tr>\n",
              "      <th>1</th>\n",
              "      <td>s_onion2</td>\n",
              "      <td>-0.346584</td>\n",
              "    </tr>\n",
              "    <tr>\n",
              "      <th>0</th>\n",
              "      <td>s_onion1</td>\n",
              "      <td>0.035090</td>\n",
              "    </tr>\n",
              "  </tbody>\n",
              "</table>\n",
              "</div>"
            ],
            "text/plain": [
              "    feature  coefficients\n",
              "1  s_onion2     -0.346584\n",
              "0  s_onion1      0.035090"
            ]
          },
          "metadata": {},
          "execution_count": 491
        }
      ]
    },
    {
      "cell_type": "code",
      "metadata": {
        "colab": {
          "base_uri": "https://localhost:8080/",
          "height": 535
        },
        "id": "9dd2e107-ca0a-4c7a-82c9-cac02bb2f6b0",
        "outputId": "bc9d95a1-c391-474c-b12f-63fef674684f"
      },
      "source": [
        "### coefficients 를 시각화 합니다. \n",
        "\n",
        "### figure size\n",
        "plt.figure(figsize = (8, 8))\n",
        "\n",
        "### bar plot : matplotlib.pyplot 모듈의 barh() 함수를 사용해서 수평 막대 그래프를 그릴 수 있습니다. \n",
        "plt.barh(coefs_new['feature'], coefs_new['coefficients'])\n",
        "plt.title('\"feature - coefficient\" Graph')\n",
        "plt.xlabel('coefficients')\n",
        "plt.ylabel('features')\n",
        "plt.show()"
      ],
      "id": "9dd2e107-ca0a-4c7a-82c9-cac02bb2f6b0",
      "execution_count": 492,
      "outputs": [
        {
          "output_type": "display_data",
          "data": {
            "image/png": "[encoded data removed]",
            "text/plain": [
              "<Figure size 576x576 with 1 Axes>"
            ]
          },
          "metadata": {}
        }
      ]
    },
    {
      "cell_type": "markdown",
      "metadata": {
        "id": "50403d0d-4d0d-46bd-91cc-d7e8c849476e"
      },
      "source": [
        "- 유의성 검정을 합니다. 통계에서 변수가 유의하다는 의미입니다.\n"
      ],
      "id": "50403d0d-4d0d-46bd-91cc-d7e8c849476e"
    },
    {
      "cell_type": "code",
      "metadata": {
        "colab": {
          "base_uri": "https://localhost:8080/",
          "height": 465
        },
        "id": "28da13e6-52e1-407a-86cb-d9ffc2ba19b1",
        "outputId": "93165269-caaa-4954-d1a3-dd1817493190"
      },
      "source": [
        "import statsmodels.api as sm\n",
        "\n",
        "X_train2 = sm.add_constant(X_train)\n",
        "### 회귀분석모형 수식을 간단하게 만들기 위해 다음과 같이 상수항을 독립변수 데이터에 추가하는 것을 상수항 결합(bias augmentation)작업이라고 합니다.\n",
        "### ordinary least square 의 약자로, 거리의 최소값을 기준으로 구하는 함수입니다. \n",
        "\n",
        "model2 = sm.OLS(y_train, X_train2).fit()\n",
        "model2.summary()"
      ],
      "id": "28da13e6-52e1-407a-86cb-d9ffc2ba19b1",
      "execution_count": 493,
      "outputs": [
        {
          "output_type": "execute_result",
          "data": {
            "text/html": [
              "<table class=\"simpletable\">\n",
              "<caption>OLS Regression Results</caption>\n",
              "<tr>\n",
              "  <th>Dep. Variable:</th>        <td>p_onion1</td>     <th>  R-squared:         </th> <td>   0.106</td>\n",
              "</tr>\n",
              "<tr>\n",
              "  <th>Model:</th>                   <td>OLS</td>       <th>  Adj. R-squared:    </th> <td>   0.073</td>\n",
              "</tr>\n",
              "<tr>\n",
              "  <th>Method:</th>             <td>Least Squares</td>  <th>  F-statistic:       </th> <td>   3.244</td>\n",
              "</tr>\n",
              "<tr>\n",
              "  <th>Date:</th>             <td>Tue, 02 Nov 2021</td> <th>  Prob (F-statistic):</th>  <td>0.0466</td> \n",
              "</tr>\n",
              "<tr>\n",
              "  <th>Time:</th>                 <td>15:52:38</td>     <th>  Log-Likelihood:    </th> <td> -77.915</td>\n",
              "</tr>\n",
              "<tr>\n",
              "  <th>No. Observations:</th>      <td>    58</td>      <th>  AIC:               </th> <td>   161.8</td>\n",
              "</tr>\n",
              "<tr>\n",
              "  <th>Df Residuals:</th>          <td>    55</td>      <th>  BIC:               </th> <td>   168.0</td>\n",
              "</tr>\n",
              "<tr>\n",
              "  <th>Df Model:</th>              <td>     2</td>      <th>                     </th>     <td> </td>   \n",
              "</tr>\n",
              "<tr>\n",
              "  <th>Covariance Type:</th>      <td>nonrobust</td>    <th>                     </th>     <td> </td>   \n",
              "</tr>\n",
              "</table>\n",
              "<table class=\"simpletable\">\n",
              "<tr>\n",
              "      <td></td>        <th>coef</th>     <th>std err</th>      <th>t</th>      <th>P>|t|</th>  <th>[0.025</th>    <th>0.975]</th>  \n",
              "</tr>\n",
              "<tr>\n",
              "  <th>const</th>    <td>    0.0111</td> <td>    0.125</td> <td>    0.088</td> <td> 0.930</td> <td>   -0.240</td> <td>    0.262</td>\n",
              "</tr>\n",
              "<tr>\n",
              "  <th>s_onion1</th> <td>    0.0351</td> <td>    0.145</td> <td>    0.241</td> <td> 0.810</td> <td>   -0.256</td> <td>    0.326</td>\n",
              "</tr>\n",
              "<tr>\n",
              "  <th>s_onion2</th> <td>   -0.3466</td> <td>    0.151</td> <td>   -2.289</td> <td> 0.026</td> <td>   -0.650</td> <td>   -0.043</td>\n",
              "</tr>\n",
              "</table>\n",
              "<table class=\"simpletable\">\n",
              "<tr>\n",
              "  <th>Omnibus:</th>       <td> 3.116</td> <th>  Durbin-Watson:     </th> <td>   2.346</td>\n",
              "</tr>\n",
              "<tr>\n",
              "  <th>Prob(Omnibus):</th> <td> 0.211</td> <th>  Jarque-Bera (JB):  </th> <td>   2.766</td>\n",
              "</tr>\n",
              "<tr>\n",
              "  <th>Skew:</th>          <td> 0.533</td> <th>  Prob(JB):          </th> <td>   0.251</td>\n",
              "</tr>\n",
              "<tr>\n",
              "  <th>Kurtosis:</th>      <td> 2.921</td> <th>  Cond. No.          </th> <td>    1.79</td>\n",
              "</tr>\n",
              "</table><br/><br/>Warnings:<br/>[1] Standard Errors assume that the covariance matrix of the errors is correctly specified."
            ],
            "text/plain": [
              "<class 'statsmodels.iolib.summary.Summary'>\n",
              "\"\"\"\n",
              "                            OLS Regression Results                            \n",
              "==============================================================================\n",
              "Dep. Variable:               p_onion1   R-squared:                       0.106\n",
              "Model:                            OLS   Adj. R-squared:                  0.073\n",
              "Method:                 Least Squares   F-statistic:                     3.244\n",
              "Date:                Tue, 02 Nov 2021   Prob (F-statistic):             0.0466\n",
              "Time:                        15:52:38   Log-Likelihood:                -77.915\n",
              "No. Observations:                  58   AIC:                             161.8\n",
              "Df Residuals:                      55   BIC:                             168.0\n",
              "Df Model:                           2                                         \n",
              "Covariance Type:            nonrobust                                         \n",
              "==============================================================================\n",
              "                 coef    std err          t      P>|t|      [0.025      0.975]\n",
              "------------------------------------------------------------------------------\n",
              "const          0.0111      0.125      0.088      0.930      -0.240       0.262\n",
              "s_onion1       0.0351      0.145      0.241      0.810      -0.256       0.326\n",
              "s_onion2      -0.3466      0.151     -2.289      0.026      -0.650      -0.043\n",
              "==============================================================================\n",
              "Omnibus:                        3.116   Durbin-Watson:                   2.346\n",
              "Prob(Omnibus):                  0.211   Jarque-Bera (JB):                2.766\n",
              "Skew:                           0.533   Prob(JB):                        0.251\n",
              "Kurtosis:                       2.921   Cond. No.                         1.79\n",
              "==============================================================================\n",
              "\n",
              "Warnings:\n",
              "[1] Standard Errors assume that the covariance matrix of the errors is correctly specified.\n",
              "\"\"\""
            ]
          },
          "metadata": {},
          "execution_count": 493
        }
      ]
    },
    {
      "cell_type": "code",
      "metadata": {
        "id": "e88f68a8-a737-4b00-9219-5bb900e9b8aa"
      },
      "source": [
        "### 해설) coeff를 봐야 합니다.\n",
        "### P>|t|를 봐야 합니다. p-value를 의미한다. 0.05 보다 작아야 유의하다!! \n",
        "### R-squre 를 봐야 합니다. 설명력을 의미합니다."
      ],
      "id": "e88f68a8-a737-4b00-9219-5bb900e9b8aa",
      "execution_count": 494,
      "outputs": []
    },
    {
      "cell_type": "markdown",
      "metadata": {
        "id": "9c288156-ce7f-400a-822e-d9d6b007c357"
      },
      "source": [
        "\n",
        "## 참고) 기억하기!!! ###\n",
        "- 결정 계수 (coefficient of determination)는 추정한 선형 모형이 주어진 자료에 적합한 정도를 재는 척도이다.\n",
        "- 종속 변수의 변동량 중에서 적용한 모형으로 설명 가능한 부분의 비율을 가리킨다. \n",
        "- 결정계수의 통상적인 기호는 R²이다. \n",
        "- 일반적으로 모형의 설명력으로 해석되지만 모형에 설명 변수가 들어갈수록 증가하기 때문에 해석에 주의해야 한다. \n",
        "- 결정계수의 값은 0에서 1 사이에 있으며, 종속 변인과 독립변인 사이에 상관관계가 높을수록 1에 가까워진다. \n",
        "- 즉, 결정계수가 0에 가까운 값을 가지는 회귀모형은 유용성이 낮은 반면, 결정계수의 값이 클수록 회귀모형의 유용성이 높다고 할 수 있다."
      ],
      "id": "9c288156-ce7f-400a-822e-d9d6b007c357"
    },
    {
      "cell_type": "markdown",
      "metadata": {
        "id": "df2dd434-177f-47b1-b7ff-30059ba5283d"
      },
      "source": [
        "##### | 해석하기 | \n",
        "\n",
        "1. \"INDUS\"(상업적 비즈니스에 활용되지 않는 농지 면적: p-value: 0.747)과 “AGE”(1940년 이전에 건설된 비율: p-value:0.771)은 유의하지 않습니다. (p value > 0.05)\n",
        "\n",
        "2. 주택 가격에 Positive한 영향을 미칩니다.\n",
        "- \"ZN\"(25,000 제곱 피트(sq.ft) 이상의 주택지 비율),\n",
        "- \"CHAS\"(Charles 강과 접하고 있는지 여부),\n",
        "- \"RM\"(자택당 평균 방 갯수),\n",
        "- \"RAD\"(소속 도시가 Radial 고속도로와의 접근성 지수),\n",
        "- \"B\"(흑인 지수)는\n",
        ": 다른 변수의 값이 고정했을 때, 해당 변수의 값이 클수록 주택의 가격이 높을 것입니다.\n",
        "\n",
        "3. 주택 가격에 Negative한 영향을 미칩니다.\n",
        "- \"CRIM\"(지역 범죄율),\n",
        "- \"NOX\"(산화질소 농도),\n",
        "- \"DIS\"(보스턴 고용 센터와의 거리),\n",
        "- \"TAX\"(재산세),\n",
        "- \"PTRATIO\"(학생-교사 비율),\n",
        "- \"LSTAT\"(빈곤층 비율)은\n",
        ":다른 변수의 값이 고정했을 때, 해당 변수의 값이 작을수록 주택의 가격이 높을 것입니다."
      ],
      "id": "df2dd434-177f-47b1-b7ff-30059ba5283d"
    },
    {
      "cell_type": "markdown",
      "metadata": {
        "id": "20a02f48-9c97-4cad-a2bd-bb1a21125261"
      },
      "source": [
        "### 3-4 모델 에측 결과 및 성능 평가\n",
        "- 예측 결과를 가시화 합니다  \n",
        "\n",
        "학습한 모델을 Test set에 적용하여 y값(“CMEDV”)을 예측합니다.\n",
        "\n",
        "예측 결과를 확인하기 위해 실제값과 예측값을 한 plot에 출력해 시각화해보겠습니다."
      ],
      "id": "20a02f48-9c97-4cad-a2bd-bb1a21125261"
    },
    {
      "cell_type": "code",
      "metadata": {
        "colab": {
          "base_uri": "https://localhost:8080/",
          "height": 204
        },
        "id": "d36eae86-d675-479c-bcc7-a3878f5dedae",
        "outputId": "4e65b668-e3cb-4ba7-f7c2-71d5e6289d73"
      },
      "source": [
        "### 예측 결과 시각화 (test set)\n",
        "df = pd.DataFrame({'actual': y_test, 'prediction': pred_test})\n",
        "df = df.sort_values(by='actual').reset_index(drop=True)\n",
        "df.head()\n",
        "\n",
        "### reset_index() : 아무래도 데이터프레임의 다양한 전처리 과정을 거치게 되면 인덱스가 뒤죽박죽인 경우가 많다. 이럴때 인덱스를 다시 처음부터 재배열 해주는 유용한 함수다.\n",
        "### drop=True옵션을 주면 기존 인덱스를 버리고 재배열해준다.\n",
        "### https://yganalyst.github.io/data_handling/Pd_2/"
      ],
      "id": "d36eae86-d675-479c-bcc7-a3878f5dedae",
      "execution_count": 495,
      "outputs": [
        {
          "output_type": "execute_result",
          "data": {
            "text/html": [
              "<div>\n",
              "<style scoped>\n",
              "    .dataframe tbody tr th:only-of-type {\n",
              "        vertical-align: middle;\n",
              "    }\n",
              "\n",
              "    .dataframe tbody tr th {\n",
              "        vertical-align: top;\n",
              "    }\n",
              "\n",
              "    .dataframe thead th {\n",
              "        text-align: right;\n",
              "    }\n",
              "</style>\n",
              "<table border=\"1\" class=\"dataframe\">\n",
              "  <thead>\n",
              "    <tr style=\"text-align: right;\">\n",
              "      <th></th>\n",
              "      <th>actual</th>\n",
              "      <th>prediction</th>\n",
              "    </tr>\n",
              "  </thead>\n",
              "  <tbody>\n",
              "    <tr>\n",
              "      <th>0</th>\n",
              "      <td>-1.398152</td>\n",
              "      <td>-0.197129</td>\n",
              "    </tr>\n",
              "    <tr>\n",
              "      <th>1</th>\n",
              "      <td>-1.249446</td>\n",
              "      <td>0.139484</td>\n",
              "    </tr>\n",
              "    <tr>\n",
              "      <th>2</th>\n",
              "      <td>-1.199877</td>\n",
              "      <td>0.157179</td>\n",
              "    </tr>\n",
              "    <tr>\n",
              "      <th>3</th>\n",
              "      <td>-1.199877</td>\n",
              "      <td>-0.027412</td>\n",
              "    </tr>\n",
              "    <tr>\n",
              "      <th>4</th>\n",
              "      <td>-0.940136</td>\n",
              "      <td>0.216291</td>\n",
              "    </tr>\n",
              "  </tbody>\n",
              "</table>\n",
              "</div>"
            ],
            "text/plain": [
              "     actual  prediction\n",
              "0 -1.398152   -0.197129\n",
              "1 -1.249446    0.139484\n",
              "2 -1.199877    0.157179\n",
              "3 -1.199877   -0.027412\n",
              "4 -0.940136    0.216291"
            ]
          },
          "metadata": {},
          "execution_count": 495
        }
      ]
    },
    {
      "cell_type": "code",
      "metadata": {
        "colab": {
          "base_uri": "https://localhost:8080/",
          "height": 569
        },
        "id": "c00a8a02-57c9-4cee-bfd9-b487bccbfdcd",
        "outputId": "33e01568-e0c3-4826-a19f-394e02d79eaa"
      },
      "source": [
        "plt.figure(figsize=(12, 9))\n",
        "plt.scatter(df.index, df['prediction'], marker='x', color='r')\n",
        "plt.scatter(df.index, df['actual'], alpha=0.3, marker='o', color='black')\n",
        "plt.title(\"Prediction Result in Test Set\", fontsize=20)\n",
        "plt.legend(['prediction', 'actual'], fontsize=12)\n",
        "plt.show()"
      ],
      "id": "c00a8a02-57c9-4cee-bfd9-b487bccbfdcd",
      "execution_count": 496,
      "outputs": [
        {
          "output_type": "display_data",
          "data": {
            "image/png": "[encoded data removed]",
            "text/plain": [
              "<Figure size 864x648 with 1 Axes>"
            ]
          },
          "metadata": {}
        }
      ]
    },
    {
      "cell_type": "markdown",
      "metadata": {
        "id": "0125d8e9-16b0-4ad2-a641-dd895e04749b"
      },
      "source": [
        "- 모델 성능 평가 (R squre 와 RMSE)"
      ],
      "id": "0125d8e9-16b0-4ad2-a641-dd895e04749b"
    },
    {
      "cell_type": "code",
      "metadata": {
        "colab": {
          "base_uri": "https://localhost:8080/"
        },
        "id": "7117d0ea-297c-4dee-962d-2537a49a3bef",
        "outputId": "8ee8085a-8a1e-4e77-97a2-857993bbc87c"
      },
      "source": [
        "### R square\n",
        "### 결정계수 : 0 부터 1까지의 값을 갖고, 1에 가까울수록 설명력이 높음을 의미한다. \n",
        "### 선형 회귀 모델이 데이터에 대해 얼마나 잘 설명해주는지에 대한 값\n",
        "print(model.score(X_train, y_train))  # training set\n",
        "print(model.score(X_test, y_test))  # test set"
      ],
      "id": "7117d0ea-297c-4dee-962d-2537a49a3bef",
      "execution_count": 497,
      "outputs": [
        {
          "output_type": "stream",
          "name": "stdout",
          "text": [
            "0.10551890402990416\n",
            "0.050801703155534894\n"
          ]
        }
      ]
    },
    {
      "cell_type": "code",
      "metadata": {
        "colab": {
          "base_uri": "https://localhost:8080/"
        },
        "id": "c9f76023-61e1-4981-aab5-8345c60b0280",
        "outputId": "97e334b7-a86b-4bea-ba4d-39f23009a6d2"
      },
      "source": [
        "### RMSE\n",
        "### 제곱근을 취한 평균 제곱근 오차(Root mean squared error, RMSE) = 표준편차\n",
        "### 특정 수치에 대한 예측의 정확도를 표현할 때, \n",
        "### Accuracy로 판단하기에는 정확도를 올바르게 표기할 수 없어, RMSE 수치로 정확도 판단을 하곤 한다. \n",
        "### 일반적으로 해당 수치가 낮을수록 정확도가 높다고 판단한다.\n",
        "from sklearn.metrics import mean_squared_error\n",
        "from math import sqrt\n",
        "\n",
        "# training set\n",
        "pred_train = lr.predict(X_train)\n",
        "print(sqrt(mean_squared_error(y_train, pred_train)))\n",
        "\n",
        "# test set\n",
        "print(sqrt(mean_squared_error(y_test, pred_test)))"
      ],
      "id": "c9f76023-61e1-4981-aab5-8345c60b0280",
      "execution_count": 501,
      "outputs": [
        {
          "output_type": "stream",
          "name": "stdout",
          "text": [
            "0.9272098849898941\n",
            "1.0435614499262107\n"
          ]
        }
      ]
    },
    {
      "cell_type": "code",
      "metadata": {
        "id": "wgM8RYfB9DYi"
      },
      "source": [
        "from sklearn import linear_model\n",
        "\n",
        "# fit regression model in training set\n",
        "lr = linear_model.LinearRegression()\n",
        "model = lr.fit(X_train, y_train)\n",
        "\n",
        "# predict in test set\n",
        "pred_test = lr.predict(X_test)"
      ],
      "id": "wgM8RYfB9DYi",
      "execution_count": 502,
      "outputs": []
    },
    {
      "cell_type": "code",
      "metadata": {
        "id": "b78eecd3-8f7e-416e-8eb5-94202a027104"
      },
      "source": [
        "### 해설) Test set에서 해당 예측 모델의 R square가 0.05이고, RMSE가 1.04입니다."
      ],
      "id": "b78eecd3-8f7e-416e-8eb5-94202a027104",
      "execution_count": 503,
      "outputs": []
    }
  ]
}