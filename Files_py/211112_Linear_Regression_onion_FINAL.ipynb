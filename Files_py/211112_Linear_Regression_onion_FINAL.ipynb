{
  "nbformat": 4,
  "nbformat_minor": 5,
  "metadata": {
    "kernelspec": {
      "display_name": "Python 3",
      "language": "python",
      "name": "python3"
    },
    "language_info": {
      "codemirror_mode": {
        "name": "ipython",
        "version": 3
      },
      "file_extension": ".py",
      "mimetype": "text/x-python",
      "name": "python",
      "nbconvert_exporter": "python",
      "pygments_lexer": "ipython3",
      "version": "3.8.8"
    },
    "colab": {
      "name": "211112_Linear_Regression_onion_FINAL.ipynb",
      "provenance": [],
      "collapsed_sections": []
    }
  },
  "cells": [
    {
      "cell_type": "code",
      "metadata": {
        "id": "35014ccd-c303-4be8-a823-536841a42f26"
      },
      "source": [
        "### 사용할 라이브러리\n",
        "import pandas as pd ### 데이터 분석을 하기 위한 파이썬 라이브러리\n",
        "import numpy as np\n",
        "import matplotlib.pyplot as plt\n",
        "import seaborn as sns\n",
        "%matplotlib inline"
      ],
      "id": "35014ccd-c303-4be8-a823-536841a42f26",
      "execution_count": 978,
      "outputs": []
    },
    {
      "cell_type": "code",
      "metadata": {
        "id": "5e1bdc00-119a-4919-b57f-fbbb7bf6600b"
      },
      "source": [
        "df1=pd.read_csv(\"/content/onion.csv\", encoding = 'cp949')\n",
        "df2=pd.read_csv(\"/content/onion_weather.csv\", encoding = 'cp949')"
      ],
      "id": "5e1bdc00-119a-4919-b57f-fbbb7bf6600b",
      "execution_count": 979,
      "outputs": []
    },
    {
      "cell_type": "code",
      "metadata": {
        "colab": {
          "base_uri": "https://localhost:8080/",
          "height": 227
        },
        "id": "0a542fae-b01d-4cd8-aa97-23b2e765c90d",
        "outputId": "a5fae067-7797-4f52-8fc3-97f74de78c08"
      },
      "source": [
        "#데이터셋을 불러와서 첫 세 줄을 출력하여 데이터의 구성을 한 번 살펴볼게요.\n",
        "df1.head(3)"
      ],
      "id": "0a542fae-b01d-4cd8-aa97-23b2e765c90d",
      "execution_count": 980,
      "outputs": [
        {
          "output_type": "execute_result",
          "data": {
            "text/html": [
              "<div>\n",
              "<style scoped>\n",
              "    .dataframe tbody tr th:only-of-type {\n",
              "        vertical-align: middle;\n",
              "    }\n",
              "\n",
              "    .dataframe tbody tr th {\n",
              "        vertical-align: top;\n",
              "    }\n",
              "\n",
              "    .dataframe thead th {\n",
              "        text-align: right;\n",
              "    }\n",
              "</style>\n",
              "<table border=\"1\" class=\"dataframe\">\n",
              "  <thead>\n",
              "    <tr style=\"text-align: right;\">\n",
              "      <th></th>\n",
              "      <th>거래일자</th>\n",
              "      <th>양파(일반) 1.0 kg 그물망 /특</th>\n",
              "      <th>양파(일반) 1.0 kg 그물망 /상</th>\n",
              "      <th>양파(일반) 1.0 kg 그물망 /중</th>\n",
              "      <th>양파(일반) 1.0 kg 그물망 /하</th>\n",
              "      <th>양파(전체) 반입량</th>\n",
              "      <th>저장양파 1.0 kg 그물망 /특</th>\n",
              "      <th>저장양파 1.0 kg 그물망 /중</th>\n",
              "      <th>저장양파 반입량</th>\n",
              "      <th>기타 1.0 kg 그물망 /특</th>\n",
              "      <th>기타 1.0 kg 그물망 /상</th>\n",
              "      <th>기타 1.0 kg 그물망 /중</th>\n",
              "      <th>기타 1.0 kg 그물망 /하</th>\n",
              "      <th>기타 반입량</th>\n",
              "    </tr>\n",
              "  </thead>\n",
              "  <tbody>\n",
              "    <tr>\n",
              "      <th>0</th>\n",
              "      <td>2011-01-01</td>\n",
              "      <td>NaN</td>\n",
              "      <td>NaN</td>\n",
              "      <td>NaN</td>\n",
              "      <td>NaN</td>\n",
              "      <td>6874167.0</td>\n",
              "      <td>NaN</td>\n",
              "      <td>NaN</td>\n",
              "      <td>1692562.0</td>\n",
              "      <td>2790.0</td>\n",
              "      <td>NaN</td>\n",
              "      <td>NaN</td>\n",
              "      <td>NaN</td>\n",
              "      <td>6210173.0</td>\n",
              "    </tr>\n",
              "    <tr>\n",
              "      <th>1</th>\n",
              "      <td>2011-02-01</td>\n",
              "      <td>NaN</td>\n",
              "      <td>NaN</td>\n",
              "      <td>NaN</td>\n",
              "      <td>NaN</td>\n",
              "      <td>5128667.0</td>\n",
              "      <td>NaN</td>\n",
              "      <td>NaN</td>\n",
              "      <td>973044.0</td>\n",
              "      <td>2591.0</td>\n",
              "      <td>NaN</td>\n",
              "      <td>NaN</td>\n",
              "      <td>NaN</td>\n",
              "      <td>4839637.0</td>\n",
              "    </tr>\n",
              "    <tr>\n",
              "      <th>2</th>\n",
              "      <td>2011-03-01</td>\n",
              "      <td>NaN</td>\n",
              "      <td>2145.0</td>\n",
              "      <td>1507.0</td>\n",
              "      <td>NaN</td>\n",
              "      <td>8369126.0</td>\n",
              "      <td>NaN</td>\n",
              "      <td>NaN</td>\n",
              "      <td>2179855.0</td>\n",
              "      <td>NaN</td>\n",
              "      <td>NaN</td>\n",
              "      <td>NaN</td>\n",
              "      <td>NaN</td>\n",
              "      <td>7478763.0</td>\n",
              "    </tr>\n",
              "  </tbody>\n",
              "</table>\n",
              "</div>"
            ],
            "text/plain": [
              "         거래일자  양파(일반) 1.0 kg 그물망 /특  ...  기타 1.0 kg 그물망 /하     기타 반입량\n",
              "0  2011-01-01                   NaN  ...               NaN  6210173.0\n",
              "1  2011-02-01                   NaN  ...               NaN  4839637.0\n",
              "2  2011-03-01                   NaN  ...               NaN  7478763.0\n",
              "\n",
              "[3 rows x 14 columns]"
            ]
          },
          "metadata": {},
          "execution_count": 980
        }
      ]
    },
    {
      "cell_type": "code",
      "metadata": {
        "colab": {
          "base_uri": "https://localhost:8080/",
          "height": 142
        },
        "id": "felc42Masq13",
        "outputId": "4fe936f5-2983-4436-85d1-ac632a1071e6"
      },
      "source": [
        "df2.head(3)"
      ],
      "id": "felc42Masq13",
      "execution_count": 981,
      "outputs": [
        {
          "output_type": "execute_result",
          "data": {
            "text/html": [
              "<div>\n",
              "<style scoped>\n",
              "    .dataframe tbody tr th:only-of-type {\n",
              "        vertical-align: middle;\n",
              "    }\n",
              "\n",
              "    .dataframe tbody tr th {\n",
              "        vertical-align: top;\n",
              "    }\n",
              "\n",
              "    .dataframe thead th {\n",
              "        text-align: right;\n",
              "    }\n",
              "</style>\n",
              "<table border=\"1\" class=\"dataframe\">\n",
              "  <thead>\n",
              "    <tr style=\"text-align: right;\">\n",
              "      <th></th>\n",
              "      <th>년월</th>\n",
              "      <th>최고기온</th>\n",
              "      <th>평균기온</th>\n",
              "      <th>최저기온</th>\n",
              "      <th>강수량</th>\n",
              "    </tr>\n",
              "  </thead>\n",
              "  <tbody>\n",
              "    <tr>\n",
              "      <th>0</th>\n",
              "      <td>2011-01-01</td>\n",
              "      <td>7.3</td>\n",
              "      <td>-3.6</td>\n",
              "      <td>-17.1</td>\n",
              "      <td>0.0</td>\n",
              "    </tr>\n",
              "    <tr>\n",
              "      <th>1</th>\n",
              "      <td>2011-02-01</td>\n",
              "      <td>20.6</td>\n",
              "      <td>2.4</td>\n",
              "      <td>-11.4</td>\n",
              "      <td>61.5</td>\n",
              "    </tr>\n",
              "    <tr>\n",
              "      <th>2</th>\n",
              "      <td>2011-03-01</td>\n",
              "      <td>22.4</td>\n",
              "      <td>5.7</td>\n",
              "      <td>-6.3</td>\n",
              "      <td>23.5</td>\n",
              "    </tr>\n",
              "  </tbody>\n",
              "</table>\n",
              "</div>"
            ],
            "text/plain": [
              "           년월  최고기온  평균기온  최저기온   강수량\n",
              "0  2011-01-01   7.3  -3.6 -17.1   0.0\n",
              "1  2011-02-01  20.6   2.4 -11.4  61.5\n",
              "2  2011-03-01  22.4   5.7  -6.3  23.5"
            ]
          },
          "metadata": {},
          "execution_count": 981
        }
      ]
    },
    {
      "cell_type": "markdown",
      "metadata": {
        "id": "da499d31-7d35-4e42-a7f5-f1a49584ddf9"
      },
      "source": [
        "#### 2-1. 데이터 셋의 기본 정보 파악하기"
      ],
      "id": "da499d31-7d35-4e42-a7f5-f1a49584ddf9"
    },
    {
      "cell_type": "code",
      "metadata": {
        "colab": {
          "base_uri": "https://localhost:8080/"
        },
        "id": "a2f5b805-41b8-4bb0-98f9-2661bba907bd",
        "outputId": "0e11decb-338c-42bc-bcc5-4cbed0ac62ff"
      },
      "source": [
        "df1.shape "
      ],
      "id": "a2f5b805-41b8-4bb0-98f9-2661bba907bd",
      "execution_count": 982,
      "outputs": [
        {
          "output_type": "execute_result",
          "data": {
            "text/plain": [
              "(121, 14)"
            ]
          },
          "metadata": {},
          "execution_count": 982
        }
      ]
    },
    {
      "cell_type": "code",
      "metadata": {
        "colab": {
          "base_uri": "https://localhost:8080/"
        },
        "id": "1FcaJX_ltGvL",
        "outputId": "35151bf8-0660-4cde-efa0-ed69c4b16f52"
      },
      "source": [
        "df2.shape "
      ],
      "id": "1FcaJX_ltGvL",
      "execution_count": 983,
      "outputs": [
        {
          "output_type": "execute_result",
          "data": {
            "text/plain": [
              "(121, 5)"
            ]
          },
          "metadata": {},
          "execution_count": 983
        }
      ]
    },
    {
      "cell_type": "code",
      "metadata": {
        "colab": {
          "base_uri": "https://localhost:8080/",
          "height": 348
        },
        "id": "6d58f8e9-9866-494f-bb36-766559c29e3c",
        "outputId": "24b96301-f616-492b-957e-0840a80b77d5"
      },
      "source": [
        "df1.describe()"
      ],
      "id": "6d58f8e9-9866-494f-bb36-766559c29e3c",
      "execution_count": 984,
      "outputs": [
        {
          "output_type": "execute_result",
          "data": {
            "text/html": [
              "<div>\n",
              "<style scoped>\n",
              "    .dataframe tbody tr th:only-of-type {\n",
              "        vertical-align: middle;\n",
              "    }\n",
              "\n",
              "    .dataframe tbody tr th {\n",
              "        vertical-align: top;\n",
              "    }\n",
              "\n",
              "    .dataframe thead th {\n",
              "        text-align: right;\n",
              "    }\n",
              "</style>\n",
              "<table border=\"1\" class=\"dataframe\">\n",
              "  <thead>\n",
              "    <tr style=\"text-align: right;\">\n",
              "      <th></th>\n",
              "      <th>양파(일반) 1.0 kg 그물망 /특</th>\n",
              "      <th>양파(일반) 1.0 kg 그물망 /상</th>\n",
              "      <th>양파(일반) 1.0 kg 그물망 /중</th>\n",
              "      <th>양파(일반) 1.0 kg 그물망 /하</th>\n",
              "      <th>양파(전체) 반입량</th>\n",
              "      <th>저장양파 1.0 kg 그물망 /특</th>\n",
              "      <th>저장양파 1.0 kg 그물망 /중</th>\n",
              "      <th>저장양파 반입량</th>\n",
              "      <th>기타 1.0 kg 그물망 /특</th>\n",
              "      <th>기타 1.0 kg 그물망 /상</th>\n",
              "      <th>기타 1.0 kg 그물망 /중</th>\n",
              "      <th>기타 1.0 kg 그물망 /하</th>\n",
              "      <th>기타 반입량</th>\n",
              "    </tr>\n",
              "  </thead>\n",
              "  <tbody>\n",
              "    <tr>\n",
              "      <th>count</th>\n",
              "      <td>85.000000</td>\n",
              "      <td>93.000000</td>\n",
              "      <td>119.000000</td>\n",
              "      <td>3.000000</td>\n",
              "      <td>1.200000e+02</td>\n",
              "      <td>20.000000</td>\n",
              "      <td>1.0</td>\n",
              "      <td>1.200000e+02</td>\n",
              "      <td>113.000000</td>\n",
              "      <td>16.000000</td>\n",
              "      <td>12.000000</td>\n",
              "      <td>1.0</td>\n",
              "      <td>1.200000e+02</td>\n",
              "    </tr>\n",
              "    <tr>\n",
              "      <th>mean</th>\n",
              "      <td>1967.458824</td>\n",
              "      <td>1650.752688</td>\n",
              "      <td>1423.512605</td>\n",
              "      <td>733.333333</td>\n",
              "      <td>1.181952e+07</td>\n",
              "      <td>1160.700000</td>\n",
              "      <td>550.0</td>\n",
              "      <td>3.444149e+06</td>\n",
              "      <td>1583.115044</td>\n",
              "      <td>1093.250000</td>\n",
              "      <td>1287.500000</td>\n",
              "      <td>1530.0</td>\n",
              "      <td>1.429154e+07</td>\n",
              "    </tr>\n",
              "    <tr>\n",
              "      <th>std</th>\n",
              "      <td>523.593685</td>\n",
              "      <td>442.481802</td>\n",
              "      <td>410.032489</td>\n",
              "      <td>288.675135</td>\n",
              "      <td>4.843826e+06</td>\n",
              "      <td>527.790738</td>\n",
              "      <td>NaN</td>\n",
              "      <td>2.515986e+06</td>\n",
              "      <td>792.145051</td>\n",
              "      <td>432.742957</td>\n",
              "      <td>721.249106</td>\n",
              "      <td>NaN</td>\n",
              "      <td>8.954755e+06</td>\n",
              "    </tr>\n",
              "    <tr>\n",
              "      <th>min</th>\n",
              "      <td>900.000000</td>\n",
              "      <td>650.000000</td>\n",
              "      <td>588.000000</td>\n",
              "      <td>400.000000</td>\n",
              "      <td>5.128667e+06</td>\n",
              "      <td>335.000000</td>\n",
              "      <td>550.0</td>\n",
              "      <td>4.232230e+05</td>\n",
              "      <td>600.000000</td>\n",
              "      <td>350.000000</td>\n",
              "      <td>400.000000</td>\n",
              "      <td>1530.0</td>\n",
              "      <td>4.839637e+06</td>\n",
              "    </tr>\n",
              "    <tr>\n",
              "      <th>25%</th>\n",
              "      <td>1588.000000</td>\n",
              "      <td>1325.000000</td>\n",
              "      <td>1091.000000</td>\n",
              "      <td>650.000000</td>\n",
              "      <td>8.301106e+06</td>\n",
              "      <td>675.500000</td>\n",
              "      <td>550.0</td>\n",
              "      <td>9.882300e+05</td>\n",
              "      <td>1029.000000</td>\n",
              "      <td>1005.250000</td>\n",
              "      <td>887.500000</td>\n",
              "      <td>1530.0</td>\n",
              "      <td>8.758364e+06</td>\n",
              "    </tr>\n",
              "    <tr>\n",
              "      <th>50%</th>\n",
              "      <td>1857.000000</td>\n",
              "      <td>1578.000000</td>\n",
              "      <td>1331.000000</td>\n",
              "      <td>900.000000</td>\n",
              "      <td>1.084115e+07</td>\n",
              "      <td>1153.500000</td>\n",
              "      <td>550.0</td>\n",
              "      <td>3.305389e+06</td>\n",
              "      <td>1385.000000</td>\n",
              "      <td>1057.500000</td>\n",
              "      <td>1050.000000</td>\n",
              "      <td>1530.0</td>\n",
              "      <td>1.158075e+07</td>\n",
              "    </tr>\n",
              "    <tr>\n",
              "      <th>75%</th>\n",
              "      <td>2244.000000</td>\n",
              "      <td>1900.000000</td>\n",
              "      <td>1698.000000</td>\n",
              "      <td>900.000000</td>\n",
              "      <td>1.438750e+07</td>\n",
              "      <td>1641.000000</td>\n",
              "      <td>550.0</td>\n",
              "      <td>5.272961e+06</td>\n",
              "      <td>1922.000000</td>\n",
              "      <td>1202.000000</td>\n",
              "      <td>1458.250000</td>\n",
              "      <td>1530.0</td>\n",
              "      <td>1.633750e+07</td>\n",
              "    </tr>\n",
              "    <tr>\n",
              "      <th>max</th>\n",
              "      <td>3650.000000</td>\n",
              "      <td>2967.000000</td>\n",
              "      <td>2598.000000</td>\n",
              "      <td>900.000000</td>\n",
              "      <td>2.635884e+07</td>\n",
              "      <td>2042.000000</td>\n",
              "      <td>550.0</td>\n",
              "      <td>1.058668e+07</td>\n",
              "      <td>4506.000000</td>\n",
              "      <td>2000.000000</td>\n",
              "      <td>2800.000000</td>\n",
              "      <td>1530.0</td>\n",
              "      <td>6.081307e+07</td>\n",
              "    </tr>\n",
              "  </tbody>\n",
              "</table>\n",
              "</div>"
            ],
            "text/plain": [
              "       양파(일반) 1.0 kg 그물망 /특  ...        기타 반입량\n",
              "count             85.000000  ...  1.200000e+02\n",
              "mean            1967.458824  ...  1.429154e+07\n",
              "std              523.593685  ...  8.954755e+06\n",
              "min              900.000000  ...  4.839637e+06\n",
              "25%             1588.000000  ...  8.758364e+06\n",
              "50%             1857.000000  ...  1.158075e+07\n",
              "75%             2244.000000  ...  1.633750e+07\n",
              "max             3650.000000  ...  6.081307e+07\n",
              "\n",
              "[8 rows x 13 columns]"
            ]
          },
          "metadata": {},
          "execution_count": 984
        }
      ]
    },
    {
      "cell_type": "code",
      "metadata": {
        "colab": {
          "base_uri": "https://localhost:8080/",
          "height": 297
        },
        "id": "73A-2kGVwJwI",
        "outputId": "4024cff6-aeda-46a6-c86f-1230e6223aab"
      },
      "source": [
        "df2.describe()"
      ],
      "id": "73A-2kGVwJwI",
      "execution_count": 985,
      "outputs": [
        {
          "output_type": "execute_result",
          "data": {
            "text/html": [
              "<div>\n",
              "<style scoped>\n",
              "    .dataframe tbody tr th:only-of-type {\n",
              "        vertical-align: middle;\n",
              "    }\n",
              "\n",
              "    .dataframe tbody tr th {\n",
              "        vertical-align: top;\n",
              "    }\n",
              "\n",
              "    .dataframe thead th {\n",
              "        text-align: right;\n",
              "    }\n",
              "</style>\n",
              "<table border=\"1\" class=\"dataframe\">\n",
              "  <thead>\n",
              "    <tr style=\"text-align: right;\">\n",
              "      <th></th>\n",
              "      <th>최고기온</th>\n",
              "      <th>평균기온</th>\n",
              "      <th>최저기온</th>\n",
              "      <th>강수량</th>\n",
              "    </tr>\n",
              "  </thead>\n",
              "  <tbody>\n",
              "    <tr>\n",
              "      <th>count</th>\n",
              "      <td>121.000000</td>\n",
              "      <td>121.000000</td>\n",
              "      <td>121.000000</td>\n",
              "      <td>121.000000</td>\n",
              "    </tr>\n",
              "    <tr>\n",
              "      <th>mean</th>\n",
              "      <td>25.959504</td>\n",
              "      <td>13.085950</td>\n",
              "      <td>1.147934</td>\n",
              "      <td>112.097521</td>\n",
              "    </tr>\n",
              "    <tr>\n",
              "      <th>std</th>\n",
              "      <td>7.678938</td>\n",
              "      <td>9.143798</td>\n",
              "      <td>10.549630</td>\n",
              "      <td>118.118499</td>\n",
              "    </tr>\n",
              "    <tr>\n",
              "      <th>min</th>\n",
              "      <td>7.300000</td>\n",
              "      <td>-3.600000</td>\n",
              "      <td>-17.100000</td>\n",
              "      <td>0.000000</td>\n",
              "    </tr>\n",
              "    <tr>\n",
              "      <th>25%</th>\n",
              "      <td>19.700000</td>\n",
              "      <td>4.700000</td>\n",
              "      <td>-8.500000</td>\n",
              "      <td>33.000000</td>\n",
              "    </tr>\n",
              "    <tr>\n",
              "      <th>50%</th>\n",
              "      <td>26.800000</td>\n",
              "      <td>13.300000</td>\n",
              "      <td>-0.600000</td>\n",
              "      <td>74.900000</td>\n",
              "    </tr>\n",
              "    <tr>\n",
              "      <th>75%</th>\n",
              "      <td>32.600000</td>\n",
              "      <td>20.800000</td>\n",
              "      <td>10.000000</td>\n",
              "      <td>148.500000</td>\n",
              "    </tr>\n",
              "    <tr>\n",
              "      <th>max</th>\n",
              "      <td>38.700000</td>\n",
              "      <td>27.700000</td>\n",
              "      <td>22.200000</td>\n",
              "      <td>654.400000</td>\n",
              "    </tr>\n",
              "  </tbody>\n",
              "</table>\n",
              "</div>"
            ],
            "text/plain": [
              "             최고기온        평균기온        최저기온         강수량\n",
              "count  121.000000  121.000000  121.000000  121.000000\n",
              "mean    25.959504   13.085950    1.147934  112.097521\n",
              "std      7.678938    9.143798   10.549630  118.118499\n",
              "min      7.300000   -3.600000  -17.100000    0.000000\n",
              "25%     19.700000    4.700000   -8.500000   33.000000\n",
              "50%     26.800000   13.300000   -0.600000   74.900000\n",
              "75%     32.600000   20.800000   10.000000  148.500000\n",
              "max     38.700000   27.700000   22.200000  654.400000"
            ]
          },
          "metadata": {},
          "execution_count": 985
        }
      ]
    },
    {
      "cell_type": "code",
      "metadata": {
        "colab": {
          "base_uri": "https://localhost:8080/"
        },
        "id": "143096b2-499f-4270-95a7-bb4fadf26602",
        "outputId": "9edc57e1-860f-41c0-f6ee-81bb538bce6d"
      },
      "source": [
        "### data type을 확인합니다.\n",
        "df1.info()"
      ],
      "id": "143096b2-499f-4270-95a7-bb4fadf26602",
      "execution_count": 986,
      "outputs": [
        {
          "output_type": "stream",
          "name": "stdout",
          "text": [
            "<class 'pandas.core.frame.DataFrame'>\n",
            "RangeIndex: 121 entries, 0 to 120\n",
            "Data columns (total 14 columns):\n",
            " #   Column                Non-Null Count  Dtype  \n",
            "---  ------                --------------  -----  \n",
            " 0   거래일자                  121 non-null    object \n",
            " 1   양파(일반) 1.0 kg 그물망 /특  85 non-null     float64\n",
            " 2   양파(일반) 1.0 kg 그물망 /상  93 non-null     float64\n",
            " 3   양파(일반) 1.0 kg 그물망 /중  119 non-null    float64\n",
            " 4   양파(일반) 1.0 kg 그물망 /하  3 non-null      float64\n",
            " 5   양파(전체) 반입량            120 non-null    float64\n",
            " 6   저장양파 1.0 kg 그물망 /특    20 non-null     float64\n",
            " 7   저장양파 1.0 kg 그물망 /중    1 non-null      float64\n",
            " 8   저장양파 반입량              120 non-null    float64\n",
            " 9   기타 1.0 kg 그물망 /특      113 non-null    float64\n",
            " 10  기타 1.0 kg 그물망 /상      16 non-null     float64\n",
            " 11  기타 1.0 kg 그물망 /중      12 non-null     float64\n",
            " 12  기타 1.0 kg 그물망 /하      1 non-null      float64\n",
            " 13  기타 반입량                120 non-null    float64\n",
            "dtypes: float64(13), object(1)\n",
            "memory usage: 13.4+ KB\n"
          ]
        }
      ]
    },
    {
      "cell_type": "code",
      "metadata": {
        "colab": {
          "base_uri": "https://localhost:8080/"
        },
        "id": "uTEX9W-WwSSA",
        "outputId": "1ef7c10f-b50d-4820-dbdd-4309f535f226"
      },
      "source": [
        "df2.info()"
      ],
      "id": "uTEX9W-WwSSA",
      "execution_count": 987,
      "outputs": [
        {
          "output_type": "stream",
          "name": "stdout",
          "text": [
            "<class 'pandas.core.frame.DataFrame'>\n",
            "RangeIndex: 121 entries, 0 to 120\n",
            "Data columns (total 5 columns):\n",
            " #   Column  Non-Null Count  Dtype  \n",
            "---  ------  --------------  -----  \n",
            " 0   년월      121 non-null    object \n",
            " 1   최고기온    121 non-null    float64\n",
            " 2   평균기온    121 non-null    float64\n",
            " 3   최저기온    121 non-null    float64\n",
            " 4   강수량     121 non-null    float64\n",
            "dtypes: float64(4), object(1)\n",
            "memory usage: 4.9+ KB\n"
          ]
        }
      ]
    },
    {
      "cell_type": "code",
      "metadata": {
        "colab": {
          "base_uri": "https://localhost:8080/"
        },
        "id": "663b250b-a8fe-4dc5-bb02-c58d3d6ec5bc",
        "outputId": "e463d618-0ee0-42bd-e2f6-5e755901f256"
      },
      "source": [
        "df1.isnull().sum()"
      ],
      "id": "663b250b-a8fe-4dc5-bb02-c58d3d6ec5bc",
      "execution_count": 988,
      "outputs": [
        {
          "output_type": "execute_result",
          "data": {
            "text/plain": [
              "거래일자                      0\n",
              "양파(일반) 1.0 kg 그물망 /특     36\n",
              "양파(일반) 1.0 kg 그물망 /상     28\n",
              "양파(일반) 1.0 kg 그물망 /중      2\n",
              "양파(일반) 1.0 kg 그물망 /하    118\n",
              "양파(전체) 반입량                1\n",
              "저장양파 1.0 kg 그물망 /특      101\n",
              "저장양파 1.0 kg 그물망 /중      120\n",
              "저장양파 반입량                  1\n",
              "기타 1.0 kg 그물망 /특          8\n",
              "기타 1.0 kg 그물망 /상        105\n",
              "기타 1.0 kg 그물망 /중        109\n",
              "기타 1.0 kg 그물망 /하        120\n",
              "기타 반입량                    1\n",
              "dtype: int64"
            ]
          },
          "metadata": {},
          "execution_count": 988
        }
      ]
    },
    {
      "cell_type": "code",
      "metadata": {
        "colab": {
          "base_uri": "https://localhost:8080/"
        },
        "id": "v4EojggWtiKf",
        "outputId": "7b13998a-c2a5-44a0-92a8-448fd9208ff8"
      },
      "source": [
        "df2.isnull().sum()"
      ],
      "id": "v4EojggWtiKf",
      "execution_count": 989,
      "outputs": [
        {
          "output_type": "execute_result",
          "data": {
            "text/plain": [
              "년월      0\n",
              "최고기온    0\n",
              "평균기온    0\n",
              "최저기온    0\n",
              "강수량     0\n",
              "dtype: int64"
            ]
          },
          "metadata": {},
          "execution_count": 989
        }
      ]
    },
    {
      "cell_type": "code",
      "metadata": {
        "id": "a4b60566-9991-4561-89fc-5275aab33bc0"
      },
      "source": [
        "df1 = df1.dropna(axis=1, thresh= 60)"
      ],
      "id": "a4b60566-9991-4561-89fc-5275aab33bc0",
      "execution_count": 990,
      "outputs": []
    },
    {
      "cell_type": "code",
      "metadata": {
        "id": "lXmGVTpYvKK-",
        "colab": {
          "base_uri": "https://localhost:8080/"
        },
        "outputId": "a3196464-0914-4a68-ee85-627e4b351adb"
      },
      "source": [
        "df1.isnull().sum()"
      ],
      "id": "lXmGVTpYvKK-",
      "execution_count": 991,
      "outputs": [
        {
          "output_type": "execute_result",
          "data": {
            "text/plain": [
              "거래일자                     0\n",
              "양파(일반) 1.0 kg 그물망 /특    36\n",
              "양파(일반) 1.0 kg 그물망 /상    28\n",
              "양파(일반) 1.0 kg 그물망 /중     2\n",
              "양파(전체) 반입량               1\n",
              "저장양파 반입량                 1\n",
              "기타 1.0 kg 그물망 /특         8\n",
              "기타 반입량                   1\n",
              "dtype: int64"
            ]
          },
          "metadata": {},
          "execution_count": 991
        }
      ]
    },
    {
      "cell_type": "code",
      "metadata": {
        "id": "TViD3KvaRNBu"
      },
      "source": [
        "df1 = df1.fillna(df1.mean())"
      ],
      "id": "TViD3KvaRNBu",
      "execution_count": 992,
      "outputs": []
    },
    {
      "cell_type": "code",
      "metadata": {
        "colab": {
          "base_uri": "https://localhost:8080/"
        },
        "id": "yJ4cC5OJRa2-",
        "outputId": "1f911aeb-c1bb-470a-8445-2d2844064a0b"
      },
      "source": [
        "df1.isnull().sum()"
      ],
      "id": "yJ4cC5OJRa2-",
      "execution_count": 993,
      "outputs": [
        {
          "output_type": "execute_result",
          "data": {
            "text/plain": [
              "거래일자                    0\n",
              "양파(일반) 1.0 kg 그물망 /특    0\n",
              "양파(일반) 1.0 kg 그물망 /상    0\n",
              "양파(일반) 1.0 kg 그물망 /중    0\n",
              "양파(전체) 반입량              0\n",
              "저장양파 반입량                0\n",
              "기타 1.0 kg 그물망 /특        0\n",
              "기타 반입량                  0\n",
              "dtype: int64"
            ]
          },
          "metadata": {},
          "execution_count": 993
        }
      ]
    },
    {
      "cell_type": "code",
      "metadata": {
        "id": "47ccbbf2-3f90-4922-b748-37d54b1f3bb0"
      },
      "source": [
        "#거래일자 데이터 현재 형식 : 0000-00-00 => 숫자형 변수로 바꾸기 위해 우선 \"-\" 제거\n",
        "df1['거래일자'] = df1['거래일자'].str.replace(\"-\", \"\").head()\n",
        "df2['년월'] = df2['년월'].str.replace(\"-\", \"\").head()"
      ],
      "id": "47ccbbf2-3f90-4922-b748-37d54b1f3bb0",
      "execution_count": 994,
      "outputs": []
    },
    {
      "cell_type": "code",
      "metadata": {
        "id": "hDQ_DaswY6Ph"
      },
      "source": [
        "#거래일자 데이터 현재 형식 : 00000000 => dtype : float32로 변환\n",
        "df1['거래일자'] = df1['거래일자'].astype(float)"
      ],
      "id": "hDQ_DaswY6Ph",
      "execution_count": 995,
      "outputs": []
    },
    {
      "cell_type": "code",
      "metadata": {
        "colab": {
          "base_uri": "https://localhost:8080/"
        },
        "id": "2x0WphkaeiFU",
        "outputId": "a520c1df-9564-47f0-a2a4-6d50f2c05c1e"
      },
      "source": [
        "#거래일자 데이터 타입 바뀌었는지 확인\n",
        "df1.info()"
      ],
      "id": "2x0WphkaeiFU",
      "execution_count": 996,
      "outputs": [
        {
          "output_type": "stream",
          "name": "stdout",
          "text": [
            "<class 'pandas.core.frame.DataFrame'>\n",
            "RangeIndex: 121 entries, 0 to 120\n",
            "Data columns (total 8 columns):\n",
            " #   Column                Non-Null Count  Dtype  \n",
            "---  ------                --------------  -----  \n",
            " 0   거래일자                  5 non-null      float64\n",
            " 1   양파(일반) 1.0 kg 그물망 /특  121 non-null    float64\n",
            " 2   양파(일반) 1.0 kg 그물망 /상  121 non-null    float64\n",
            " 3   양파(일반) 1.0 kg 그물망 /중  121 non-null    float64\n",
            " 4   양파(전체) 반입량            121 non-null    float64\n",
            " 5   저장양파 반입량              121 non-null    float64\n",
            " 6   기타 1.0 kg 그물망 /특      121 non-null    float64\n",
            " 7   기타 반입량                121 non-null    float64\n",
            "dtypes: float64(8)\n",
            "memory usage: 7.7 KB\n"
          ]
        }
      ]
    },
    {
      "cell_type": "code",
      "metadata": {
        "colab": {
          "base_uri": "https://localhost:8080/"
        },
        "id": "oI-dvv5jw6Ig",
        "outputId": "04b2674e-45fd-406f-811c-14f87ad1485a"
      },
      "source": [
        "df2.info()"
      ],
      "id": "oI-dvv5jw6Ig",
      "execution_count": 997,
      "outputs": [
        {
          "output_type": "stream",
          "name": "stdout",
          "text": [
            "<class 'pandas.core.frame.DataFrame'>\n",
            "RangeIndex: 121 entries, 0 to 120\n",
            "Data columns (total 5 columns):\n",
            " #   Column  Non-Null Count  Dtype  \n",
            "---  ------  --------------  -----  \n",
            " 0   년월      5 non-null      object \n",
            " 1   최고기온    121 non-null    float64\n",
            " 2   평균기온    121 non-null    float64\n",
            " 3   최저기온    121 non-null    float64\n",
            " 4   강수량     121 non-null    float64\n",
            "dtypes: float64(4), object(1)\n",
            "memory usage: 4.9+ KB\n"
          ]
        }
      ]
    },
    {
      "cell_type": "code",
      "metadata": {
        "id": "SSaSy4ORfts0"
      },
      "source": [
        "df1 = df1.drop([\"저장양파 반입량\"], axis=1)\n",
        "#저장양파 가격이 존재하지 않아서 반입량 데이터 사용안함"
      ],
      "id": "SSaSy4ORfts0",
      "execution_count": 998,
      "outputs": []
    },
    {
      "cell_type": "code",
      "metadata": {
        "id": "Ikl9Du-WXDBl"
      },
      "source": [
        "df2 = df2.drop([\"년월\"], axis=1)"
      ],
      "id": "Ikl9Du-WXDBl",
      "execution_count": 999,
      "outputs": []
    },
    {
      "cell_type": "code",
      "metadata": {
        "id": "pSNsMcA7aID2"
      },
      "source": [
        "##양파(일반)의 경우, 가격은 등급별로 있으나 반입량이 합쳐져 있기 때문에 등급별 가격을 평균내어 새로운 column으로 추가한다.\n",
        "df1['양파(일반) 가격'] = (df1['양파(일반) 1.0 kg 그물망 /특'] + df1['양파(일반) 1.0 kg 그물망 /상'] + df1['양파(일반) 1.0 kg 그물망 /중'])/3"
      ],
      "id": "pSNsMcA7aID2",
      "execution_count": 1000,
      "outputs": []
    },
    {
      "cell_type": "code",
      "metadata": {
        "colab": {
          "base_uri": "https://localhost:8080/",
          "height": 142
        },
        "id": "NwaSFigzT4dC",
        "outputId": "a66add58-7e9f-4c66-babd-6a6c93059cd5"
      },
      "source": [
        "df1 = df1.drop([\"양파(일반) 1.0 kg 그물망 /특\", \"양파(일반) 1.0 kg 그물망 /상\", \"양파(일반) 1.0 kg 그물망 /중\"], axis=1)\n",
        "df1.head(3)"
      ],
      "id": "NwaSFigzT4dC",
      "execution_count": 1001,
      "outputs": [
        {
          "output_type": "execute_result",
          "data": {
            "text/html": [
              "<div>\n",
              "<style scoped>\n",
              "    .dataframe tbody tr th:only-of-type {\n",
              "        vertical-align: middle;\n",
              "    }\n",
              "\n",
              "    .dataframe tbody tr th {\n",
              "        vertical-align: top;\n",
              "    }\n",
              "\n",
              "    .dataframe thead th {\n",
              "        text-align: right;\n",
              "    }\n",
              "</style>\n",
              "<table border=\"1\" class=\"dataframe\">\n",
              "  <thead>\n",
              "    <tr style=\"text-align: right;\">\n",
              "      <th></th>\n",
              "      <th>거래일자</th>\n",
              "      <th>양파(전체) 반입량</th>\n",
              "      <th>기타 1.0 kg 그물망 /특</th>\n",
              "      <th>기타 반입량</th>\n",
              "      <th>양파(일반) 가격</th>\n",
              "    </tr>\n",
              "  </thead>\n",
              "  <tbody>\n",
              "    <tr>\n",
              "      <th>0</th>\n",
              "      <td>20110101.0</td>\n",
              "      <td>6874167.0</td>\n",
              "      <td>2790.000000</td>\n",
              "      <td>6210173.0</td>\n",
              "      <td>1680.574706</td>\n",
              "    </tr>\n",
              "    <tr>\n",
              "      <th>1</th>\n",
              "      <td>20110201.0</td>\n",
              "      <td>5128667.0</td>\n",
              "      <td>2591.000000</td>\n",
              "      <td>4839637.0</td>\n",
              "      <td>1680.574706</td>\n",
              "    </tr>\n",
              "    <tr>\n",
              "      <th>2</th>\n",
              "      <td>20110301.0</td>\n",
              "      <td>8369126.0</td>\n",
              "      <td>1583.115044</td>\n",
              "      <td>7478763.0</td>\n",
              "      <td>1873.152941</td>\n",
              "    </tr>\n",
              "  </tbody>\n",
              "</table>\n",
              "</div>"
            ],
            "text/plain": [
              "         거래일자  양파(전체) 반입량  기타 1.0 kg 그물망 /특     기타 반입량    양파(일반) 가격\n",
              "0  20110101.0   6874167.0       2790.000000  6210173.0  1680.574706\n",
              "1  20110201.0   5128667.0       2591.000000  4839637.0  1680.574706\n",
              "2  20110301.0   8369126.0       1583.115044  7478763.0  1873.152941"
            ]
          },
          "metadata": {},
          "execution_count": 1001
        }
      ]
    },
    {
      "cell_type": "code",
      "metadata": {
        "colab": {
          "base_uri": "https://localhost:8080/",
          "height": 142
        },
        "id": "zsUBcnTQ4f2q",
        "outputId": "4b9e4ac4-409e-4fa8-c210-7202ec8d69ca"
      },
      "source": [
        "#column 이름 바꾸기 => 깔끔한 데이터 시각화를 위해\n",
        "#기타 1.0kg 그물망 /특 == 양파(기타) 가격\n",
        "df1.rename(columns = {'거래일자': 'date', '양파(일반) 가격': 'p_onion1', '양파(전체) 반입량': 's_onion1', '기타 1.0 kg 그물망 /특': 'p_onion2', '기타 반입량': 's_onion2'}, inplace = True)\n",
        "df1.head(3)"
      ],
      "id": "zsUBcnTQ4f2q",
      "execution_count": 1002,
      "outputs": [
        {
          "output_type": "execute_result",
          "data": {
            "text/html": [
              "<div>\n",
              "<style scoped>\n",
              "    .dataframe tbody tr th:only-of-type {\n",
              "        vertical-align: middle;\n",
              "    }\n",
              "\n",
              "    .dataframe tbody tr th {\n",
              "        vertical-align: top;\n",
              "    }\n",
              "\n",
              "    .dataframe thead th {\n",
              "        text-align: right;\n",
              "    }\n",
              "</style>\n",
              "<table border=\"1\" class=\"dataframe\">\n",
              "  <thead>\n",
              "    <tr style=\"text-align: right;\">\n",
              "      <th></th>\n",
              "      <th>date</th>\n",
              "      <th>s_onion1</th>\n",
              "      <th>p_onion2</th>\n",
              "      <th>s_onion2</th>\n",
              "      <th>p_onion1</th>\n",
              "    </tr>\n",
              "  </thead>\n",
              "  <tbody>\n",
              "    <tr>\n",
              "      <th>0</th>\n",
              "      <td>20110101.0</td>\n",
              "      <td>6874167.0</td>\n",
              "      <td>2790.000000</td>\n",
              "      <td>6210173.0</td>\n",
              "      <td>1680.574706</td>\n",
              "    </tr>\n",
              "    <tr>\n",
              "      <th>1</th>\n",
              "      <td>20110201.0</td>\n",
              "      <td>5128667.0</td>\n",
              "      <td>2591.000000</td>\n",
              "      <td>4839637.0</td>\n",
              "      <td>1680.574706</td>\n",
              "    </tr>\n",
              "    <tr>\n",
              "      <th>2</th>\n",
              "      <td>20110301.0</td>\n",
              "      <td>8369126.0</td>\n",
              "      <td>1583.115044</td>\n",
              "      <td>7478763.0</td>\n",
              "      <td>1873.152941</td>\n",
              "    </tr>\n",
              "  </tbody>\n",
              "</table>\n",
              "</div>"
            ],
            "text/plain": [
              "         date   s_onion1     p_onion2   s_onion2     p_onion1\n",
              "0  20110101.0  6874167.0  2790.000000  6210173.0  1680.574706\n",
              "1  20110201.0  5128667.0  2591.000000  4839637.0  1680.574706\n",
              "2  20110301.0  8369126.0  1583.115044  7478763.0  1873.152941"
            ]
          },
          "metadata": {},
          "execution_count": 1002
        }
      ]
    },
    {
      "cell_type": "code",
      "metadata": {
        "id": "hit-NrA8bFID"
      },
      "source": [
        "#column 순서 바꾸기\n",
        "df1 = df1[['date',\t'p_onion1', 's_onion1',\t'p_onion2','s_onion2']]"
      ],
      "id": "hit-NrA8bFID",
      "execution_count": 1003,
      "outputs": []
    },
    {
      "cell_type": "code",
      "metadata": {
        "colab": {
          "base_uri": "https://localhost:8080/",
          "height": 142
        },
        "id": "Nt5AAKvixOSo",
        "outputId": "f7d7df2e-92e9-4e90-f7d6-a91680ae60f7"
      },
      "source": [
        "df2.rename(columns = {'최고기온': 'high_temp' , '평균기온': 'avg_temp', '최저기온': 'low_temp', '강수량': 'rain'}, inplace = True)\n",
        "df2.head(3)"
      ],
      "id": "Nt5AAKvixOSo",
      "execution_count": 1004,
      "outputs": [
        {
          "output_type": "execute_result",
          "data": {
            "text/html": [
              "<div>\n",
              "<style scoped>\n",
              "    .dataframe tbody tr th:only-of-type {\n",
              "        vertical-align: middle;\n",
              "    }\n",
              "\n",
              "    .dataframe tbody tr th {\n",
              "        vertical-align: top;\n",
              "    }\n",
              "\n",
              "    .dataframe thead th {\n",
              "        text-align: right;\n",
              "    }\n",
              "</style>\n",
              "<table border=\"1\" class=\"dataframe\">\n",
              "  <thead>\n",
              "    <tr style=\"text-align: right;\">\n",
              "      <th></th>\n",
              "      <th>high_temp</th>\n",
              "      <th>avg_temp</th>\n",
              "      <th>low_temp</th>\n",
              "      <th>rain</th>\n",
              "    </tr>\n",
              "  </thead>\n",
              "  <tbody>\n",
              "    <tr>\n",
              "      <th>0</th>\n",
              "      <td>7.3</td>\n",
              "      <td>-3.6</td>\n",
              "      <td>-17.1</td>\n",
              "      <td>0.0</td>\n",
              "    </tr>\n",
              "    <tr>\n",
              "      <th>1</th>\n",
              "      <td>20.6</td>\n",
              "      <td>2.4</td>\n",
              "      <td>-11.4</td>\n",
              "      <td>61.5</td>\n",
              "    </tr>\n",
              "    <tr>\n",
              "      <th>2</th>\n",
              "      <td>22.4</td>\n",
              "      <td>5.7</td>\n",
              "      <td>-6.3</td>\n",
              "      <td>23.5</td>\n",
              "    </tr>\n",
              "  </tbody>\n",
              "</table>\n",
              "</div>"
            ],
            "text/plain": [
              "   high_temp  avg_temp  low_temp  rain\n",
              "0        7.3      -3.6     -17.1   0.0\n",
              "1       20.6       2.4     -11.4  61.5\n",
              "2       22.4       5.7      -6.3  23.5"
            ]
          },
          "metadata": {},
          "execution_count": 1004
        }
      ]
    },
    {
      "cell_type": "code",
      "metadata": {
        "id": "47iAjUUhldSG"
      },
      "source": [
        "df = pd.concat([df1, df2], axis = 1)"
      ],
      "id": "47iAjUUhldSG",
      "execution_count": 1005,
      "outputs": []
    },
    {
      "cell_type": "code",
      "metadata": {
        "colab": {
          "base_uri": "https://localhost:8080/",
          "height": 142
        },
        "id": "LOvIQCJFWZZW",
        "outputId": "e7b049ba-c5e7-4c58-d528-5ba81d46bc11"
      },
      "source": [
        "df.head(3)"
      ],
      "id": "LOvIQCJFWZZW",
      "execution_count": 1006,
      "outputs": [
        {
          "output_type": "execute_result",
          "data": {
            "text/html": [
              "<div>\n",
              "<style scoped>\n",
              "    .dataframe tbody tr th:only-of-type {\n",
              "        vertical-align: middle;\n",
              "    }\n",
              "\n",
              "    .dataframe tbody tr th {\n",
              "        vertical-align: top;\n",
              "    }\n",
              "\n",
              "    .dataframe thead th {\n",
              "        text-align: right;\n",
              "    }\n",
              "</style>\n",
              "<table border=\"1\" class=\"dataframe\">\n",
              "  <thead>\n",
              "    <tr style=\"text-align: right;\">\n",
              "      <th></th>\n",
              "      <th>date</th>\n",
              "      <th>p_onion1</th>\n",
              "      <th>s_onion1</th>\n",
              "      <th>p_onion2</th>\n",
              "      <th>s_onion2</th>\n",
              "      <th>high_temp</th>\n",
              "      <th>avg_temp</th>\n",
              "      <th>low_temp</th>\n",
              "      <th>rain</th>\n",
              "    </tr>\n",
              "  </thead>\n",
              "  <tbody>\n",
              "    <tr>\n",
              "      <th>0</th>\n",
              "      <td>20110101.0</td>\n",
              "      <td>1680.574706</td>\n",
              "      <td>6874167.0</td>\n",
              "      <td>2790.000000</td>\n",
              "      <td>6210173.0</td>\n",
              "      <td>7.3</td>\n",
              "      <td>-3.6</td>\n",
              "      <td>-17.1</td>\n",
              "      <td>0.0</td>\n",
              "    </tr>\n",
              "    <tr>\n",
              "      <th>1</th>\n",
              "      <td>20110201.0</td>\n",
              "      <td>1680.574706</td>\n",
              "      <td>5128667.0</td>\n",
              "      <td>2591.000000</td>\n",
              "      <td>4839637.0</td>\n",
              "      <td>20.6</td>\n",
              "      <td>2.4</td>\n",
              "      <td>-11.4</td>\n",
              "      <td>61.5</td>\n",
              "    </tr>\n",
              "    <tr>\n",
              "      <th>2</th>\n",
              "      <td>20110301.0</td>\n",
              "      <td>1873.152941</td>\n",
              "      <td>8369126.0</td>\n",
              "      <td>1583.115044</td>\n",
              "      <td>7478763.0</td>\n",
              "      <td>22.4</td>\n",
              "      <td>5.7</td>\n",
              "      <td>-6.3</td>\n",
              "      <td>23.5</td>\n",
              "    </tr>\n",
              "  </tbody>\n",
              "</table>\n",
              "</div>"
            ],
            "text/plain": [
              "         date     p_onion1   s_onion1  ...  avg_temp  low_temp  rain\n",
              "0  20110101.0  1680.574706  6874167.0  ...      -3.6     -17.1   0.0\n",
              "1  20110201.0  1680.574706  5128667.0  ...       2.4     -11.4  61.5\n",
              "2  20110301.0  1873.152941  8369126.0  ...       5.7      -6.3  23.5\n",
              "\n",
              "[3 rows x 9 columns]"
            ]
          },
          "metadata": {},
          "execution_count": 1006
        }
      ]
    },
    {
      "cell_type": "markdown",
      "metadata": {
        "id": "9aa4336f-45c4-45ec-9589-8e3b96dab683"
      },
      "source": [
        "#### 2-2 종속변수(타겟변수, y)의 탐색\n",
        "\n",
        "    - p_onion1 / p_onion2 : 양파 거래 가격이 타겟변수"
      ],
      "id": "9aa4336f-45c4-45ec-9589-8e3b96dab683"
    },
    {
      "cell_type": "code",
      "metadata": {
        "colab": {
          "base_uri": "https://localhost:8080/"
        },
        "id": "46461834-bb74-4af0-8c38-f543a61f0595",
        "outputId": "bdce157f-cd70-4d10-da7a-fe8dbcba8ca2"
      },
      "source": [
        "df['p_onion1'].describe()"
      ],
      "id": "46461834-bb74-4af0-8c38-f543a61f0595",
      "execution_count": 1007,
      "outputs": [
        {
          "output_type": "execute_result",
          "data": {
            "text/plain": [
              "count     121.000000\n",
              "mean     1680.574706\n",
              "std       349.939596\n",
              "min      1016.666667\n",
              "25%      1434.000000\n",
              "50%      1585.584229\n",
              "75%      1822.666667\n",
              "max      2617.333333\n",
              "Name: p_onion1, dtype: float64"
            ]
          },
          "metadata": {},
          "execution_count": 1007
        }
      ]
    },
    {
      "cell_type": "code",
      "metadata": {
        "colab": {
          "base_uri": "https://localhost:8080/"
        },
        "id": "PkDInpeyxuWo",
        "outputId": "1476700b-0d68-4b32-d906-c5d49c2f6cac"
      },
      "source": [
        "df['p_onion2'].describe()"
      ],
      "id": "PkDInpeyxuWo",
      "execution_count": 1008,
      "outputs": [
        {
          "output_type": "execute_result",
          "data": {
            "text/plain": [
              "count     121.000000\n",
              "mean     1583.115044\n",
              "std       765.284824\n",
              "min       600.000000\n",
              "25%      1062.000000\n",
              "50%      1438.000000\n",
              "75%      1897.000000\n",
              "max      4506.000000\n",
              "Name: p_onion2, dtype: float64"
            ]
          },
          "metadata": {},
          "execution_count": 1008
        }
      ]
    },
    {
      "cell_type": "code",
      "metadata": {
        "colab": {
          "base_uri": "https://localhost:8080/",
          "height": 294
        },
        "id": "b0e3bca3-2da4-4b06-853f-670ecd183ced",
        "outputId": "b68cb955-9b2e-4efa-98dd-25a33e13dd23"
      },
      "source": [
        "df['p_onion1'].hist(bins=7)"
      ],
      "id": "b0e3bca3-2da4-4b06-853f-670ecd183ced",
      "execution_count": 1009,
      "outputs": [
        {
          "output_type": "execute_result",
          "data": {
            "text/plain": [
              "<matplotlib.axes._subplots.AxesSubplot at 0x7f74605ca090>"
            ]
          },
          "metadata": {},
          "execution_count": 1009
        },
        {
          "output_type": "display_data",
          "data": {
            "image/png": "[encoded data removed]",
            "text/plain": [
              "<Figure size 432x288 with 1 Axes>"
            ]
          },
          "metadata": {
            "needs_background": "light"
          }
        }
      ]
    },
    {
      "cell_type": "code",
      "metadata": {
        "colab": {
          "base_uri": "https://localhost:8080/",
          "height": 276
        },
        "id": "37edeef7-e312-43d0-8f35-cd62d40f570e",
        "outputId": "667b9926-7023-44dd-965d-c582117c3f8f"
      },
      "source": [
        "plt.boxplot(df['p_onion1'])\n",
        "plt.show()"
      ],
      "id": "37edeef7-e312-43d0-8f35-cd62d40f570e",
      "execution_count": 1010,
      "outputs": [
        {
          "output_type": "display_data",
          "data": {
            "image/png": "[encoded data removed]",
            "text/plain": [
              "<Figure size 432x288 with 1 Axes>"
            ]
          },
          "metadata": {
            "needs_background": "light"
          }
        }
      ]
    },
    {
      "cell_type": "code",
      "metadata": {
        "id": "95b1784e-dbaf-44f8-980c-a6dbe3d5c1cb"
      },
      "source": [
        "### 해석) 양파(일반)의 경우, 1,200원에서 1,700원 사이의 가격이 대부분이며 가장 비싼 가격은 2,600원"
      ],
      "id": "95b1784e-dbaf-44f8-980c-a6dbe3d5c1cb",
      "execution_count": 1011,
      "outputs": []
    },
    {
      "cell_type": "code",
      "metadata": {
        "colab": {
          "base_uri": "https://localhost:8080/",
          "height": 294
        },
        "id": "W6kqBMYhxa6L",
        "outputId": "f451dcf6-636d-497d-b605-9c0bf19daeb2"
      },
      "source": [
        "df['p_onion2'].hist(bins=10)"
      ],
      "id": "W6kqBMYhxa6L",
      "execution_count": 1012,
      "outputs": [
        {
          "output_type": "execute_result",
          "data": {
            "text/plain": [
              "<matplotlib.axes._subplots.AxesSubplot at 0x7f7460631510>"
            ]
          },
          "metadata": {},
          "execution_count": 1012
        },
        {
          "output_type": "display_data",
          "data": {
            "image/png": "[encoded data removed]",
            "text/plain": [
              "<Figure size 432x288 with 1 Axes>"
            ]
          },
          "metadata": {
            "needs_background": "light"
          }
        }
      ]
    },
    {
      "cell_type": "code",
      "metadata": {
        "colab": {
          "base_uri": "https://localhost:8080/",
          "height": 276
        },
        "id": "2vafv_bs2VyN",
        "outputId": "080fb380-2b78-4622-f395-d9a7c9128dad"
      },
      "source": [
        "plt.boxplot(df['p_onion2'])\n",
        "plt.show()"
      ],
      "id": "2vafv_bs2VyN",
      "execution_count": 1013,
      "outputs": [
        {
          "output_type": "display_data",
          "data": {
            "image/png": "[encoded data removed]",
            "text/plain": [
              "<Figure size 432x288 with 1 Axes>"
            ]
          },
          "metadata": {
            "needs_background": "light"
          }
        }
      ]
    },
    {
      "cell_type": "code",
      "metadata": {
        "id": "FBvcg5kM5j1q"
      },
      "source": [
        "##기타 양파의 경우, 1,000원에서 2,000원 정도의 가격이 일반적이며 가장 비싼 가격은 4,000원이 넘기도 한다."
      ],
      "id": "FBvcg5kM5j1q",
      "execution_count": 1014,
      "outputs": []
    },
    {
      "cell_type": "markdown",
      "metadata": {
        "id": "4152c6fc-83c6-4415-93d2-7dc857ffbbfa"
      },
      "source": [
        "#### 2-3 설명변수(독립변수, features, attributes, x) 살펴보기\n",
        "    "
      ],
      "id": "4152c6fc-83c6-4415-93d2-7dc857ffbbfa"
    },
    {
      "cell_type": "code",
      "metadata": {
        "colab": {
          "base_uri": "https://localhost:8080/",
          "height": 658
        },
        "id": "4ea5a929-bc9c-42c3-97ec-97af2d923e72",
        "outputId": "1f1b4c72-4150-4bb0-f11b-f56bcdbb9664"
      },
      "source": [
        "numerical_columns1=['s_onion1','high_temp','avg_temp','low_temp','rain']\n",
        "##date도 변수로 넣고 싶음..\n",
        "\n",
        "fig = plt.figure(figsize = (8, 10))\n",
        "ax = fig.gca() \n",
        "\n",
        "df[numerical_columns1].hist(ax=ax)\n",
        "plt.show()"
      ],
      "id": "4ea5a929-bc9c-42c3-97ec-97af2d923e72",
      "execution_count": 1015,
      "outputs": [
        {
          "output_type": "stream",
          "name": "stderr",
          "text": [
            "/usr/local/lib/python3.7/dist-packages/ipykernel_launcher.py:7: UserWarning: To output multiple subplots, the figure containing the passed axes is being cleared\n",
            "  import sys\n"
          ]
        },
        {
          "output_type": "display_data",
          "data": {
            "image/png": "[encoded data removed]",
            "text/plain": [
              "<Figure size 576x720 with 6 Axes>"
            ]
          },
          "metadata": {
            "needs_background": "light"
          }
        }
      ]
    },
    {
      "cell_type": "code",
      "metadata": {
        "colab": {
          "base_uri": "https://localhost:8080/",
          "height": 658
        },
        "id": "0hUeZAbxYmJv",
        "outputId": "e49c05cd-944a-4398-9ce8-05ef1f3f3791"
      },
      "source": [
        "numerical_columns2=['s_onion2','high_temp','avg_temp','low_temp','rain']\n",
        "##date도 변수로 넣고 싶음..\n",
        "\n",
        "fig = plt.figure(figsize = (8, 10))\n",
        "ax = fig.gca() \n",
        "\n",
        "df[numerical_columns2].hist(ax=ax)\n",
        "plt.show()"
      ],
      "id": "0hUeZAbxYmJv",
      "execution_count": 1016,
      "outputs": [
        {
          "output_type": "stream",
          "name": "stderr",
          "text": [
            "/usr/local/lib/python3.7/dist-packages/ipykernel_launcher.py:7: UserWarning: To output multiple subplots, the figure containing the passed axes is being cleared\n",
            "  import sys\n"
          ]
        },
        {
          "output_type": "display_data",
          "data": {
            "image/png": "[encoded data removed]",
            "text/plain": [
              "<Figure size 576x720 with 6 Axes>"
            ]
          },
          "metadata": {
            "needs_background": "light"
          }
        }
      ]
    },
    {
      "cell_type": "markdown",
      "metadata": {
        "id": "4a55c236-c477-4ae2-96cc-4a3a3ace272f"
      },
      "source": [
        "#### 2-4. 설명변수(x) 와 종속변수(y) 간의 관계 탐색\n",
        "- 변수간의 상관관계 파악해 봅니다. "
      ],
      "id": "4a55c236-c477-4ae2-96cc-4a3a3ace272f"
    },
    {
      "cell_type": "code",
      "metadata": {
        "colab": {
          "base_uri": "https://localhost:8080/",
          "height": 235
        },
        "id": "f756a8f7-0e42-4d8f-b480-3fad966d4707",
        "outputId": "35397e3a-765d-4e66-e92a-80535b61c679"
      },
      "source": [
        "### Person 상관계수 : 대표적으로 상관관계 분석시 사용하는 지표입니다.\n",
        "### -1 에서 1 사이의 값을 가진다는 특징이 있습니다.\n",
        "### 1일 때는 완전 양의 상관(perfect positive correlation), -1일 때는 완전 음의 상관관계(perfect negative correlation)관계를 보입니다.\n",
        "### https://m.blog.naver.com/istech7/50153047118\n",
        "#변수간의 상관관계 보기 .corr()함수\n",
        "\n",
        "cols1 = ['p_onion1','s_onion1','high_temp','avg_temp','low_temp','rain']\n",
        "\n",
        "corr = df[cols1].corr(method = 'pearson')\n",
        "corr"
      ],
      "id": "f756a8f7-0e42-4d8f-b480-3fad966d4707",
      "execution_count": 1017,
      "outputs": [
        {
          "output_type": "execute_result",
          "data": {
            "text/html": [
              "<div>\n",
              "<style scoped>\n",
              "    .dataframe tbody tr th:only-of-type {\n",
              "        vertical-align: middle;\n",
              "    }\n",
              "\n",
              "    .dataframe tbody tr th {\n",
              "        vertical-align: top;\n",
              "    }\n",
              "\n",
              "    .dataframe thead th {\n",
              "        text-align: right;\n",
              "    }\n",
              "</style>\n",
              "<table border=\"1\" class=\"dataframe\">\n",
              "  <thead>\n",
              "    <tr style=\"text-align: right;\">\n",
              "      <th></th>\n",
              "      <th>p_onion1</th>\n",
              "      <th>s_onion1</th>\n",
              "      <th>high_temp</th>\n",
              "      <th>avg_temp</th>\n",
              "      <th>low_temp</th>\n",
              "      <th>rain</th>\n",
              "    </tr>\n",
              "  </thead>\n",
              "  <tbody>\n",
              "    <tr>\n",
              "      <th>p_onion1</th>\n",
              "      <td>1.000000</td>\n",
              "      <td>-0.148198</td>\n",
              "      <td>-0.147373</td>\n",
              "      <td>-0.159730</td>\n",
              "      <td>-0.162327</td>\n",
              "      <td>-0.164274</td>\n",
              "    </tr>\n",
              "    <tr>\n",
              "      <th>s_onion1</th>\n",
              "      <td>-0.148198</td>\n",
              "      <td>1.000000</td>\n",
              "      <td>0.381021</td>\n",
              "      <td>0.350593</td>\n",
              "      <td>0.315164</td>\n",
              "      <td>0.079605</td>\n",
              "    </tr>\n",
              "    <tr>\n",
              "      <th>high_temp</th>\n",
              "      <td>-0.147373</td>\n",
              "      <td>0.381021</td>\n",
              "      <td>1.000000</td>\n",
              "      <td>0.969693</td>\n",
              "      <td>0.923245</td>\n",
              "      <td>0.553583</td>\n",
              "    </tr>\n",
              "    <tr>\n",
              "      <th>avg_temp</th>\n",
              "      <td>-0.159730</td>\n",
              "      <td>0.350593</td>\n",
              "      <td>0.969693</td>\n",
              "      <td>1.000000</td>\n",
              "      <td>0.980429</td>\n",
              "      <td>0.613278</td>\n",
              "    </tr>\n",
              "    <tr>\n",
              "      <th>low_temp</th>\n",
              "      <td>-0.162327</td>\n",
              "      <td>0.315164</td>\n",
              "      <td>0.923245</td>\n",
              "      <td>0.980429</td>\n",
              "      <td>1.000000</td>\n",
              "      <td>0.642700</td>\n",
              "    </tr>\n",
              "    <tr>\n",
              "      <th>rain</th>\n",
              "      <td>-0.164274</td>\n",
              "      <td>0.079605</td>\n",
              "      <td>0.553583</td>\n",
              "      <td>0.613278</td>\n",
              "      <td>0.642700</td>\n",
              "      <td>1.000000</td>\n",
              "    </tr>\n",
              "  </tbody>\n",
              "</table>\n",
              "</div>"
            ],
            "text/plain": [
              "           p_onion1  s_onion1  high_temp  avg_temp  low_temp      rain\n",
              "p_onion1   1.000000 -0.148198  -0.147373 -0.159730 -0.162327 -0.164274\n",
              "s_onion1  -0.148198  1.000000   0.381021  0.350593  0.315164  0.079605\n",
              "high_temp -0.147373  0.381021   1.000000  0.969693  0.923245  0.553583\n",
              "avg_temp  -0.159730  0.350593   0.969693  1.000000  0.980429  0.613278\n",
              "low_temp  -0.162327  0.315164   0.923245  0.980429  1.000000  0.642700\n",
              "rain      -0.164274  0.079605   0.553583  0.613278  0.642700  1.000000"
            ]
          },
          "metadata": {},
          "execution_count": 1017
        }
      ]
    },
    {
      "cell_type": "code",
      "metadata": {
        "colab": {
          "base_uri": "https://localhost:8080/",
          "height": 856
        },
        "id": "fff7ce02-2345-4c4c-b2b7-9ce94d30823c",
        "outputId": "42c97edd-fe94-48f7-9a8a-6209370f9494"
      },
      "source": [
        "### 상관관계를 직관적으로 살펴보기 위해 Heatmap 으로 돌려봅니다.\n",
        "### heatmap (seaborn): 여기서는 seaborn 시각화 라이브러리를 사용해서 표현합니다. \n",
        "### 시각화의 대표적인 라이브러리가 matplot(https://matplotlib.org/)과 seaborn(https://seaborn.pydata.org/)이 있습니다.\n",
        "\n",
        "fig = plt.figure(figsize = (16, 12))\n",
        "ax = fig.gca()\n",
        "\n",
        "# https://seaborn.pydata.org/generated/seaborn.heatmap.html\n",
        "sns.set(font_scale = 1.5)  # heatmap 안의 font-size 설정 \n",
        "heatmap = sns.heatmap(corr.values, annot = True, fmt='.5f', annot_kws={'size':15},\n",
        "                      yticklabels = cols1, xticklabels = cols1, ax=ax, cmap = \"RdYlBu\")\n",
        "plt.tight_layout()\n",
        "plt.show()"
      ],
      "id": "fff7ce02-2345-4c4c-b2b7-9ce94d30823c",
      "execution_count": 1018,
      "outputs": [
        {
          "output_type": "display_data",
          "data": {
            "image/png": "[encoded data removed]",
            "text/plain": [
              "<Figure size 1152x864 with 2 Axes>"
            ]
          },
          "metadata": {
            "needs_background": "light"
          }
        }
      ]
    },
    {
      "cell_type": "code",
      "metadata": {
        "colab": {
          "base_uri": "https://localhost:8080/",
          "height": 235
        },
        "id": "BvGuKYSDZPe4",
        "outputId": "5b3b16ed-c5aa-494c-f32e-0d26e6beafa4"
      },
      "source": [
        "cols2 = ['p_onion2','s_onion2','high_temp','avg_temp','low_temp','rain']\n",
        "\n",
        "corr = df[cols2].corr(method = 'pearson')\n",
        "corr"
      ],
      "id": "BvGuKYSDZPe4",
      "execution_count": 1019,
      "outputs": [
        {
          "output_type": "execute_result",
          "data": {
            "text/html": [
              "<div>\n",
              "<style scoped>\n",
              "    .dataframe tbody tr th:only-of-type {\n",
              "        vertical-align: middle;\n",
              "    }\n",
              "\n",
              "    .dataframe tbody tr th {\n",
              "        vertical-align: top;\n",
              "    }\n",
              "\n",
              "    .dataframe thead th {\n",
              "        text-align: right;\n",
              "    }\n",
              "</style>\n",
              "<table border=\"1\" class=\"dataframe\">\n",
              "  <thead>\n",
              "    <tr style=\"text-align: right;\">\n",
              "      <th></th>\n",
              "      <th>p_onion2</th>\n",
              "      <th>s_onion2</th>\n",
              "      <th>high_temp</th>\n",
              "      <th>avg_temp</th>\n",
              "      <th>low_temp</th>\n",
              "      <th>rain</th>\n",
              "    </tr>\n",
              "  </thead>\n",
              "  <tbody>\n",
              "    <tr>\n",
              "      <th>p_onion2</th>\n",
              "      <td>1.000000</td>\n",
              "      <td>0.036584</td>\n",
              "      <td>0.065876</td>\n",
              "      <td>0.020690</td>\n",
              "      <td>-0.015511</td>\n",
              "      <td>-0.038448</td>\n",
              "    </tr>\n",
              "    <tr>\n",
              "      <th>s_onion2</th>\n",
              "      <td>0.036584</td>\n",
              "      <td>1.000000</td>\n",
              "      <td>0.309015</td>\n",
              "      <td>0.287070</td>\n",
              "      <td>0.246944</td>\n",
              "      <td>0.054999</td>\n",
              "    </tr>\n",
              "    <tr>\n",
              "      <th>high_temp</th>\n",
              "      <td>0.065876</td>\n",
              "      <td>0.309015</td>\n",
              "      <td>1.000000</td>\n",
              "      <td>0.969693</td>\n",
              "      <td>0.923245</td>\n",
              "      <td>0.553583</td>\n",
              "    </tr>\n",
              "    <tr>\n",
              "      <th>avg_temp</th>\n",
              "      <td>0.020690</td>\n",
              "      <td>0.287070</td>\n",
              "      <td>0.969693</td>\n",
              "      <td>1.000000</td>\n",
              "      <td>0.980429</td>\n",
              "      <td>0.613278</td>\n",
              "    </tr>\n",
              "    <tr>\n",
              "      <th>low_temp</th>\n",
              "      <td>-0.015511</td>\n",
              "      <td>0.246944</td>\n",
              "      <td>0.923245</td>\n",
              "      <td>0.980429</td>\n",
              "      <td>1.000000</td>\n",
              "      <td>0.642700</td>\n",
              "    </tr>\n",
              "    <tr>\n",
              "      <th>rain</th>\n",
              "      <td>-0.038448</td>\n",
              "      <td>0.054999</td>\n",
              "      <td>0.553583</td>\n",
              "      <td>0.613278</td>\n",
              "      <td>0.642700</td>\n",
              "      <td>1.000000</td>\n",
              "    </tr>\n",
              "  </tbody>\n",
              "</table>\n",
              "</div>"
            ],
            "text/plain": [
              "           p_onion2  s_onion2  high_temp  avg_temp  low_temp      rain\n",
              "p_onion2   1.000000  0.036584   0.065876  0.020690 -0.015511 -0.038448\n",
              "s_onion2   0.036584  1.000000   0.309015  0.287070  0.246944  0.054999\n",
              "high_temp  0.065876  0.309015   1.000000  0.969693  0.923245  0.553583\n",
              "avg_temp   0.020690  0.287070   0.969693  1.000000  0.980429  0.613278\n",
              "low_temp  -0.015511  0.246944   0.923245  0.980429  1.000000  0.642700\n",
              "rain      -0.038448  0.054999   0.553583  0.613278  0.642700  1.000000"
            ]
          },
          "metadata": {},
          "execution_count": 1019
        }
      ]
    },
    {
      "cell_type": "code",
      "metadata": {
        "colab": {
          "base_uri": "https://localhost:8080/",
          "height": 856
        },
        "id": "N9kFxTnUZVWd",
        "outputId": "669b51e2-9778-4c93-95c7-11660b448880"
      },
      "source": [
        "fig = plt.figure(figsize = (16, 12))\n",
        "ax = fig.gca()\n",
        "\n",
        "sns.set(font_scale = 1.5)  # heatmap 안의 font-size 설정 \n",
        "heatmap = sns.heatmap(corr.values, annot = True, fmt='.5f', annot_kws={'size':15},\n",
        "                      yticklabels = cols2, xticklabels = cols1, ax=ax, cmap = \"RdYlBu\")\n",
        "plt.tight_layout()\n",
        "plt.show()"
      ],
      "id": "N9kFxTnUZVWd",
      "execution_count": 1020,
      "outputs": [
        {
          "output_type": "display_data",
          "data": {
            "image/png": "[encoded data removed]",
            "text/plain": [
              "<Figure size 1152x864 with 2 Axes>"
            ]
          },
          "metadata": {}
        }
      ]
    },
    {
      "cell_type": "code",
      "metadata": {
        "colab": {
          "base_uri": "https://localhost:8080/",
          "height": 318
        },
        "id": "ba6ab4af-0e49-4848-b044-ed19c574d6c5",
        "outputId": "3f217d18-127e-4158-f05b-ba1925b6ae6a"
      },
      "source": [
        "### scatter plot 산점도, https://seaborn.pydata.org/generated/seaborn.scatterplot.html\n",
        "sns.scatterplot(data=df, x='s_onion1', y='p_onion1', markers='o', color='blue', alpha=0.6)\n",
        "plt.title('Scatter Plot')\n",
        "plt.show()"
      ],
      "id": "ba6ab4af-0e49-4848-b044-ed19c574d6c5",
      "execution_count": 1021,
      "outputs": [
        {
          "output_type": "display_data",
          "data": {
            "image/png": "[encoded data removed]",
            "text/plain": [
              "<Figure size 432x288 with 1 Axes>"
            ]
          },
          "metadata": {}
        }
      ]
    },
    {
      "cell_type": "code",
      "metadata": {
        "colab": {
          "base_uri": "https://localhost:8080/",
          "height": 318
        },
        "id": "dee39e14-6ec6-4d0e-b075-a88259479c36",
        "outputId": "d81ed302-9f0a-44ab-b10e-90520a6deb3f"
      },
      "source": [
        "# scatter plot\n",
        "sns.scatterplot(data=df, x='s_onion2', y='p_onion2', markers='o', color='blue', alpha=0.6)\n",
        "plt.title('Scatter Plot')\n",
        "plt.show()"
      ],
      "id": "dee39e14-6ec6-4d0e-b075-a88259479c36",
      "execution_count": 1022,
      "outputs": [
        {
          "output_type": "display_data",
          "data": {
            "image/png": "[encoded data removed]",
            "text/plain": [
              "<Figure size 432x288 with 1 Axes>"
            ]
          },
          "metadata": {}
        }
      ]
    },
    {
      "cell_type": "markdown",
      "metadata": {
        "id": "59bcbb1d-8e14-4bae-83e4-de63bf809bdb"
      },
      "source": [
        "#### 3-1 데이터 전처리\n",
        "- 먼저 Feature 들의 scale 차이를 없애기 위해 수치형 Feature에 대해서 표준화를 진행해야 합니다."
      ],
      "id": "59bcbb1d-8e14-4bae-83e4-de63bf809bdb"
    },
    {
      "cell_type": "code",
      "metadata": {
        "colab": {
          "base_uri": "https://localhost:8080/",
          "height": 204
        },
        "id": "30592ec0-cb0a-4df0-9314-4506fcee16f7",
        "outputId": "5f9d2ce7-0909-4143-a736-c4c78c6c3e9e"
      },
      "source": [
        "df.head()"
      ],
      "id": "30592ec0-cb0a-4df0-9314-4506fcee16f7",
      "execution_count": 1023,
      "outputs": [
        {
          "output_type": "execute_result",
          "data": {
            "text/html": [
              "<div>\n",
              "<style scoped>\n",
              "    .dataframe tbody tr th:only-of-type {\n",
              "        vertical-align: middle;\n",
              "    }\n",
              "\n",
              "    .dataframe tbody tr th {\n",
              "        vertical-align: top;\n",
              "    }\n",
              "\n",
              "    .dataframe thead th {\n",
              "        text-align: right;\n",
              "    }\n",
              "</style>\n",
              "<table border=\"1\" class=\"dataframe\">\n",
              "  <thead>\n",
              "    <tr style=\"text-align: right;\">\n",
              "      <th></th>\n",
              "      <th>date</th>\n",
              "      <th>p_onion1</th>\n",
              "      <th>s_onion1</th>\n",
              "      <th>p_onion2</th>\n",
              "      <th>s_onion2</th>\n",
              "      <th>high_temp</th>\n",
              "      <th>avg_temp</th>\n",
              "      <th>low_temp</th>\n",
              "      <th>rain</th>\n",
              "    </tr>\n",
              "  </thead>\n",
              "  <tbody>\n",
              "    <tr>\n",
              "      <th>0</th>\n",
              "      <td>20110101.0</td>\n",
              "      <td>1680.574706</td>\n",
              "      <td>6874167.0</td>\n",
              "      <td>2790.000000</td>\n",
              "      <td>6210173.0</td>\n",
              "      <td>7.3</td>\n",
              "      <td>-3.6</td>\n",
              "      <td>-17.1</td>\n",
              "      <td>0.0</td>\n",
              "    </tr>\n",
              "    <tr>\n",
              "      <th>1</th>\n",
              "      <td>20110201.0</td>\n",
              "      <td>1680.574706</td>\n",
              "      <td>5128667.0</td>\n",
              "      <td>2591.000000</td>\n",
              "      <td>4839637.0</td>\n",
              "      <td>20.6</td>\n",
              "      <td>2.4</td>\n",
              "      <td>-11.4</td>\n",
              "      <td>61.5</td>\n",
              "    </tr>\n",
              "    <tr>\n",
              "      <th>2</th>\n",
              "      <td>20110301.0</td>\n",
              "      <td>1873.152941</td>\n",
              "      <td>8369126.0</td>\n",
              "      <td>1583.115044</td>\n",
              "      <td>7478763.0</td>\n",
              "      <td>22.4</td>\n",
              "      <td>5.7</td>\n",
              "      <td>-6.3</td>\n",
              "      <td>23.5</td>\n",
              "    </tr>\n",
              "    <tr>\n",
              "      <th>3</th>\n",
              "      <td>20110401.0</td>\n",
              "      <td>1570.486275</td>\n",
              "      <td>15877880.0</td>\n",
              "      <td>2482.000000</td>\n",
              "      <td>8787714.0</td>\n",
              "      <td>26.3</td>\n",
              "      <td>12.2</td>\n",
              "      <td>-1.9</td>\n",
              "      <td>129.0</td>\n",
              "    </tr>\n",
              "    <tr>\n",
              "      <th>4</th>\n",
              "      <td>20110501.0</td>\n",
              "      <td>1297.819608</td>\n",
              "      <td>25190764.0</td>\n",
              "      <td>3455.000000</td>\n",
              "      <td>11847414.0</td>\n",
              "      <td>29.8</td>\n",
              "      <td>18.0</td>\n",
              "      <td>5.9</td>\n",
              "      <td>146.2</td>\n",
              "    </tr>\n",
              "  </tbody>\n",
              "</table>\n",
              "</div>"
            ],
            "text/plain": [
              "         date     p_onion1    s_onion1  ...  avg_temp  low_temp   rain\n",
              "0  20110101.0  1680.574706   6874167.0  ...      -3.6     -17.1    0.0\n",
              "1  20110201.0  1680.574706   5128667.0  ...       2.4     -11.4   61.5\n",
              "2  20110301.0  1873.152941   8369126.0  ...       5.7      -6.3   23.5\n",
              "3  20110401.0  1570.486275  15877880.0  ...      12.2      -1.9  129.0\n",
              "4  20110501.0  1297.819608  25190764.0  ...      18.0       5.9  146.2\n",
              "\n",
              "[5 rows x 9 columns]"
            ]
          },
          "metadata": {},
          "execution_count": 1023
        }
      ]
    },
    {
      "cell_type": "code",
      "metadata": {
        "colab": {
          "base_uri": "https://localhost:8080/"
        },
        "id": "e335f931-0abb-43f9-a1e7-030a7dd898aa",
        "outputId": "c61ecbe4-c959-4df5-f893-ae09fed5dd51"
      },
      "source": [
        "df.info()"
      ],
      "id": "e335f931-0abb-43f9-a1e7-030a7dd898aa",
      "execution_count": 1024,
      "outputs": [
        {
          "output_type": "stream",
          "name": "stdout",
          "text": [
            "<class 'pandas.core.frame.DataFrame'>\n",
            "RangeIndex: 121 entries, 0 to 120\n",
            "Data columns (total 9 columns):\n",
            " #   Column     Non-Null Count  Dtype  \n",
            "---  ------     --------------  -----  \n",
            " 0   date       5 non-null      float64\n",
            " 1   p_onion1   121 non-null    float64\n",
            " 2   s_onion1   121 non-null    float64\n",
            " 3   p_onion2   121 non-null    float64\n",
            " 4   s_onion2   121 non-null    float64\n",
            " 5   high_temp  121 non-null    float64\n",
            " 6   avg_temp   121 non-null    float64\n",
            " 7   low_temp   121 non-null    float64\n",
            " 8   rain       121 non-null    float64\n",
            "dtypes: float64(9)\n",
            "memory usage: 8.6 KB\n"
          ]
        }
      ]
    },
    {
      "cell_type": "code",
      "metadata": {
        "id": "186e8736-92ee-402b-b16d-c52bcf6a623c"
      },
      "source": [
        "### 사이킷런은 파이썬에서 머신러닝 분석을 할 때 유용하게 사용할 수 있는 라이브러리 입니다. 여러가지 머신러닝 모듈로 구성되어있습니다.\n",
        "\n",
        "from sklearn.preprocessing import StandardScaler\n",
        "\n",
        "scaler = StandardScaler()  # 평균 0, 표준편차 1\n",
        "scale_columns1 = ['s_onion1','high_temp','avg_temp','low_temp','rain']\n",
        "df[scale_columns1] = scaler.fit_transform(df[scale_columns1])"
      ],
      "id": "186e8736-92ee-402b-b16d-c52bcf6a623c",
      "execution_count": 1025,
      "outputs": []
    },
    {
      "cell_type": "code",
      "metadata": {
        "id": "JJrJqsiYZnYC"
      },
      "source": [
        "scaler = StandardScaler()  # 평균 0, 표준편차 1\n",
        "scale_columns2 = ['s_onion2','high_temp','avg_temp','low_temp','rain']\n",
        "df[scale_columns2] = scaler.fit_transform(df[scale_columns2])"
      ],
      "id": "JJrJqsiYZnYC",
      "execution_count": 1026,
      "outputs": []
    },
    {
      "cell_type": "code",
      "metadata": {
        "colab": {
          "base_uri": "https://localhost:8080/",
          "height": 204
        },
        "id": "0HZIqAVQeXyR",
        "outputId": "a71fdb5e-da8d-4700-fe05-32d2fac8314b"
      },
      "source": [
        "df.head()"
      ],
      "id": "0HZIqAVQeXyR",
      "execution_count": 1027,
      "outputs": [
        {
          "output_type": "execute_result",
          "data": {
            "text/html": [
              "<div>\n",
              "<style scoped>\n",
              "    .dataframe tbody tr th:only-of-type {\n",
              "        vertical-align: middle;\n",
              "    }\n",
              "\n",
              "    .dataframe tbody tr th {\n",
              "        vertical-align: top;\n",
              "    }\n",
              "\n",
              "    .dataframe thead th {\n",
              "        text-align: right;\n",
              "    }\n",
              "</style>\n",
              "<table border=\"1\" class=\"dataframe\">\n",
              "  <thead>\n",
              "    <tr style=\"text-align: right;\">\n",
              "      <th></th>\n",
              "      <th>date</th>\n",
              "      <th>p_onion1</th>\n",
              "      <th>s_onion1</th>\n",
              "      <th>p_onion2</th>\n",
              "      <th>s_onion2</th>\n",
              "      <th>high_temp</th>\n",
              "      <th>avg_temp</th>\n",
              "      <th>low_temp</th>\n",
              "      <th>rain</th>\n",
              "    </tr>\n",
              "  </thead>\n",
              "  <tbody>\n",
              "    <tr>\n",
              "      <th>0</th>\n",
              "      <td>20110101.0</td>\n",
              "      <td>1680.574706</td>\n",
              "      <td>-1.029503</td>\n",
              "      <td>2790.000000</td>\n",
              "      <td>-0.910019</td>\n",
              "      <td>-2.440063</td>\n",
              "      <td>-1.832426</td>\n",
              "      <td>-1.736915</td>\n",
              "      <td>-0.952972</td>\n",
              "    </tr>\n",
              "    <tr>\n",
              "      <th>1</th>\n",
              "      <td>20110201.0</td>\n",
              "      <td>1680.574706</td>\n",
              "      <td>-1.392875</td>\n",
              "      <td>2591.000000</td>\n",
              "      <td>-1.064351</td>\n",
              "      <td>-0.700851</td>\n",
              "      <td>-1.173515</td>\n",
              "      <td>-1.194365</td>\n",
              "      <td>-0.430144</td>\n",
              "    </tr>\n",
              "    <tr>\n",
              "      <th>2</th>\n",
              "      <td>20110301.0</td>\n",
              "      <td>1873.152941</td>\n",
              "      <td>-0.718289</td>\n",
              "      <td>1583.115044</td>\n",
              "      <td>-0.767167</td>\n",
              "      <td>-0.465469</td>\n",
              "      <td>-0.811114</td>\n",
              "      <td>-0.708926</td>\n",
              "      <td>-0.753192</td>\n",
              "    </tr>\n",
              "    <tr>\n",
              "      <th>3</th>\n",
              "      <td>20110401.0</td>\n",
              "      <td>1570.486275</td>\n",
              "      <td>0.844854</td>\n",
              "      <td>2482.000000</td>\n",
              "      <td>-0.619770</td>\n",
              "      <td>0.044526</td>\n",
              "      <td>-0.097294</td>\n",
              "      <td>-0.290115</td>\n",
              "      <td>0.143693</td>\n",
              "    </tr>\n",
              "    <tr>\n",
              "      <th>4</th>\n",
              "      <td>20110501.0</td>\n",
              "      <td>1297.819608</td>\n",
              "      <td>2.783573</td>\n",
              "      <td>3455.000000</td>\n",
              "      <td>-0.275226</td>\n",
              "      <td>0.502213</td>\n",
              "      <td>0.539653</td>\n",
              "      <td>0.452322</td>\n",
              "      <td>0.289915</td>\n",
              "    </tr>\n",
              "  </tbody>\n",
              "</table>\n",
              "</div>"
            ],
            "text/plain": [
              "         date     p_onion1  s_onion1  ...  avg_temp  low_temp      rain\n",
              "0  20110101.0  1680.574706 -1.029503  ... -1.832426 -1.736915 -0.952972\n",
              "1  20110201.0  1680.574706 -1.392875  ... -1.173515 -1.194365 -0.430144\n",
              "2  20110301.0  1873.152941 -0.718289  ... -0.811114 -0.708926 -0.753192\n",
              "3  20110401.0  1570.486275  0.844854  ... -0.097294 -0.290115  0.143693\n",
              "4  20110501.0  1297.819608  2.783573  ...  0.539653  0.452322  0.289915\n",
              "\n",
              "[5 rows x 9 columns]"
            ]
          },
          "metadata": {},
          "execution_count": 1027
        }
      ]
    },
    {
      "cell_type": "code",
      "metadata": {
        "colab": {
          "base_uri": "https://localhost:8080/",
          "height": 204
        },
        "id": "5e7e322b-ec04-491a-b768-4f213fd96ad6",
        "outputId": "f8053ecf-bc2f-49fe-eee5-0f2acea33291"
      },
      "source": [
        "df[scale_columns1].head()"
      ],
      "id": "5e7e322b-ec04-491a-b768-4f213fd96ad6",
      "execution_count": 1028,
      "outputs": [
        {
          "output_type": "execute_result",
          "data": {
            "text/html": [
              "<div>\n",
              "<style scoped>\n",
              "    .dataframe tbody tr th:only-of-type {\n",
              "        vertical-align: middle;\n",
              "    }\n",
              "\n",
              "    .dataframe tbody tr th {\n",
              "        vertical-align: top;\n",
              "    }\n",
              "\n",
              "    .dataframe thead th {\n",
              "        text-align: right;\n",
              "    }\n",
              "</style>\n",
              "<table border=\"1\" class=\"dataframe\">\n",
              "  <thead>\n",
              "    <tr style=\"text-align: right;\">\n",
              "      <th></th>\n",
              "      <th>s_onion1</th>\n",
              "      <th>high_temp</th>\n",
              "      <th>avg_temp</th>\n",
              "      <th>low_temp</th>\n",
              "      <th>rain</th>\n",
              "    </tr>\n",
              "  </thead>\n",
              "  <tbody>\n",
              "    <tr>\n",
              "      <th>0</th>\n",
              "      <td>-1.029503</td>\n",
              "      <td>-2.440063</td>\n",
              "      <td>-1.832426</td>\n",
              "      <td>-1.736915</td>\n",
              "      <td>-0.952972</td>\n",
              "    </tr>\n",
              "    <tr>\n",
              "      <th>1</th>\n",
              "      <td>-1.392875</td>\n",
              "      <td>-0.700851</td>\n",
              "      <td>-1.173515</td>\n",
              "      <td>-1.194365</td>\n",
              "      <td>-0.430144</td>\n",
              "    </tr>\n",
              "    <tr>\n",
              "      <th>2</th>\n",
              "      <td>-0.718289</td>\n",
              "      <td>-0.465469</td>\n",
              "      <td>-0.811114</td>\n",
              "      <td>-0.708926</td>\n",
              "      <td>-0.753192</td>\n",
              "    </tr>\n",
              "    <tr>\n",
              "      <th>3</th>\n",
              "      <td>0.844854</td>\n",
              "      <td>0.044526</td>\n",
              "      <td>-0.097294</td>\n",
              "      <td>-0.290115</td>\n",
              "      <td>0.143693</td>\n",
              "    </tr>\n",
              "    <tr>\n",
              "      <th>4</th>\n",
              "      <td>2.783573</td>\n",
              "      <td>0.502213</td>\n",
              "      <td>0.539653</td>\n",
              "      <td>0.452322</td>\n",
              "      <td>0.289915</td>\n",
              "    </tr>\n",
              "  </tbody>\n",
              "</table>\n",
              "</div>"
            ],
            "text/plain": [
              "   s_onion1  high_temp  avg_temp  low_temp      rain\n",
              "0 -1.029503  -2.440063 -1.832426 -1.736915 -0.952972\n",
              "1 -1.392875  -0.700851 -1.173515 -1.194365 -0.430144\n",
              "2 -0.718289  -0.465469 -0.811114 -0.708926 -0.753192\n",
              "3  0.844854   0.044526 -0.097294 -0.290115  0.143693\n",
              "4  2.783573   0.502213  0.539653  0.452322  0.289915"
            ]
          },
          "metadata": {},
          "execution_count": 1028
        }
      ]
    },
    {
      "cell_type": "code",
      "metadata": {
        "colab": {
          "base_uri": "https://localhost:8080/",
          "height": 204
        },
        "id": "otJLN6TBZt1O",
        "outputId": "e12de481-afe7-4629-87aa-caf683ec565e"
      },
      "source": [
        "df[scale_columns2].head()"
      ],
      "id": "otJLN6TBZt1O",
      "execution_count": 1029,
      "outputs": [
        {
          "output_type": "execute_result",
          "data": {
            "text/html": [
              "<div>\n",
              "<style scoped>\n",
              "    .dataframe tbody tr th:only-of-type {\n",
              "        vertical-align: middle;\n",
              "    }\n",
              "\n",
              "    .dataframe tbody tr th {\n",
              "        vertical-align: top;\n",
              "    }\n",
              "\n",
              "    .dataframe thead th {\n",
              "        text-align: right;\n",
              "    }\n",
              "</style>\n",
              "<table border=\"1\" class=\"dataframe\">\n",
              "  <thead>\n",
              "    <tr style=\"text-align: right;\">\n",
              "      <th></th>\n",
              "      <th>s_onion2</th>\n",
              "      <th>high_temp</th>\n",
              "      <th>avg_temp</th>\n",
              "      <th>low_temp</th>\n",
              "      <th>rain</th>\n",
              "    </tr>\n",
              "  </thead>\n",
              "  <tbody>\n",
              "    <tr>\n",
              "      <th>0</th>\n",
              "      <td>-0.910019</td>\n",
              "      <td>-2.440063</td>\n",
              "      <td>-1.832426</td>\n",
              "      <td>-1.736915</td>\n",
              "      <td>-0.952972</td>\n",
              "    </tr>\n",
              "    <tr>\n",
              "      <th>1</th>\n",
              "      <td>-1.064351</td>\n",
              "      <td>-0.700851</td>\n",
              "      <td>-1.173515</td>\n",
              "      <td>-1.194365</td>\n",
              "      <td>-0.430144</td>\n",
              "    </tr>\n",
              "    <tr>\n",
              "      <th>2</th>\n",
              "      <td>-0.767167</td>\n",
              "      <td>-0.465469</td>\n",
              "      <td>-0.811114</td>\n",
              "      <td>-0.708926</td>\n",
              "      <td>-0.753192</td>\n",
              "    </tr>\n",
              "    <tr>\n",
              "      <th>3</th>\n",
              "      <td>-0.619770</td>\n",
              "      <td>0.044526</td>\n",
              "      <td>-0.097294</td>\n",
              "      <td>-0.290115</td>\n",
              "      <td>0.143693</td>\n",
              "    </tr>\n",
              "    <tr>\n",
              "      <th>4</th>\n",
              "      <td>-0.275226</td>\n",
              "      <td>0.502213</td>\n",
              "      <td>0.539653</td>\n",
              "      <td>0.452322</td>\n",
              "      <td>0.289915</td>\n",
              "    </tr>\n",
              "  </tbody>\n",
              "</table>\n",
              "</div>"
            ],
            "text/plain": [
              "   s_onion2  high_temp  avg_temp  low_temp      rain\n",
              "0 -0.910019  -2.440063 -1.832426 -1.736915 -0.952972\n",
              "1 -1.064351  -0.700851 -1.173515 -1.194365 -0.430144\n",
              "2 -0.767167  -0.465469 -0.811114 -0.708926 -0.753192\n",
              "3 -0.619770   0.044526 -0.097294 -0.290115  0.143693\n",
              "4 -0.275226   0.502213  0.539653  0.452322  0.289915"
            ]
          },
          "metadata": {},
          "execution_count": 1029
        }
      ]
    },
    {
      "cell_type": "markdown",
      "metadata": {
        "id": "03163b12-d331-4e48-b278-f641320fa022"
      },
      "source": [
        "- training/test set 나누기\n",
        "    - 나중에 도출될 예측 모델의 예측 성능을 평가하기 위해, 먼저 전체 데이터셋을 \"Training set\"과 \"Test set\"으로 나누겠습니다. \n",
        "    - Training set에서 모델을 학습하고 Test set에서 모델의 예측 성능을 검증할 겁니다."
      ],
      "id": "03163b12-d331-4e48-b278-f641320fa022"
    },
    {
      "cell_type": "code",
      "metadata": {
        "colab": {
          "base_uri": "https://localhost:8080/",
          "height": 204
        },
        "id": "69d2e59d-f17f-4593-b154-b83577d0396e",
        "outputId": "2c3cef15-cb2a-4036-db2d-c513e11319f4"
      },
      "source": [
        "### features for linear regression model\n",
        "\n",
        "df[numerical_columns1].head()"
      ],
      "id": "69d2e59d-f17f-4593-b154-b83577d0396e",
      "execution_count": 1030,
      "outputs": [
        {
          "output_type": "execute_result",
          "data": {
            "text/html": [
              "<div>\n",
              "<style scoped>\n",
              "    .dataframe tbody tr th:only-of-type {\n",
              "        vertical-align: middle;\n",
              "    }\n",
              "\n",
              "    .dataframe tbody tr th {\n",
              "        vertical-align: top;\n",
              "    }\n",
              "\n",
              "    .dataframe thead th {\n",
              "        text-align: right;\n",
              "    }\n",
              "</style>\n",
              "<table border=\"1\" class=\"dataframe\">\n",
              "  <thead>\n",
              "    <tr style=\"text-align: right;\">\n",
              "      <th></th>\n",
              "      <th>s_onion1</th>\n",
              "      <th>high_temp</th>\n",
              "      <th>avg_temp</th>\n",
              "      <th>low_temp</th>\n",
              "      <th>rain</th>\n",
              "    </tr>\n",
              "  </thead>\n",
              "  <tbody>\n",
              "    <tr>\n",
              "      <th>0</th>\n",
              "      <td>-1.029503</td>\n",
              "      <td>-2.440063</td>\n",
              "      <td>-1.832426</td>\n",
              "      <td>-1.736915</td>\n",
              "      <td>-0.952972</td>\n",
              "    </tr>\n",
              "    <tr>\n",
              "      <th>1</th>\n",
              "      <td>-1.392875</td>\n",
              "      <td>-0.700851</td>\n",
              "      <td>-1.173515</td>\n",
              "      <td>-1.194365</td>\n",
              "      <td>-0.430144</td>\n",
              "    </tr>\n",
              "    <tr>\n",
              "      <th>2</th>\n",
              "      <td>-0.718289</td>\n",
              "      <td>-0.465469</td>\n",
              "      <td>-0.811114</td>\n",
              "      <td>-0.708926</td>\n",
              "      <td>-0.753192</td>\n",
              "    </tr>\n",
              "    <tr>\n",
              "      <th>3</th>\n",
              "      <td>0.844854</td>\n",
              "      <td>0.044526</td>\n",
              "      <td>-0.097294</td>\n",
              "      <td>-0.290115</td>\n",
              "      <td>0.143693</td>\n",
              "    </tr>\n",
              "    <tr>\n",
              "      <th>4</th>\n",
              "      <td>2.783573</td>\n",
              "      <td>0.502213</td>\n",
              "      <td>0.539653</td>\n",
              "      <td>0.452322</td>\n",
              "      <td>0.289915</td>\n",
              "    </tr>\n",
              "  </tbody>\n",
              "</table>\n",
              "</div>"
            ],
            "text/plain": [
              "   s_onion1  high_temp  avg_temp  low_temp      rain\n",
              "0 -1.029503  -2.440063 -1.832426 -1.736915 -0.952972\n",
              "1 -1.392875  -0.700851 -1.173515 -1.194365 -0.430144\n",
              "2 -0.718289  -0.465469 -0.811114 -0.708926 -0.753192\n",
              "3  0.844854   0.044526 -0.097294 -0.290115  0.143693\n",
              "4  2.783573   0.502213  0.539653  0.452322  0.289915"
            ]
          },
          "metadata": {},
          "execution_count": 1030
        }
      ]
    },
    {
      "cell_type": "code",
      "metadata": {
        "colab": {
          "base_uri": "https://localhost:8080/",
          "height": 204
        },
        "id": "4Z7aRsJSaQ4m",
        "outputId": "d3f9545f-48c7-4f60-ec83-e119cca98dc8"
      },
      "source": [
        "df[numerical_columns2].head()"
      ],
      "id": "4Z7aRsJSaQ4m",
      "execution_count": 1031,
      "outputs": [
        {
          "output_type": "execute_result",
          "data": {
            "text/html": [
              "<div>\n",
              "<style scoped>\n",
              "    .dataframe tbody tr th:only-of-type {\n",
              "        vertical-align: middle;\n",
              "    }\n",
              "\n",
              "    .dataframe tbody tr th {\n",
              "        vertical-align: top;\n",
              "    }\n",
              "\n",
              "    .dataframe thead th {\n",
              "        text-align: right;\n",
              "    }\n",
              "</style>\n",
              "<table border=\"1\" class=\"dataframe\">\n",
              "  <thead>\n",
              "    <tr style=\"text-align: right;\">\n",
              "      <th></th>\n",
              "      <th>s_onion2</th>\n",
              "      <th>high_temp</th>\n",
              "      <th>avg_temp</th>\n",
              "      <th>low_temp</th>\n",
              "      <th>rain</th>\n",
              "    </tr>\n",
              "  </thead>\n",
              "  <tbody>\n",
              "    <tr>\n",
              "      <th>0</th>\n",
              "      <td>-0.910019</td>\n",
              "      <td>-2.440063</td>\n",
              "      <td>-1.832426</td>\n",
              "      <td>-1.736915</td>\n",
              "      <td>-0.952972</td>\n",
              "    </tr>\n",
              "    <tr>\n",
              "      <th>1</th>\n",
              "      <td>-1.064351</td>\n",
              "      <td>-0.700851</td>\n",
              "      <td>-1.173515</td>\n",
              "      <td>-1.194365</td>\n",
              "      <td>-0.430144</td>\n",
              "    </tr>\n",
              "    <tr>\n",
              "      <th>2</th>\n",
              "      <td>-0.767167</td>\n",
              "      <td>-0.465469</td>\n",
              "      <td>-0.811114</td>\n",
              "      <td>-0.708926</td>\n",
              "      <td>-0.753192</td>\n",
              "    </tr>\n",
              "    <tr>\n",
              "      <th>3</th>\n",
              "      <td>-0.619770</td>\n",
              "      <td>0.044526</td>\n",
              "      <td>-0.097294</td>\n",
              "      <td>-0.290115</td>\n",
              "      <td>0.143693</td>\n",
              "    </tr>\n",
              "    <tr>\n",
              "      <th>4</th>\n",
              "      <td>-0.275226</td>\n",
              "      <td>0.502213</td>\n",
              "      <td>0.539653</td>\n",
              "      <td>0.452322</td>\n",
              "      <td>0.289915</td>\n",
              "    </tr>\n",
              "  </tbody>\n",
              "</table>\n",
              "</div>"
            ],
            "text/plain": [
              "   s_onion2  high_temp  avg_temp  low_temp      rain\n",
              "0 -0.910019  -2.440063 -1.832426 -1.736915 -0.952972\n",
              "1 -1.064351  -0.700851 -1.173515 -1.194365 -0.430144\n",
              "2 -0.767167  -0.465469 -0.811114 -0.708926 -0.753192\n",
              "3 -0.619770   0.044526 -0.097294 -0.290115  0.143693\n",
              "4 -0.275226   0.502213  0.539653  0.452322  0.289915"
            ]
          },
          "metadata": {},
          "execution_count": 1031
        }
      ]
    },
    {
      "cell_type": "code",
      "metadata": {
        "id": "2b91c63c-f53e-4605-90c0-3a380da7efda"
      },
      "source": [
        "from sklearn.model_selection import train_test_split\n",
        "\n",
        "# split dataset into training & test\n",
        "##우선 일반 양파인 p_onion1만 먼저 try\n",
        "X = df[numerical_columns1]\n",
        "y = df['p_onion1']\n",
        "X_train, X_test, y_train, y_test = train_test_split(X, y, test_size=0.1, random_state=1)"
      ],
      "id": "2b91c63c-f53e-4605-90c0-3a380da7efda",
      "execution_count": 1032,
      "outputs": []
    },
    {
      "cell_type": "code",
      "metadata": {
        "id": "d60e8457-ab5e-4410-9e83-110bb8f2e23d",
        "colab": {
          "base_uri": "https://localhost:8080/"
        },
        "outputId": "fa1624f9-1eec-40a2-fb8e-ef993fabf5ba"
      },
      "source": [
        "X_train.shape, y_train.shape"
      ],
      "id": "d60e8457-ab5e-4410-9e83-110bb8f2e23d",
      "execution_count": 1033,
      "outputs": [
        {
          "output_type": "execute_result",
          "data": {
            "text/plain": [
              "((108, 5), (108,))"
            ]
          },
          "metadata": {},
          "execution_count": 1033
        }
      ]
    },
    {
      "cell_type": "code",
      "metadata": {
        "id": "a132f587-3687-442d-9975-ff0ac0e9a46d",
        "colab": {
          "base_uri": "https://localhost:8080/"
        },
        "outputId": "a10cb320-87df-4d09-d385-e716759a9034"
      },
      "source": [
        "X_test.shape, y_test.shape"
      ],
      "id": "a132f587-3687-442d-9975-ff0ac0e9a46d",
      "execution_count": 1034,
      "outputs": [
        {
          "output_type": "execute_result",
          "data": {
            "text/plain": [
              "((13, 5), (13,))"
            ]
          },
          "metadata": {},
          "execution_count": 1034
        }
      ]
    },
    {
      "cell_type": "code",
      "metadata": {
        "id": "40d812f3-4721-402e-8466-029b356fbbf4",
        "colab": {
          "base_uri": "https://localhost:8080/"
        },
        "outputId": "90c4c50e-0bc4-44f2-e0a5-6329c7591f74"
      },
      "source": [
        "y_train"
      ],
      "id": "40d812f3-4721-402e-8466-029b356fbbf4",
      "execution_count": 1035,
      "outputs": [
        {
          "output_type": "execute_result",
          "data": {
            "text/plain": [
              "88     1601.333333\n",
              "114    1722.666667\n",
              "56     1762.333333\n",
              "119    2304.000000\n",
              "104    1322.917563\n",
              "          ...     \n",
              "9      1413.819608\n",
              "72     1806.000000\n",
              "12     1491.152941\n",
              "107    1294.333333\n",
              "37     1583.250896\n",
              "Name: p_onion1, Length: 108, dtype: float64"
            ]
          },
          "metadata": {},
          "execution_count": 1035
        }
      ]
    },
    {
      "cell_type": "code",
      "metadata": {
        "id": "33b066ec-ec65-4eeb-b7df-c5b8808c519c",
        "colab": {
          "base_uri": "https://localhost:8080/",
          "height": 419
        },
        "outputId": "6f8bfe6a-64e8-430e-cbf8-e6953a33159d"
      },
      "source": [
        "X_train"
      ],
      "id": "33b066ec-ec65-4eeb-b7df-c5b8808c519c",
      "execution_count": 1036,
      "outputs": [
        {
          "output_type": "execute_result",
          "data": {
            "text/html": [
              "<div>\n",
              "<style scoped>\n",
              "    .dataframe tbody tr th:only-of-type {\n",
              "        vertical-align: middle;\n",
              "    }\n",
              "\n",
              "    .dataframe tbody tr th {\n",
              "        vertical-align: top;\n",
              "    }\n",
              "\n",
              "    .dataframe thead th {\n",
              "        text-align: right;\n",
              "    }\n",
              "</style>\n",
              "<table border=\"1\" class=\"dataframe\">\n",
              "  <thead>\n",
              "    <tr style=\"text-align: right;\">\n",
              "      <th></th>\n",
              "      <th>s_onion1</th>\n",
              "      <th>high_temp</th>\n",
              "      <th>avg_temp</th>\n",
              "      <th>low_temp</th>\n",
              "      <th>rain</th>\n",
              "    </tr>\n",
              "  </thead>\n",
              "  <tbody>\n",
              "    <tr>\n",
              "      <th>88</th>\n",
              "      <td>0.514081</td>\n",
              "      <td>0.659135</td>\n",
              "      <td>0.616526</td>\n",
              "      <td>0.423766</td>\n",
              "      <td>-0.205710</td>\n",
              "    </tr>\n",
              "    <tr>\n",
              "      <th>114</th>\n",
              "      <td>0.666702</td>\n",
              "      <td>0.855286</td>\n",
              "      <td>1.121691</td>\n",
              "      <td>1.556458</td>\n",
              "      <td>3.803492</td>\n",
              "    </tr>\n",
              "    <tr>\n",
              "      <th>56</th>\n",
              "      <td>-0.693028</td>\n",
              "      <td>0.358369</td>\n",
              "      <td>0.627508</td>\n",
              "      <td>0.747393</td>\n",
              "      <td>0.038277</td>\n",
              "    </tr>\n",
              "    <tr>\n",
              "      <th>119</th>\n",
              "      <td>0.186171</td>\n",
              "      <td>-1.576995</td>\n",
              "      <td>-1.360206</td>\n",
              "      <td>-1.184847</td>\n",
              "      <td>-0.874760</td>\n",
              "    </tr>\n",
              "    <tr>\n",
              "      <th>104</th>\n",
              "      <td>0.106194</td>\n",
              "      <td>0.763749</td>\n",
              "      <td>0.967945</td>\n",
              "      <td>0.928243</td>\n",
              "      <td>1.312618</td>\n",
              "    </tr>\n",
              "    <tr>\n",
              "      <th>...</th>\n",
              "      <td>...</td>\n",
              "      <td>...</td>\n",
              "      <td>...</td>\n",
              "      <td>...</td>\n",
              "      <td>...</td>\n",
              "    </tr>\n",
              "    <tr>\n",
              "      <th>9</th>\n",
              "      <td>-0.689174</td>\n",
              "      <td>0.109910</td>\n",
              "      <td>0.078416</td>\n",
              "      <td>-0.166376</td>\n",
              "      <td>-0.158103</td>\n",
              "    </tr>\n",
              "    <tr>\n",
              "      <th>72</th>\n",
              "      <td>-0.787789</td>\n",
              "      <td>-1.380843</td>\n",
              "      <td>-1.360206</td>\n",
              "      <td>-1.241957</td>\n",
              "      <td>-0.910466</td>\n",
              "    </tr>\n",
              "    <tr>\n",
              "      <th>12</th>\n",
              "      <td>-0.475032</td>\n",
              "      <td>-1.916991</td>\n",
              "      <td>-1.459043</td>\n",
              "      <td>-1.318104</td>\n",
              "      <td>-0.905365</td>\n",
              "    </tr>\n",
              "    <tr>\n",
              "      <th>107</th>\n",
              "      <td>0.365180</td>\n",
              "      <td>-1.132384</td>\n",
              "      <td>-1.129587</td>\n",
              "      <td>-0.975441</td>\n",
              "      <td>-0.676681</td>\n",
              "    </tr>\n",
              "    <tr>\n",
              "      <th>37</th>\n",
              "      <td>-1.085573</td>\n",
              "      <td>-0.570083</td>\n",
              "      <td>-1.140569</td>\n",
              "      <td>-1.061107</td>\n",
              "      <td>-0.825453</td>\n",
              "    </tr>\n",
              "  </tbody>\n",
              "</table>\n",
              "<p>108 rows × 5 columns</p>\n",
              "</div>"
            ],
            "text/plain": [
              "     s_onion1  high_temp  avg_temp  low_temp      rain\n",
              "88   0.514081   0.659135  0.616526  0.423766 -0.205710\n",
              "114  0.666702   0.855286  1.121691  1.556458  3.803492\n",
              "56  -0.693028   0.358369  0.627508  0.747393  0.038277\n",
              "119  0.186171  -1.576995 -1.360206 -1.184847 -0.874760\n",
              "104  0.106194   0.763749  0.967945  0.928243  1.312618\n",
              "..        ...        ...       ...       ...       ...\n",
              "9   -0.689174   0.109910  0.078416 -0.166376 -0.158103\n",
              "72  -0.787789  -1.380843 -1.360206 -1.241957 -0.910466\n",
              "12  -0.475032  -1.916991 -1.459043 -1.318104 -0.905365\n",
              "107  0.365180  -1.132384 -1.129587 -0.975441 -0.676681\n",
              "37  -1.085573  -0.570083 -1.140569 -1.061107 -0.825453\n",
              "\n",
              "[108 rows x 5 columns]"
            ]
          },
          "metadata": {},
          "execution_count": 1036
        }
      ]
    },
    {
      "cell_type": "code",
      "metadata": {
        "id": "63286a9f-673c-4ad4-93a2-e09ca3a3d0ab",
        "colab": {
          "base_uri": "https://localhost:8080/",
          "height": 204
        },
        "outputId": "6e9f395d-259a-4e31-9066-19468c0f6de3"
      },
      "source": [
        "from statsmodels.stats.outliers_influence import variance_inflation_factor\n",
        "\n",
        "vif = pd.DataFrame()\n",
        "vif['features'] = X_train.columns\n",
        "vif[\"VIF Factor\"] = [variance_inflation_factor(X_train.values, i) for i in range(X_train.shape[1])]\n",
        "vif.round(1) "
      ],
      "id": "63286a9f-673c-4ad4-93a2-e09ca3a3d0ab",
      "execution_count": 1037,
      "outputs": [
        {
          "output_type": "execute_result",
          "data": {
            "text/html": [
              "<div>\n",
              "<style scoped>\n",
              "    .dataframe tbody tr th:only-of-type {\n",
              "        vertical-align: middle;\n",
              "    }\n",
              "\n",
              "    .dataframe tbody tr th {\n",
              "        vertical-align: top;\n",
              "    }\n",
              "\n",
              "    .dataframe thead th {\n",
              "        text-align: right;\n",
              "    }\n",
              "</style>\n",
              "<table border=\"1\" class=\"dataframe\">\n",
              "  <thead>\n",
              "    <tr style=\"text-align: right;\">\n",
              "      <th></th>\n",
              "      <th>features</th>\n",
              "      <th>VIF Factor</th>\n",
              "    </tr>\n",
              "  </thead>\n",
              "  <tbody>\n",
              "    <tr>\n",
              "      <th>0</th>\n",
              "      <td>s_onion1</td>\n",
              "      <td>1.2</td>\n",
              "    </tr>\n",
              "    <tr>\n",
              "      <th>1</th>\n",
              "      <td>high_temp</td>\n",
              "      <td>26.5</td>\n",
              "    </tr>\n",
              "    <tr>\n",
              "      <th>2</th>\n",
              "      <td>avg_temp</td>\n",
              "      <td>96.2</td>\n",
              "    </tr>\n",
              "    <tr>\n",
              "      <th>3</th>\n",
              "      <td>low_temp</td>\n",
              "      <td>39.7</td>\n",
              "    </tr>\n",
              "    <tr>\n",
              "      <th>4</th>\n",
              "      <td>rain</td>\n",
              "      <td>1.8</td>\n",
              "    </tr>\n",
              "  </tbody>\n",
              "</table>\n",
              "</div>"
            ],
            "text/plain": [
              "    features  VIF Factor\n",
              "0   s_onion1         1.2\n",
              "1  high_temp        26.5\n",
              "2   avg_temp        96.2\n",
              "3   low_temp        39.7\n",
              "4       rain         1.8"
            ]
          },
          "metadata": {},
          "execution_count": 1037
        }
      ]
    },
    {
      "cell_type": "code",
      "metadata": {
        "id": "339089c5-6f44-4c05-8e00-193a69a42304"
      },
      "source": [
        "from sklearn import linear_model\n",
        "\n",
        "# fit regression model in training set\n",
        "lr = linear_model.LinearRegression()\n",
        "model = lr.fit(X_train, y_train)\n",
        "\n",
        "# predict in test set\n",
        "pred_test = lr.predict(X_test)"
      ],
      "id": "339089c5-6f44-4c05-8e00-193a69a42304",
      "execution_count": 1038,
      "outputs": []
    },
    {
      "cell_type": "code",
      "metadata": {
        "id": "cc105a0a-7372-4be8-b2fa-3f01c01fe912",
        "colab": {
          "base_uri": "https://localhost:8080/"
        },
        "outputId": "650c319a-e386-4b33-ea7f-06a95344380d"
      },
      "source": [
        "print(lr.coef_)"
      ],
      "id": "cc105a0a-7372-4be8-b2fa-3f01c01fe912",
      "execution_count": 1039,
      "outputs": [
        {
          "output_type": "stream",
          "name": "stdout",
          "text": [
            "[-31.47365837 -21.13510653  51.30311348 -55.54910339 -37.71260119]\n"
          ]
        }
      ]
    },
    {
      "cell_type": "code",
      "metadata": {
        "id": "18312aff-fe75-488f-9d1f-3afb60f69c0c",
        "colab": {
          "base_uri": "https://localhost:8080/",
          "height": 204
        },
        "outputId": "a5020187-b1e7-45ac-a679-8c0277cd08f8"
      },
      "source": [
        "coefs = pd.DataFrame(zip(df[numerical_columns1].columns, lr.coef_), columns = ['feature', 'coefficients'])\n",
        "coefs"
      ],
      "id": "18312aff-fe75-488f-9d1f-3afb60f69c0c",
      "execution_count": 1040,
      "outputs": [
        {
          "output_type": "execute_result",
          "data": {
            "text/html": [
              "<div>\n",
              "<style scoped>\n",
              "    .dataframe tbody tr th:only-of-type {\n",
              "        vertical-align: middle;\n",
              "    }\n",
              "\n",
              "    .dataframe tbody tr th {\n",
              "        vertical-align: top;\n",
              "    }\n",
              "\n",
              "    .dataframe thead th {\n",
              "        text-align: right;\n",
              "    }\n",
              "</style>\n",
              "<table border=\"1\" class=\"dataframe\">\n",
              "  <thead>\n",
              "    <tr style=\"text-align: right;\">\n",
              "      <th></th>\n",
              "      <th>feature</th>\n",
              "      <th>coefficients</th>\n",
              "    </tr>\n",
              "  </thead>\n",
              "  <tbody>\n",
              "    <tr>\n",
              "      <th>0</th>\n",
              "      <td>s_onion1</td>\n",
              "      <td>-31.473658</td>\n",
              "    </tr>\n",
              "    <tr>\n",
              "      <th>1</th>\n",
              "      <td>high_temp</td>\n",
              "      <td>-21.135107</td>\n",
              "    </tr>\n",
              "    <tr>\n",
              "      <th>2</th>\n",
              "      <td>avg_temp</td>\n",
              "      <td>51.303113</td>\n",
              "    </tr>\n",
              "    <tr>\n",
              "      <th>3</th>\n",
              "      <td>low_temp</td>\n",
              "      <td>-55.549103</td>\n",
              "    </tr>\n",
              "    <tr>\n",
              "      <th>4</th>\n",
              "      <td>rain</td>\n",
              "      <td>-37.712601</td>\n",
              "    </tr>\n",
              "  </tbody>\n",
              "</table>\n",
              "</div>"
            ],
            "text/plain": [
              "     feature  coefficients\n",
              "0   s_onion1    -31.473658\n",
              "1  high_temp    -21.135107\n",
              "2   avg_temp     51.303113\n",
              "3   low_temp    -55.549103\n",
              "4       rain    -37.712601"
            ]
          },
          "metadata": {},
          "execution_count": 1040
        }
      ]
    },
    {
      "cell_type": "code",
      "metadata": {
        "id": "765d54fa-fd10-4e63-9770-05436f304cbf",
        "colab": {
          "base_uri": "https://localhost:8080/",
          "height": 204
        },
        "outputId": "ba85f755-9a8a-4406-f3e1-069bbe223eb4"
      },
      "source": [
        "coefs_new = coefs.reindex(coefs.coefficients.abs().sort_values(ascending=False).index)\n",
        "coefs_new"
      ],
      "id": "765d54fa-fd10-4e63-9770-05436f304cbf",
      "execution_count": 1041,
      "outputs": [
        {
          "output_type": "execute_result",
          "data": {
            "text/html": [
              "<div>\n",
              "<style scoped>\n",
              "    .dataframe tbody tr th:only-of-type {\n",
              "        vertical-align: middle;\n",
              "    }\n",
              "\n",
              "    .dataframe tbody tr th {\n",
              "        vertical-align: top;\n",
              "    }\n",
              "\n",
              "    .dataframe thead th {\n",
              "        text-align: right;\n",
              "    }\n",
              "</style>\n",
              "<table border=\"1\" class=\"dataframe\">\n",
              "  <thead>\n",
              "    <tr style=\"text-align: right;\">\n",
              "      <th></th>\n",
              "      <th>feature</th>\n",
              "      <th>coefficients</th>\n",
              "    </tr>\n",
              "  </thead>\n",
              "  <tbody>\n",
              "    <tr>\n",
              "      <th>3</th>\n",
              "      <td>low_temp</td>\n",
              "      <td>-55.549103</td>\n",
              "    </tr>\n",
              "    <tr>\n",
              "      <th>2</th>\n",
              "      <td>avg_temp</td>\n",
              "      <td>51.303113</td>\n",
              "    </tr>\n",
              "    <tr>\n",
              "      <th>4</th>\n",
              "      <td>rain</td>\n",
              "      <td>-37.712601</td>\n",
              "    </tr>\n",
              "    <tr>\n",
              "      <th>0</th>\n",
              "      <td>s_onion1</td>\n",
              "      <td>-31.473658</td>\n",
              "    </tr>\n",
              "    <tr>\n",
              "      <th>1</th>\n",
              "      <td>high_temp</td>\n",
              "      <td>-21.135107</td>\n",
              "    </tr>\n",
              "  </tbody>\n",
              "</table>\n",
              "</div>"
            ],
            "text/plain": [
              "     feature  coefficients\n",
              "3   low_temp    -55.549103\n",
              "2   avg_temp     51.303113\n",
              "4       rain    -37.712601\n",
              "0   s_onion1    -31.473658\n",
              "1  high_temp    -21.135107"
            ]
          },
          "metadata": {},
          "execution_count": 1041
        }
      ]
    },
    {
      "cell_type": "code",
      "metadata": {
        "id": "9dd2e107-ca0a-4c7a-82c9-cac02bb2f6b0",
        "colab": {
          "base_uri": "https://localhost:8080/",
          "height": 535
        },
        "outputId": "b58a7d27-98d4-4386-f51c-3d72bb4c0828"
      },
      "source": [
        "### coefficients 를 시각화 합니다. \n",
        "\n",
        "### figure size\n",
        "plt.figure(figsize = (8, 8))\n",
        "\n",
        "### bar plot : matplotlib.pyplot 모듈의 barh() 함수를 사용해서 수평 막대 그래프를 그릴 수 있습니다. \n",
        "plt.barh(coefs_new['feature'], coefs_new['coefficients'])\n",
        "plt.title('\"feature - coefficient\" Graph')\n",
        "plt.xlabel('coefficients')\n",
        "plt.ylabel('features')\n",
        "plt.show()"
      ],
      "id": "9dd2e107-ca0a-4c7a-82c9-cac02bb2f6b0",
      "execution_count": 1042,
      "outputs": [
        {
          "output_type": "display_data",
          "data": {
            "image/png": "[encoded data removed]",
            "text/plain": [
              "<Figure size 576x576 with 1 Axes>"
            ]
          },
          "metadata": {}
        }
      ]
    },
    {
      "cell_type": "code",
      "metadata": {
        "id": "28da13e6-52e1-407a-86cb-d9ffc2ba19b1",
        "colab": {
          "base_uri": "https://localhost:8080/",
          "height": 528
        },
        "outputId": "5eeb42af-64ef-45c1-cd23-ea67b99717d9"
      },
      "source": [
        "import statsmodels.api as sm\n",
        "\n",
        "X_train2 = sm.add_constant(X_train)\n",
        "### 회귀분석모형 수식을 간단하게 만들기 위해 다음과 같이 상수항을 독립변수 데이터에 추가하는 것을 상수항 결합(bias augmentation)작업이라고 합니다.\n",
        "### ordinary least square 의 약자로, 거리의 최소값을 기준으로 구하는 함수입니다. \n",
        "\n",
        "model2 = sm.OLS(y_train, X_train2).fit()\n",
        "model2.summary()"
      ],
      "id": "28da13e6-52e1-407a-86cb-d9ffc2ba19b1",
      "execution_count": 1043,
      "outputs": [
        {
          "output_type": "execute_result",
          "data": {
            "text/html": [
              "<table class=\"simpletable\">\n",
              "<caption>OLS Regression Results</caption>\n",
              "<tr>\n",
              "  <th>Dep. Variable:</th>        <td>p_onion1</td>     <th>  R-squared:         </th> <td>   0.041</td>\n",
              "</tr>\n",
              "<tr>\n",
              "  <th>Model:</th>                   <td>OLS</td>       <th>  Adj. R-squared:    </th> <td>  -0.006</td>\n",
              "</tr>\n",
              "<tr>\n",
              "  <th>Method:</th>             <td>Least Squares</td>  <th>  F-statistic:       </th> <td>  0.8708</td>\n",
              "</tr>\n",
              "<tr>\n",
              "  <th>Date:</th>             <td>Thu, 11 Nov 2021</td> <th>  Prob (F-statistic):</th>  <td> 0.504</td> \n",
              "</tr>\n",
              "<tr>\n",
              "  <th>Time:</th>                 <td>20:02:29</td>     <th>  Log-Likelihood:    </th> <td> -785.40</td>\n",
              "</tr>\n",
              "<tr>\n",
              "  <th>No. Observations:</th>      <td>   108</td>      <th>  AIC:               </th> <td>   1583.</td>\n",
              "</tr>\n",
              "<tr>\n",
              "  <th>Df Residuals:</th>          <td>   102</td>      <th>  BIC:               </th> <td>   1599.</td>\n",
              "</tr>\n",
              "<tr>\n",
              "  <th>Df Model:</th>              <td>     5</td>      <th>                     </th>     <td> </td>   \n",
              "</tr>\n",
              "<tr>\n",
              "  <th>Covariance Type:</th>      <td>nonrobust</td>    <th>                     </th>     <td> </td>   \n",
              "</tr>\n",
              "</table>\n",
              "<table class=\"simpletable\">\n",
              "<tr>\n",
              "      <td></td>         <th>coef</th>     <th>std err</th>      <th>t</th>      <th>P>|t|</th>  <th>[0.025</th>    <th>0.975]</th>  \n",
              "</tr>\n",
              "<tr>\n",
              "  <th>const</th>     <td> 1679.6928</td> <td>   34.561</td> <td>   48.601</td> <td> 0.000</td> <td> 1611.142</td> <td> 1748.243</td>\n",
              "</tr>\n",
              "<tr>\n",
              "  <th>s_onion1</th>  <td>  -31.4737</td> <td>   37.478</td> <td>   -0.840</td> <td> 0.403</td> <td> -105.811</td> <td>   42.864</td>\n",
              "</tr>\n",
              "<tr>\n",
              "  <th>high_temp</th> <td>  -21.1351</td> <td>  179.210</td> <td>   -0.118</td> <td> 0.906</td> <td> -376.597</td> <td>  334.327</td>\n",
              "</tr>\n",
              "<tr>\n",
              "  <th>avg_temp</th>  <td>   51.3031</td> <td>  336.456</td> <td>    0.152</td> <td> 0.879</td> <td> -616.056</td> <td>  718.663</td>\n",
              "</tr>\n",
              "<tr>\n",
              "  <th>low_temp</th>  <td>  -55.5491</td> <td>  215.167</td> <td>   -0.258</td> <td> 0.797</td> <td> -482.332</td> <td>  371.234</td>\n",
              "</tr>\n",
              "<tr>\n",
              "  <th>rain</th>      <td>  -37.7126</td> <td>   44.214</td> <td>   -0.853</td> <td> 0.396</td> <td> -125.410</td> <td>   49.985</td>\n",
              "</tr>\n",
              "</table>\n",
              "<table class=\"simpletable\">\n",
              "<tr>\n",
              "  <th>Omnibus:</th>       <td>13.722</td> <th>  Durbin-Watson:     </th> <td>   2.238</td>\n",
              "</tr>\n",
              "<tr>\n",
              "  <th>Prob(Omnibus):</th> <td> 0.001</td> <th>  Jarque-Bera (JB):  </th> <td>  15.027</td>\n",
              "</tr>\n",
              "<tr>\n",
              "  <th>Skew:</th>          <td> 0.893</td> <th>  Prob(JB):          </th> <td>0.000546</td>\n",
              "</tr>\n",
              "<tr>\n",
              "  <th>Kurtosis:</th>      <td> 3.383</td> <th>  Cond. No.          </th> <td>    22.8</td>\n",
              "</tr>\n",
              "</table><br/><br/>Warnings:<br/>[1] Standard Errors assume that the covariance matrix of the errors is correctly specified."
            ],
            "text/plain": [
              "<class 'statsmodels.iolib.summary.Summary'>\n",
              "\"\"\"\n",
              "                            OLS Regression Results                            \n",
              "==============================================================================\n",
              "Dep. Variable:               p_onion1   R-squared:                       0.041\n",
              "Model:                            OLS   Adj. R-squared:                 -0.006\n",
              "Method:                 Least Squares   F-statistic:                    0.8708\n",
              "Date:                Thu, 11 Nov 2021   Prob (F-statistic):              0.504\n",
              "Time:                        20:02:29   Log-Likelihood:                -785.40\n",
              "No. Observations:                 108   AIC:                             1583.\n",
              "Df Residuals:                     102   BIC:                             1599.\n",
              "Df Model:                           5                                         \n",
              "Covariance Type:            nonrobust                                         \n",
              "==============================================================================\n",
              "                 coef    std err          t      P>|t|      [0.025      0.975]\n",
              "------------------------------------------------------------------------------\n",
              "const       1679.6928     34.561     48.601      0.000    1611.142    1748.243\n",
              "s_onion1     -31.4737     37.478     -0.840      0.403    -105.811      42.864\n",
              "high_temp    -21.1351    179.210     -0.118      0.906    -376.597     334.327\n",
              "avg_temp      51.3031    336.456      0.152      0.879    -616.056     718.663\n",
              "low_temp     -55.5491    215.167     -0.258      0.797    -482.332     371.234\n",
              "rain         -37.7126     44.214     -0.853      0.396    -125.410      49.985\n",
              "==============================================================================\n",
              "Omnibus:                       13.722   Durbin-Watson:                   2.238\n",
              "Prob(Omnibus):                  0.001   Jarque-Bera (JB):               15.027\n",
              "Skew:                           0.893   Prob(JB):                     0.000546\n",
              "Kurtosis:                       3.383   Cond. No.                         22.8\n",
              "==============================================================================\n",
              "\n",
              "Warnings:\n",
              "[1] Standard Errors assume that the covariance matrix of the errors is correctly specified.\n",
              "\"\"\""
            ]
          },
          "metadata": {},
          "execution_count": 1043
        }
      ]
    },
    {
      "cell_type": "code",
      "metadata": {
        "id": "d36eae86-d675-479c-bcc7-a3878f5dedae",
        "colab": {
          "base_uri": "https://localhost:8080/",
          "height": 204
        },
        "outputId": "c794e180-6b3c-4aa7-97ad-c9950186e75b"
      },
      "source": [
        "### 예측 결과 시각화 (test set)\n",
        "df = pd.DataFrame({'actual': y_test, 'prediction': pred_test})\n",
        "df = df.sort_values(by='actual').reset_index(drop=True)\n",
        "df.head()"
      ],
      "id": "d36eae86-d675-479c-bcc7-a3878f5dedae",
      "execution_count": 1044,
      "outputs": [
        {
          "output_type": "execute_result",
          "data": {
            "text/html": [
              "<div>\n",
              "<style scoped>\n",
              "    .dataframe tbody tr th:only-of-type {\n",
              "        vertical-align: middle;\n",
              "    }\n",
              "\n",
              "    .dataframe tbody tr th {\n",
              "        vertical-align: top;\n",
              "    }\n",
              "\n",
              "    .dataframe thead th {\n",
              "        text-align: right;\n",
              "    }\n",
              "</style>\n",
              "<table border=\"1\" class=\"dataframe\">\n",
              "  <thead>\n",
              "    <tr style=\"text-align: right;\">\n",
              "      <th></th>\n",
              "      <th>actual</th>\n",
              "      <th>prediction</th>\n",
              "    </tr>\n",
              "  </thead>\n",
              "  <tbody>\n",
              "    <tr>\n",
              "      <th>0</th>\n",
              "      <td>1415.000000</td>\n",
              "      <td>1676.817658</td>\n",
              "    </tr>\n",
              "    <tr>\n",
              "      <th>1</th>\n",
              "      <td>1435.486275</td>\n",
              "      <td>1705.326669</td>\n",
              "    </tr>\n",
              "    <tr>\n",
              "      <th>2</th>\n",
              "      <td>1436.486275</td>\n",
              "      <td>1731.171505</td>\n",
              "    </tr>\n",
              "    <tr>\n",
              "      <th>3</th>\n",
              "      <td>1491.917563</td>\n",
              "      <td>1710.520482</td>\n",
              "    </tr>\n",
              "    <tr>\n",
              "      <th>4</th>\n",
              "      <td>1530.250896</td>\n",
              "      <td>1741.297085</td>\n",
              "    </tr>\n",
              "  </tbody>\n",
              "</table>\n",
              "</div>"
            ],
            "text/plain": [
              "        actual   prediction\n",
              "0  1415.000000  1676.817658\n",
              "1  1435.486275  1705.326669\n",
              "2  1436.486275  1731.171505\n",
              "3  1491.917563  1710.520482\n",
              "4  1530.250896  1741.297085"
            ]
          },
          "metadata": {},
          "execution_count": 1044
        }
      ]
    },
    {
      "cell_type": "code",
      "metadata": {
        "id": "c00a8a02-57c9-4cee-bfd9-b487bccbfdcd",
        "colab": {
          "base_uri": "https://localhost:8080/",
          "height": 569
        },
        "outputId": "550235c8-a90a-4d11-c8af-f2098dc23866"
      },
      "source": [
        "plt.figure(figsize=(12, 9))\n",
        "plt.scatter(df.index, df['prediction'], marker='x', color='r')\n",
        "plt.scatter(df.index, df['actual'], alpha=0.3, marker='o', color='black')\n",
        "plt.title(\"Prediction Result in Test Set\", fontsize=20)\n",
        "plt.legend(['prediction', 'actual'], fontsize=12)\n",
        "plt.show()"
      ],
      "id": "c00a8a02-57c9-4cee-bfd9-b487bccbfdcd",
      "execution_count": 1045,
      "outputs": [
        {
          "output_type": "display_data",
          "data": {
            "image/png": "[encoded data removed]",
            "text/plain": [
              "<Figure size 864x648 with 1 Axes>"
            ]
          },
          "metadata": {}
        }
      ]
    },
    {
      "cell_type": "markdown",
      "metadata": {
        "id": "0125d8e9-16b0-4ad2-a641-dd895e04749b"
      },
      "source": [
        "- 모델 성능 평가 (R squre 와 RMSE)"
      ],
      "id": "0125d8e9-16b0-4ad2-a641-dd895e04749b"
    },
    {
      "cell_type": "code",
      "metadata": {
        "id": "7117d0ea-297c-4dee-962d-2537a49a3bef",
        "colab": {
          "base_uri": "https://localhost:8080/"
        },
        "outputId": "5b10606a-9a50-4c67-9637-3b2b75f0935d"
      },
      "source": [
        "### R square\n",
        "### 결정계수 : 0 부터 1까지의 값을 갖고, 1에 가까울수록 설명력이 높음을 의미한다. \n",
        "### 선형 회귀 모델이 데이터에 대해 얼마나 잘 설명해주는지에 대한 값\n",
        "print(model.score(X_train, y_train))  # training set\n",
        "print(model.score(X_test, y_test))  # test set"
      ],
      "id": "7117d0ea-297c-4dee-962d-2537a49a3bef",
      "execution_count": 1046,
      "outputs": [
        {
          "output_type": "stream",
          "name": "stdout",
          "text": [
            "0.04093929177856759\n",
            "0.08148804682537836\n"
          ]
        }
      ]
    },
    {
      "cell_type": "code",
      "metadata": {
        "id": "c9f76023-61e1-4981-aab5-8345c60b0280",
        "colab": {
          "base_uri": "https://localhost:8080/"
        },
        "outputId": "d3cd0d06-c090-4ace-e8ec-027c89b9c674"
      },
      "source": [
        "### RMSE\n",
        "### 제곱근을 취한 평균 제곱근 오차(Root mean squared error, RMSE) = 표준편차\n",
        "### 특정 수치에 대한 예측의 정확도를 표현할 때, Accuracy로 판단하기에는 정확도를 올바르게 표기할 수 없어, RMSE 수치로 정확도 판단을 하곤 한다. \n",
        "### 일반적으로 해당 수치가 낮을수록 정확도가 높다고 판단한다.\n",
        "from sklearn.metrics import mean_squared_error\n",
        "from math import sqrt\n",
        "\n",
        "# training set\n",
        "pred_train = lr.predict(X_train)\n",
        "print(sqrt(mean_squared_error(y_train, pred_train)))\n",
        "\n",
        "# test set\n",
        "print(sqrt(mean_squared_error(y_test, pred_test)))"
      ],
      "id": "c9f76023-61e1-4981-aab5-8345c60b0280",
      "execution_count": 1047,
      "outputs": [
        {
          "output_type": "stream",
          "name": "stdout",
          "text": [
            "348.39210532259295\n",
            "268.0375000225156\n"
          ]
        }
      ]
    },
    {
      "cell_type": "code",
      "metadata": {
        "id": "wgM8RYfB9DYi"
      },
      "source": [
        "from sklearn import linear_model\n",
        "\n",
        "# fit regression model in training set\n",
        "lr = linear_model.LinearRegression()\n",
        "model = lr.fit(X_train, y_train)\n",
        "\n",
        "# predict in test set\n",
        "pred_test = lr.predict(X_test)"
      ],
      "id": "wgM8RYfB9DYi",
      "execution_count": 1048,
      "outputs": []
    },
    {
      "cell_type": "code",
      "metadata": {
        "id": "b78eecd3-8f7e-416e-8eb5-94202a027104"
      },
      "source": [
        "### 해설) Test set에서 해당 예측 모델의 R square가 0.08이고, RMSE가 268입니다."
      ],
      "id": "b78eecd3-8f7e-416e-8eb5-94202a027104",
      "execution_count": 1049,
      "outputs": []
    }
  ]
}