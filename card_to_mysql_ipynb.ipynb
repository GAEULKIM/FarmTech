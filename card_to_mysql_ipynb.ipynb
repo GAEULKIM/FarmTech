{
  "nbformat": 4,
  "nbformat_minor": 0,
  "metadata": {
    "colab": {
      "name": "card_to_mysql.ipynb.ipynb",
      "provenance": [],
      "authorship_tag": "ABX9TyNnMZigCbMupoTNzky/gD+7",
      "include_colab_link": true
    },
    "kernelspec": {
      "name": "python3",
      "display_name": "Python 3"
    },
    "language_info": {
      "name": "python"
    }
  },
  "cells": [
    {
      "cell_type": "markdown",
      "metadata": {
        "id": "view-in-github",
        "colab_type": "text"
      },
      "source": [
        "<a href=\"https://colab.research.google.com/github/GAEULKIM/FarmTech/blob/main/card_to_mysql_ipynb.ipynb\" target=\"_parent\"><img src=\"https://colab.research.google.com/assets/colab-badge.svg\" alt=\"Open In Colab\"/></a>"
      ]
    },
    {
      "cell_type": "code",
      "execution_count": 1,
      "metadata": {
        "colab": {
          "base_uri": "https://localhost:8080/"
        },
        "id": "cMDkOggBd_C1",
        "outputId": "b1e95f6e-4ffe-4c71-8b7d-cb62d5a930b2"
      },
      "outputs": [
        {
          "output_type": "stream",
          "name": "stdout",
          "text": [
            "Collecting pymysql\n",
            "  Downloading PyMySQL-1.0.2-py3-none-any.whl (43 kB)\n",
            "\u001b[?25l\r\u001b[K     |███████▌                        | 10 kB 15.2 MB/s eta 0:00:01\r\u001b[K     |███████████████                 | 20 kB 16.4 MB/s eta 0:00:01\r\u001b[K     |██████████████████████▍         | 30 kB 11.9 MB/s eta 0:00:01\r\u001b[K     |██████████████████████████████  | 40 kB 9.7 MB/s eta 0:00:01\r\u001b[K     |████████████████████████████████| 43 kB 948 kB/s \n",
            "\u001b[?25hInstalling collected packages: pymysql\n",
            "Successfully installed pymysql-1.0.2\n"
          ]
        }
      ],
      "source": [
        "!pip install pymysql"
      ]
    },
    {
      "cell_type": "code",
      "source": [
        "import pymysql"
      ],
      "metadata": {
        "id": "CjEl_Y-7eV26"
      },
      "execution_count": 2,
      "outputs": []
    },
    {
      "cell_type": "code",
      "source": [
        "#테이블 생성\n",
        "conn=pymysql.connect(host='capstonedesign.c3lmane8vo1i.ap-northeast-2.rds.amazonaws.com',\n",
        "                        port=3306,\n",
        "                        user='admin',\n",
        "                        password='swusw2022',\n",
        "                        db='capstonedesign',\n",
        "                        charset='utf8')\n",
        "cursor=conn.cursor()\n",
        "sql=\"CREATE TABLE CARD(CardNum BIGINT NOT NULL,Card_Payment VARCHAR(50),Card_PaymentTime DATETIME,CardBalance INT,CONSTRAINT CARD_PK PRIMARY KEY (CardNum),CONSTRAINT CARD_FK FOREIGN KEY (CardNum) REFERENCES CHILD(CardNum));\"\n",
        "#sql=\"ALTER TABLE EATMEAL ADD FOREIGN KEY(ChildInfo) REFERENCES CHILD(CardNum);\"\n",
        "cursor.execute(sql) #SQL수행\n",
        "conn.commit()\n",
        "conn.close()\n"
      ],
      "metadata": {
        "id": "blTsuXFneFNN"
      },
      "execution_count": 4,
      "outputs": []
    },
    {
      "cell_type": "code",
      "source": [
        ""
      ],
      "metadata": {
        "id": "jKCagTjmfYA0"
      },
      "execution_count": null,
      "outputs": []
    }
  ]
}